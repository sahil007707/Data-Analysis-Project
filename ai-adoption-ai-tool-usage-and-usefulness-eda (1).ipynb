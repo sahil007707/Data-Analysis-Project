{
 "cells": [
  {
   "cell_type": "code",
   "execution_count": 1,
   "id": "7e9b87c5",
   "metadata": {
    "_cell_guid": "b1076dfc-b9ad-4769-8c92-a6c4dae69d19",
    "_uuid": "8f2839f25d086af736a60e9eeb907d3b93b6e0e5",
    "execution": {
     "iopub.execute_input": "2025-06-18T07:15:38.574004Z",
     "iopub.status.busy": "2025-06-18T07:15:38.573139Z",
     "iopub.status.idle": "2025-06-18T07:15:40.645872Z",
     "shell.execute_reply": "2025-06-18T07:15:40.644872Z"
    },
    "papermill": {
     "duration": 2.080657,
     "end_time": "2025-06-18T07:15:40.647324",
     "exception": false,
     "start_time": "2025-06-18T07:15:38.566667",
     "status": "completed"
    },
    "tags": []
   },
   "outputs": [
    {
     "name": "stdout",
     "output_type": "stream",
     "text": [
      "/kaggle/input/ai-tools-usage-among-global-high-school-students/ai_adoption_by_country.csv\n",
      "/kaggle/input/ai-tools-usage-among-global-high-school-students/ai_tool_usage_breakdown.csv\n",
      "/kaggle/input/ai-tools-usage-among-global-high-school-students/global_ai_tools_students_use.csv\n",
      "/kaggle/input/ai-tools-usage-among-global-high-school-students/ai_tool_usefulness_scores.csv\n"
     ]
    }
   ],
   "source": [
    "# This Python 3 environment comes with many helpful analytics libraries installed\n",
    "# It is defined by the kaggle/python Docker image: https://github.com/kaggle/docker-python\n",
    "# For example, here's several helpful packages to load\n",
    "\n",
    "import numpy as np # linear algebra\n",
    "import pandas as pd # data processing, CSV file I/O (e.g. pd.read_csv)\n",
    "\n",
    "# Input data files are available in the read-only \"../input/\" directory\n",
    "# For example, running this (by clicking run or pressing Shift+Enter) will list all files under the input directory\n",
    "\n",
    "import os\n",
    "for dirname, _, filenames in os.walk('/kaggle/input'):\n",
    "    for filename in filenames:\n",
    "        print(os.path.join(dirname, filename))\n",
    "\n",
    "# You can write up to 20GB to the current directory (/kaggle/working/) that gets preserved as output when you create a version using \"Save & Run All\" \n",
    "# You can also write temporary files to /kaggle/temp/, but they won't be saved outside of the current session"
   ]
  },
  {
   "cell_type": "markdown",
   "id": "f03e48be",
   "metadata": {
    "papermill": {
     "duration": 0.003834,
     "end_time": "2025-06-18T07:15:40.655741",
     "exception": false,
     "start_time": "2025-06-18T07:15:40.651907",
     "status": "completed"
    },
    "tags": []
   },
   "source": [
    "# Importing Libraries"
   ]
  },
  {
   "cell_type": "code",
   "execution_count": 2,
   "id": "3e0022d2",
   "metadata": {
    "execution": {
     "iopub.execute_input": "2025-06-18T07:15:40.665441Z",
     "iopub.status.busy": "2025-06-18T07:15:40.664973Z",
     "iopub.status.idle": "2025-06-18T07:15:43.831203Z",
     "shell.execute_reply": "2025-06-18T07:15:43.830184Z"
    },
    "papermill": {
     "duration": 3.172843,
     "end_time": "2025-06-18T07:15:43.832849",
     "exception": false,
     "start_time": "2025-06-18T07:15:40.660006",
     "status": "completed"
    },
    "tags": []
   },
   "outputs": [],
   "source": [
    "import pandas as pd\n",
    "import seaborn as sns\n",
    "import matplotlib.pyplot as plt\n",
    "import numpy as np\n",
    "import plotly.express as px\n",
    "pd.set_option(\"display.max_columns\",30)\n",
    "pd.set_option(\"display.max_colwidth\",None)\n",
    "import warnings\n",
    "warnings.filterwarnings(\"ignore\")"
   ]
  },
  {
   "cell_type": "markdown",
   "id": "fe4ac71c",
   "metadata": {
    "papermill": {
     "duration": 0.004854,
     "end_time": "2025-06-18T07:15:43.842007",
     "exception": false,
     "start_time": "2025-06-18T07:15:43.837153",
     "status": "completed"
    },
    "tags": []
   },
   "source": [
    "# Project\n",
    "## AI Adoption,AI Tool Usage And Usefulness Complete EDA"
   ]
  },
  {
   "cell_type": "code",
   "execution_count": 3,
   "id": "cfb6061c",
   "metadata": {
    "execution": {
     "iopub.execute_input": "2025-06-18T07:15:43.851785Z",
     "iopub.status.busy": "2025-06-18T07:15:43.851129Z",
     "iopub.status.idle": "2025-06-18T07:15:43.883977Z",
     "shell.execute_reply": "2025-06-18T07:15:43.882953Z"
    },
    "papermill": {
     "duration": 0.039344,
     "end_time": "2025-06-18T07:15:43.885714",
     "exception": false,
     "start_time": "2025-06-18T07:15:43.846370",
     "status": "completed"
    },
    "tags": []
   },
   "outputs": [],
   "source": [
    "ai_adoption=pd.read_csv(r\"/kaggle/input/ai-tools-usage-among-global-high-school-students/ai_adoption_by_country.csv\")\n",
    "ai_tool_usage=pd.read_csv(r\"/kaggle/input/ai-tools-usage-among-global-high-school-students/ai_tool_usage_breakdown.csv\")\n",
    "ai_tool_usefulness=pd.read_csv(r\"/kaggle/input/ai-tools-usage-among-global-high-school-students/ai_tool_usefulness_scores.csv\")"
   ]
  },
  {
   "cell_type": "markdown",
   "id": "e130516c",
   "metadata": {
    "papermill": {
     "duration": 0.003725,
     "end_time": "2025-06-18T07:15:43.893432",
     "exception": false,
     "start_time": "2025-06-18T07:15:43.889707",
     "status": "completed"
    },
    "tags": []
   },
   "source": [
    "# Data Info"
   ]
  },
  {
   "cell_type": "code",
   "execution_count": 4,
   "id": "93555c31",
   "metadata": {
    "execution": {
     "iopub.execute_input": "2025-06-18T07:15:43.902566Z",
     "iopub.status.busy": "2025-06-18T07:15:43.902217Z",
     "iopub.status.idle": "2025-06-18T07:15:43.929840Z",
     "shell.execute_reply": "2025-06-18T07:15:43.928935Z"
    },
    "papermill": {
     "duration": 0.033918,
     "end_time": "2025-06-18T07:15:43.931428",
     "exception": false,
     "start_time": "2025-06-18T07:15:43.897510",
     "status": "completed"
    },
    "tags": []
   },
   "outputs": [
    {
     "data": {
      "text/html": [
       "<div>\n",
       "<style scoped>\n",
       "    .dataframe tbody tr th:only-of-type {\n",
       "        vertical-align: middle;\n",
       "    }\n",
       "\n",
       "    .dataframe tbody tr th {\n",
       "        vertical-align: top;\n",
       "    }\n",
       "\n",
       "    .dataframe thead th {\n",
       "        text-align: right;\n",
       "    }\n",
       "</style>\n",
       "<table border=\"1\" class=\"dataframe\">\n",
       "  <thead>\n",
       "    <tr style=\"text-align: right;\">\n",
       "      <th></th>\n",
       "      <th>Country</th>\n",
       "      <th>AI_Adoption_Rate (%)</th>\n",
       "    </tr>\n",
       "  </thead>\n",
       "  <tbody>\n",
       "    <tr>\n",
       "      <th>0</th>\n",
       "      <td>Australia</td>\n",
       "      <td>79.2</td>\n",
       "    </tr>\n",
       "    <tr>\n",
       "      <th>1</th>\n",
       "      <td>Brazil</td>\n",
       "      <td>68.2</td>\n",
       "    </tr>\n",
       "    <tr>\n",
       "      <th>2</th>\n",
       "      <td>Canada</td>\n",
       "      <td>75.0</td>\n",
       "    </tr>\n",
       "    <tr>\n",
       "      <th>3</th>\n",
       "      <td>Germany</td>\n",
       "      <td>75.0</td>\n",
       "    </tr>\n",
       "    <tr>\n",
       "      <th>4</th>\n",
       "      <td>India</td>\n",
       "      <td>78.3</td>\n",
       "    </tr>\n",
       "    <tr>\n",
       "      <th>5</th>\n",
       "      <td>Japan</td>\n",
       "      <td>72.5</td>\n",
       "    </tr>\n",
       "    <tr>\n",
       "      <th>6</th>\n",
       "      <td>Nigeria</td>\n",
       "      <td>73.2</td>\n",
       "    </tr>\n",
       "    <tr>\n",
       "      <th>7</th>\n",
       "      <td>South Korea</td>\n",
       "      <td>73.6</td>\n",
       "    </tr>\n",
       "    <tr>\n",
       "      <th>8</th>\n",
       "      <td>UK</td>\n",
       "      <td>62.3</td>\n",
       "    </tr>\n",
       "    <tr>\n",
       "      <th>9</th>\n",
       "      <td>USA</td>\n",
       "      <td>69.8</td>\n",
       "    </tr>\n",
       "  </tbody>\n",
       "</table>\n",
       "</div>"
      ],
      "text/plain": [
       "       Country  AI_Adoption_Rate (%)\n",
       "0    Australia                  79.2\n",
       "1       Brazil                  68.2\n",
       "2       Canada                  75.0\n",
       "3      Germany                  75.0\n",
       "4        India                  78.3\n",
       "5        Japan                  72.5\n",
       "6      Nigeria                  73.2\n",
       "7  South Korea                  73.6\n",
       "8           UK                  62.3\n",
       "9          USA                  69.8"
      ]
     },
     "execution_count": 4,
     "metadata": {},
     "output_type": "execute_result"
    }
   ],
   "source": [
    "ai_adoption"
   ]
  },
  {
   "cell_type": "code",
   "execution_count": 5,
   "id": "048fa8db",
   "metadata": {
    "execution": {
     "iopub.execute_input": "2025-06-18T07:15:43.942360Z",
     "iopub.status.busy": "2025-06-18T07:15:43.942007Z",
     "iopub.status.idle": "2025-06-18T07:15:43.951733Z",
     "shell.execute_reply": "2025-06-18T07:15:43.950735Z"
    },
    "papermill": {
     "duration": 0.016705,
     "end_time": "2025-06-18T07:15:43.953341",
     "exception": false,
     "start_time": "2025-06-18T07:15:43.936636",
     "status": "completed"
    },
    "tags": []
   },
   "outputs": [
    {
     "data": {
      "text/html": [
       "<div>\n",
       "<style scoped>\n",
       "    .dataframe tbody tr th:only-of-type {\n",
       "        vertical-align: middle;\n",
       "    }\n",
       "\n",
       "    .dataframe tbody tr th {\n",
       "        vertical-align: top;\n",
       "    }\n",
       "\n",
       "    .dataframe thead th {\n",
       "        text-align: right;\n",
       "    }\n",
       "</style>\n",
       "<table border=\"1\" class=\"dataframe\">\n",
       "  <thead>\n",
       "    <tr style=\"text-align: right;\">\n",
       "      <th></th>\n",
       "      <th>Unnamed: 0</th>\n",
       "      <th>Used</th>\n",
       "      <th>Not Used</th>\n",
       "    </tr>\n",
       "  </thead>\n",
       "  <tbody>\n",
       "    <tr>\n",
       "      <th>0</th>\n",
       "      <td>uses_chatgpt</td>\n",
       "      <td>115</td>\n",
       "      <td>385</td>\n",
       "    </tr>\n",
       "    <tr>\n",
       "      <th>1</th>\n",
       "      <td>uses_gemini</td>\n",
       "      <td>123</td>\n",
       "      <td>377</td>\n",
       "    </tr>\n",
       "    <tr>\n",
       "      <th>2</th>\n",
       "      <td>uses_grammarly</td>\n",
       "      <td>122</td>\n",
       "      <td>378</td>\n",
       "    </tr>\n",
       "    <tr>\n",
       "      <th>3</th>\n",
       "      <td>uses_quillbot</td>\n",
       "      <td>122</td>\n",
       "      <td>378</td>\n",
       "    </tr>\n",
       "    <tr>\n",
       "      <th>4</th>\n",
       "      <td>uses_notion_ai</td>\n",
       "      <td>114</td>\n",
       "      <td>386</td>\n",
       "    </tr>\n",
       "    <tr>\n",
       "      <th>5</th>\n",
       "      <td>uses_phind</td>\n",
       "      <td>127</td>\n",
       "      <td>373</td>\n",
       "    </tr>\n",
       "    <tr>\n",
       "      <th>6</th>\n",
       "      <td>uses_edu_chat</td>\n",
       "      <td>105</td>\n",
       "      <td>395</td>\n",
       "    </tr>\n",
       "    <tr>\n",
       "      <th>7</th>\n",
       "      <td>uses_other</td>\n",
       "      <td>100</td>\n",
       "      <td>400</td>\n",
       "    </tr>\n",
       "  </tbody>\n",
       "</table>\n",
       "</div>"
      ],
      "text/plain": [
       "       Unnamed: 0  Used  Not Used\n",
       "0    uses_chatgpt   115       385\n",
       "1     uses_gemini   123       377\n",
       "2  uses_grammarly   122       378\n",
       "3   uses_quillbot   122       378\n",
       "4  uses_notion_ai   114       386\n",
       "5      uses_phind   127       373\n",
       "6   uses_edu_chat   105       395\n",
       "7      uses_other   100       400"
      ]
     },
     "execution_count": 5,
     "metadata": {},
     "output_type": "execute_result"
    }
   ],
   "source": [
    "ai_tool_usage"
   ]
  },
  {
   "cell_type": "code",
   "execution_count": 6,
   "id": "4cf1e9a3",
   "metadata": {
    "execution": {
     "iopub.execute_input": "2025-06-18T07:15:43.964836Z",
     "iopub.status.busy": "2025-06-18T07:15:43.964502Z",
     "iopub.status.idle": "2025-06-18T07:15:43.973873Z",
     "shell.execute_reply": "2025-06-18T07:15:43.972939Z"
    },
    "papermill": {
     "duration": 0.017194,
     "end_time": "2025-06-18T07:15:43.975727",
     "exception": false,
     "start_time": "2025-06-18T07:15:43.958533",
     "status": "completed"
    },
    "tags": []
   },
   "outputs": [
    {
     "data": {
      "text/html": [
       "<div>\n",
       "<style scoped>\n",
       "    .dataframe tbody tr th:only-of-type {\n",
       "        vertical-align: middle;\n",
       "    }\n",
       "\n",
       "    .dataframe tbody tr th {\n",
       "        vertical-align: top;\n",
       "    }\n",
       "\n",
       "    .dataframe thead th {\n",
       "        text-align: right;\n",
       "    }\n",
       "</style>\n",
       "<table border=\"1\" class=\"dataframe\">\n",
       "  <thead>\n",
       "    <tr style=\"text-align: right;\">\n",
       "      <th></th>\n",
       "      <th>Unnamed: 0</th>\n",
       "      <th>Used</th>\n",
       "      <th>Not Used</th>\n",
       "    </tr>\n",
       "  </thead>\n",
       "  <tbody>\n",
       "    <tr>\n",
       "      <th>0</th>\n",
       "      <td>uses_chatgpt</td>\n",
       "      <td>115</td>\n",
       "      <td>385</td>\n",
       "    </tr>\n",
       "    <tr>\n",
       "      <th>1</th>\n",
       "      <td>uses_gemini</td>\n",
       "      <td>123</td>\n",
       "      <td>377</td>\n",
       "    </tr>\n",
       "    <tr>\n",
       "      <th>2</th>\n",
       "      <td>uses_grammarly</td>\n",
       "      <td>122</td>\n",
       "      <td>378</td>\n",
       "    </tr>\n",
       "    <tr>\n",
       "      <th>3</th>\n",
       "      <td>uses_quillbot</td>\n",
       "      <td>122</td>\n",
       "      <td>378</td>\n",
       "    </tr>\n",
       "    <tr>\n",
       "      <th>4</th>\n",
       "      <td>uses_notion_ai</td>\n",
       "      <td>114</td>\n",
       "      <td>386</td>\n",
       "    </tr>\n",
       "    <tr>\n",
       "      <th>5</th>\n",
       "      <td>uses_phind</td>\n",
       "      <td>127</td>\n",
       "      <td>373</td>\n",
       "    </tr>\n",
       "    <tr>\n",
       "      <th>6</th>\n",
       "      <td>uses_edu_chat</td>\n",
       "      <td>105</td>\n",
       "      <td>395</td>\n",
       "    </tr>\n",
       "    <tr>\n",
       "      <th>7</th>\n",
       "      <td>uses_other</td>\n",
       "      <td>100</td>\n",
       "      <td>400</td>\n",
       "    </tr>\n",
       "  </tbody>\n",
       "</table>\n",
       "</div>"
      ],
      "text/plain": [
       "       Unnamed: 0  Used  Not Used\n",
       "0    uses_chatgpt   115       385\n",
       "1     uses_gemini   123       377\n",
       "2  uses_grammarly   122       378\n",
       "3   uses_quillbot   122       378\n",
       "4  uses_notion_ai   114       386\n",
       "5      uses_phind   127       373\n",
       "6   uses_edu_chat   105       395\n",
       "7      uses_other   100       400"
      ]
     },
     "execution_count": 6,
     "metadata": {},
     "output_type": "execute_result"
    }
   ],
   "source": [
    "ai_tool_usage"
   ]
  },
  {
   "cell_type": "code",
   "execution_count": 7,
   "id": "781a8871",
   "metadata": {
    "execution": {
     "iopub.execute_input": "2025-06-18T07:15:43.987665Z",
     "iopub.status.busy": "2025-06-18T07:15:43.987347Z",
     "iopub.status.idle": "2025-06-18T07:15:43.996627Z",
     "shell.execute_reply": "2025-06-18T07:15:43.995427Z"
    },
    "papermill": {
     "duration": 0.017866,
     "end_time": "2025-06-18T07:15:43.999611",
     "exception": false,
     "start_time": "2025-06-18T07:15:43.981745",
     "status": "completed"
    },
    "tags": []
   },
   "outputs": [
    {
     "data": {
      "text/html": [
       "<div>\n",
       "<style scoped>\n",
       "    .dataframe tbody tr th:only-of-type {\n",
       "        vertical-align: middle;\n",
       "    }\n",
       "\n",
       "    .dataframe tbody tr th {\n",
       "        vertical-align: top;\n",
       "    }\n",
       "\n",
       "    .dataframe thead th {\n",
       "        text-align: right;\n",
       "    }\n",
       "</style>\n",
       "<table border=\"1\" class=\"dataframe\">\n",
       "  <thead>\n",
       "    <tr style=\"text-align: right;\">\n",
       "      <th></th>\n",
       "      <th>AI_Tool</th>\n",
       "      <th>Average_Usefulness_Score</th>\n",
       "    </tr>\n",
       "  </thead>\n",
       "  <tbody>\n",
       "    <tr>\n",
       "      <th>0</th>\n",
       "      <td>Chatgpt</td>\n",
       "      <td>8.139130</td>\n",
       "    </tr>\n",
       "    <tr>\n",
       "      <th>1</th>\n",
       "      <td>Gemini</td>\n",
       "      <td>7.983740</td>\n",
       "    </tr>\n",
       "    <tr>\n",
       "      <th>2</th>\n",
       "      <td>Grammarly</td>\n",
       "      <td>8.008197</td>\n",
       "    </tr>\n",
       "    <tr>\n",
       "      <th>3</th>\n",
       "      <td>Quillbot</td>\n",
       "      <td>8.073770</td>\n",
       "    </tr>\n",
       "    <tr>\n",
       "      <th>4</th>\n",
       "      <td>Notion Ai</td>\n",
       "      <td>8.201754</td>\n",
       "    </tr>\n",
       "    <tr>\n",
       "      <th>5</th>\n",
       "      <td>Phind</td>\n",
       "      <td>7.858268</td>\n",
       "    </tr>\n",
       "    <tr>\n",
       "      <th>6</th>\n",
       "      <td>Edu Chat</td>\n",
       "      <td>8.114286</td>\n",
       "    </tr>\n",
       "    <tr>\n",
       "      <th>7</th>\n",
       "      <td>Other</td>\n",
       "      <td>7.960000</td>\n",
       "    </tr>\n",
       "  </tbody>\n",
       "</table>\n",
       "</div>"
      ],
      "text/plain": [
       "     AI_Tool  Average_Usefulness_Score\n",
       "0    Chatgpt                  8.139130\n",
       "1     Gemini                  7.983740\n",
       "2  Grammarly                  8.008197\n",
       "3   Quillbot                  8.073770\n",
       "4  Notion Ai                  8.201754\n",
       "5      Phind                  7.858268\n",
       "6   Edu Chat                  8.114286\n",
       "7      Other                  7.960000"
      ]
     },
     "execution_count": 7,
     "metadata": {},
     "output_type": "execute_result"
    }
   ],
   "source": [
    "ai_tool_usefulness"
   ]
  },
  {
   "cell_type": "markdown",
   "id": "70575069",
   "metadata": {
    "papermill": {
     "duration": 0.004231,
     "end_time": "2025-06-18T07:15:44.009663",
     "exception": false,
     "start_time": "2025-06-18T07:15:44.005432",
     "status": "completed"
    },
    "tags": []
   },
   "source": [
    "# Data Handling"
   ]
  },
  {
   "cell_type": "code",
   "execution_count": 8,
   "id": "d55b7536",
   "metadata": {
    "execution": {
     "iopub.execute_input": "2025-06-18T07:15:44.020767Z",
     "iopub.status.busy": "2025-06-18T07:15:44.020449Z",
     "iopub.status.idle": "2025-06-18T07:15:44.029444Z",
     "shell.execute_reply": "2025-06-18T07:15:44.028155Z"
    },
    "papermill": {
     "duration": 0.016627,
     "end_time": "2025-06-18T07:15:44.031131",
     "exception": false,
     "start_time": "2025-06-18T07:15:44.014504",
     "status": "completed"
    },
    "tags": []
   },
   "outputs": [],
   "source": [
    "ai_tool_usage.rename(columns={\"Unnamed: 0\":\"AI Tools\"},inplace=True)"
   ]
  },
  {
   "cell_type": "markdown",
   "id": "1784b187",
   "metadata": {
    "papermill": {
     "duration": 0.004102,
     "end_time": "2025-06-18T07:15:44.039987",
     "exception": false,
     "start_time": "2025-06-18T07:15:44.035885",
     "status": "completed"
    },
    "tags": []
   },
   "source": [
    "# EDA & Visualization"
   ]
  },
  {
   "cell_type": "markdown",
   "id": "57ddb842",
   "metadata": {
    "papermill": {
     "duration": 0.004108,
     "end_time": "2025-06-18T07:15:44.048615",
     "exception": false,
     "start_time": "2025-06-18T07:15:44.044507",
     "status": "completed"
    },
    "tags": []
   },
   "source": [
    "## Ai Adoption Rate By Country"
   ]
  },
  {
   "cell_type": "code",
   "execution_count": 9,
   "id": "03311091",
   "metadata": {
    "execution": {
     "iopub.execute_input": "2025-06-18T07:15:44.059714Z",
     "iopub.status.busy": "2025-06-18T07:15:44.059101Z",
     "iopub.status.idle": "2025-06-18T07:15:44.262394Z",
     "shell.execute_reply": "2025-06-18T07:15:44.261073Z"
    },
    "papermill": {
     "duration": 0.210468,
     "end_time": "2025-06-18T07:15:44.264149",
     "exception": false,
     "start_time": "2025-06-18T07:15:44.053681",
     "status": "completed"
    },
    "tags": []
   },
   "outputs": [
    {
     "data": {
      "text/html": [
       "<style type=\"text/css\">\n",
       "#T_0ac87_row0_col1 {\n",
       "  background-color: #08306b;\n",
       "  color: #f1f1f1;\n",
       "}\n",
       "#T_0ac87_row1_col1 {\n",
       "  background-color: #a6cee4;\n",
       "  color: #000000;\n",
       "}\n",
       "#T_0ac87_row2_col1, #T_0ac87_row3_col1 {\n",
       "  background-color: #2070b4;\n",
       "  color: #f1f1f1;\n",
       "}\n",
       "#T_0ac87_row4_col1 {\n",
       "  background-color: #083d7f;\n",
       "  color: #f1f1f1;\n",
       "}\n",
       "#T_0ac87_row5_col1 {\n",
       "  background-color: #4997c9;\n",
       "  color: #f1f1f1;\n",
       "}\n",
       "#T_0ac87_row6_col1 {\n",
       "  background-color: #3c8cc3;\n",
       "  color: #f1f1f1;\n",
       "}\n",
       "#T_0ac87_row7_col1 {\n",
       "  background-color: #3686c0;\n",
       "  color: #f1f1f1;\n",
       "}\n",
       "#T_0ac87_row8_col1 {\n",
       "  background-color: #f7fbff;\n",
       "  color: #000000;\n",
       "}\n",
       "#T_0ac87_row9_col1 {\n",
       "  background-color: #82bbdb;\n",
       "  color: #000000;\n",
       "}\n",
       "</style>\n",
       "<table id=\"T_0ac87\">\n",
       "  <thead>\n",
       "    <tr>\n",
       "      <th class=\"blank level0\" >&nbsp;</th>\n",
       "      <th id=\"T_0ac87_level0_col0\" class=\"col_heading level0 col0\" >Country</th>\n",
       "      <th id=\"T_0ac87_level0_col1\" class=\"col_heading level0 col1\" >AI_Adoption_Rate (%)</th>\n",
       "    </tr>\n",
       "  </thead>\n",
       "  <tbody>\n",
       "    <tr>\n",
       "      <th id=\"T_0ac87_level0_row0\" class=\"row_heading level0 row0\" >0</th>\n",
       "      <td id=\"T_0ac87_row0_col0\" class=\"data row0 col0\" >Australia</td>\n",
       "      <td id=\"T_0ac87_row0_col1\" class=\"data row0 col1\" >79.200000</td>\n",
       "    </tr>\n",
       "    <tr>\n",
       "      <th id=\"T_0ac87_level0_row1\" class=\"row_heading level0 row1\" >1</th>\n",
       "      <td id=\"T_0ac87_row1_col0\" class=\"data row1 col0\" >Brazil</td>\n",
       "      <td id=\"T_0ac87_row1_col1\" class=\"data row1 col1\" >68.200000</td>\n",
       "    </tr>\n",
       "    <tr>\n",
       "      <th id=\"T_0ac87_level0_row2\" class=\"row_heading level0 row2\" >2</th>\n",
       "      <td id=\"T_0ac87_row2_col0\" class=\"data row2 col0\" >Canada</td>\n",
       "      <td id=\"T_0ac87_row2_col1\" class=\"data row2 col1\" >75.000000</td>\n",
       "    </tr>\n",
       "    <tr>\n",
       "      <th id=\"T_0ac87_level0_row3\" class=\"row_heading level0 row3\" >3</th>\n",
       "      <td id=\"T_0ac87_row3_col0\" class=\"data row3 col0\" >Germany</td>\n",
       "      <td id=\"T_0ac87_row3_col1\" class=\"data row3 col1\" >75.000000</td>\n",
       "    </tr>\n",
       "    <tr>\n",
       "      <th id=\"T_0ac87_level0_row4\" class=\"row_heading level0 row4\" >4</th>\n",
       "      <td id=\"T_0ac87_row4_col0\" class=\"data row4 col0\" >India</td>\n",
       "      <td id=\"T_0ac87_row4_col1\" class=\"data row4 col1\" >78.300000</td>\n",
       "    </tr>\n",
       "    <tr>\n",
       "      <th id=\"T_0ac87_level0_row5\" class=\"row_heading level0 row5\" >5</th>\n",
       "      <td id=\"T_0ac87_row5_col0\" class=\"data row5 col0\" >Japan</td>\n",
       "      <td id=\"T_0ac87_row5_col1\" class=\"data row5 col1\" >72.500000</td>\n",
       "    </tr>\n",
       "    <tr>\n",
       "      <th id=\"T_0ac87_level0_row6\" class=\"row_heading level0 row6\" >6</th>\n",
       "      <td id=\"T_0ac87_row6_col0\" class=\"data row6 col0\" >Nigeria</td>\n",
       "      <td id=\"T_0ac87_row6_col1\" class=\"data row6 col1\" >73.200000</td>\n",
       "    </tr>\n",
       "    <tr>\n",
       "      <th id=\"T_0ac87_level0_row7\" class=\"row_heading level0 row7\" >7</th>\n",
       "      <td id=\"T_0ac87_row7_col0\" class=\"data row7 col0\" >South Korea</td>\n",
       "      <td id=\"T_0ac87_row7_col1\" class=\"data row7 col1\" >73.600000</td>\n",
       "    </tr>\n",
       "    <tr>\n",
       "      <th id=\"T_0ac87_level0_row8\" class=\"row_heading level0 row8\" >8</th>\n",
       "      <td id=\"T_0ac87_row8_col0\" class=\"data row8 col0\" >UK</td>\n",
       "      <td id=\"T_0ac87_row8_col1\" class=\"data row8 col1\" >62.300000</td>\n",
       "    </tr>\n",
       "    <tr>\n",
       "      <th id=\"T_0ac87_level0_row9\" class=\"row_heading level0 row9\" >9</th>\n",
       "      <td id=\"T_0ac87_row9_col0\" class=\"data row9 col0\" >USA</td>\n",
       "      <td id=\"T_0ac87_row9_col1\" class=\"data row9 col1\" >69.800000</td>\n",
       "    </tr>\n",
       "  </tbody>\n",
       "</table>\n"
      ],
      "text/plain": [
       "<pandas.io.formats.style.Styler at 0x7836c17954d0>"
      ]
     },
     "execution_count": 9,
     "metadata": {},
     "output_type": "execute_result"
    }
   ],
   "source": [
    "ai_adoption.style.background_gradient(cmap=\"Blues\")"
   ]
  },
  {
   "cell_type": "code",
   "execution_count": 10,
   "id": "c3e0eecd",
   "metadata": {
    "execution": {
     "iopub.execute_input": "2025-06-18T07:15:44.275342Z",
     "iopub.status.busy": "2025-06-18T07:15:44.274774Z",
     "iopub.status.idle": "2025-06-18T07:15:44.743305Z",
     "shell.execute_reply": "2025-06-18T07:15:44.742105Z"
    },
    "papermill": {
     "duration": 0.476093,
     "end_time": "2025-06-18T07:15:44.745170",
     "exception": false,
     "start_time": "2025-06-18T07:15:44.269077",
     "status": "completed"
    },
    "tags": []
   },
   "outputs": [
    {
     "data": {
      "image/png": "[encoded data removed]",
      "text/plain": [
       "<Figure size 1000x600 with 1 Axes>"
      ]
     },
     "metadata": {},
     "output_type": "display_data"
    }
   ],
   "source": [
    "ai_adoption\n",
    "ai_adoption=ai_adoption.sort_values(\"AI_Adoption_Rate (%)\",ascending=False)\n",
    "plt.figure(figsize=(10,6))\n",
    "sns.set_style(\"whitegrid\")\n",
    "sns.barplot(data=ai_adoption,x=\"Country\",y=\"AI_Adoption_Rate (%)\",edgecolor=\"black\",palette=\"bright\")\n",
    "plt.title(\"Ai Adoption Rate By Country\",size=15)\n",
    "plt.xlabel(\"Country\",size=12)\n",
    "plt.ylabel(\"Ai Adoption Rate By Percent %\",size=13)\n",
    "plt.grid()\n",
    "plt.show()"
   ]
  },
  {
   "cell_type": "markdown",
   "id": "4d2ace36",
   "metadata": {
    "papermill": {
     "duration": 0.006402,
     "end_time": "2025-06-18T07:15:44.757053",
     "exception": false,
     "start_time": "2025-06-18T07:15:44.750651",
     "status": "completed"
    },
    "tags": []
   },
   "source": [
    "## AI Tools Usage Classification"
   ]
  },
  {
   "cell_type": "code",
   "execution_count": 11,
   "id": "788df4d1",
   "metadata": {
    "execution": {
     "iopub.execute_input": "2025-06-18T07:15:44.769095Z",
     "iopub.status.busy": "2025-06-18T07:15:44.768804Z",
     "iopub.status.idle": "2025-06-18T07:15:44.784177Z",
     "shell.execute_reply": "2025-06-18T07:15:44.783209Z"
    },
    "papermill": {
     "duration": 0.023145,
     "end_time": "2025-06-18T07:15:44.785904",
     "exception": false,
     "start_time": "2025-06-18T07:15:44.762759",
     "status": "completed"
    },
    "tags": []
   },
   "outputs": [
    {
     "data": {
      "text/html": [
       "<style type=\"text/css\">\n",
       "#T_c1b3d_row0_col1 {\n",
       "  background-color: #f6553c;\n",
       "  color: #f1f1f1;\n",
       "}\n",
       "#T_c1b3d_row0_col2 {\n",
       "  background-color: #fb7c5c;\n",
       "  color: #f1f1f1;\n",
       "}\n",
       "#T_c1b3d_row1_col1 {\n",
       "  background-color: #ab1016;\n",
       "  color: #f1f1f1;\n",
       "}\n",
       "#T_c1b3d_row1_col2 {\n",
       "  background-color: #fedaca;\n",
       "  color: #000000;\n",
       "}\n",
       "#T_c1b3d_row2_col1, #T_c1b3d_row3_col1, #T_c1b3d_row6_col2 {\n",
       "  background-color: #b71319;\n",
       "  color: #f1f1f1;\n",
       "}\n",
       "#T_c1b3d_row2_col2, #T_c1b3d_row3_col2, #T_c1b3d_row6_col1 {\n",
       "  background-color: #fdcebb;\n",
       "  color: #000000;\n",
       "}\n",
       "#T_c1b3d_row4_col1 {\n",
       "  background-color: #f96346;\n",
       "  color: #f1f1f1;\n",
       "}\n",
       "#T_c1b3d_row4_col2 {\n",
       "  background-color: #fb7050;\n",
       "  color: #f1f1f1;\n",
       "}\n",
       "#T_c1b3d_row5_col1, #T_c1b3d_row7_col2 {\n",
       "  background-color: #67000d;\n",
       "  color: #f1f1f1;\n",
       "}\n",
       "#T_c1b3d_row5_col2, #T_c1b3d_row7_col1 {\n",
       "  background-color: #fff5f0;\n",
       "  color: #000000;\n",
       "}\n",
       "</style>\n",
       "<table id=\"T_c1b3d\">\n",
       "  <thead>\n",
       "    <tr>\n",
       "      <th class=\"blank level0\" >&nbsp;</th>\n",
       "      <th id=\"T_c1b3d_level0_col0\" class=\"col_heading level0 col0\" >AI Tools</th>\n",
       "      <th id=\"T_c1b3d_level0_col1\" class=\"col_heading level0 col1\" >Used</th>\n",
       "      <th id=\"T_c1b3d_level0_col2\" class=\"col_heading level0 col2\" >Not Used</th>\n",
       "    </tr>\n",
       "  </thead>\n",
       "  <tbody>\n",
       "    <tr>\n",
       "      <th id=\"T_c1b3d_level0_row0\" class=\"row_heading level0 row0\" >0</th>\n",
       "      <td id=\"T_c1b3d_row0_col0\" class=\"data row0 col0\" >uses_chatgpt</td>\n",
       "      <td id=\"T_c1b3d_row0_col1\" class=\"data row0 col1\" >115</td>\n",
       "      <td id=\"T_c1b3d_row0_col2\" class=\"data row0 col2\" >385</td>\n",
       "    </tr>\n",
       "    <tr>\n",
       "      <th id=\"T_c1b3d_level0_row1\" class=\"row_heading level0 row1\" >1</th>\n",
       "      <td id=\"T_c1b3d_row1_col0\" class=\"data row1 col0\" >uses_gemini</td>\n",
       "      <td id=\"T_c1b3d_row1_col1\" class=\"data row1 col1\" >123</td>\n",
       "      <td id=\"T_c1b3d_row1_col2\" class=\"data row1 col2\" >377</td>\n",
       "    </tr>\n",
       "    <tr>\n",
       "      <th id=\"T_c1b3d_level0_row2\" class=\"row_heading level0 row2\" >2</th>\n",
       "      <td id=\"T_c1b3d_row2_col0\" class=\"data row2 col0\" >uses_grammarly</td>\n",
       "      <td id=\"T_c1b3d_row2_col1\" class=\"data row2 col1\" >122</td>\n",
       "      <td id=\"T_c1b3d_row2_col2\" class=\"data row2 col2\" >378</td>\n",
       "    </tr>\n",
       "    <tr>\n",
       "      <th id=\"T_c1b3d_level0_row3\" class=\"row_heading level0 row3\" >3</th>\n",
       "      <td id=\"T_c1b3d_row3_col0\" class=\"data row3 col0\" >uses_quillbot</td>\n",
       "      <td id=\"T_c1b3d_row3_col1\" class=\"data row3 col1\" >122</td>\n",
       "      <td id=\"T_c1b3d_row3_col2\" class=\"data row3 col2\" >378</td>\n",
       "    </tr>\n",
       "    <tr>\n",
       "      <th id=\"T_c1b3d_level0_row4\" class=\"row_heading level0 row4\" >4</th>\n",
       "      <td id=\"T_c1b3d_row4_col0\" class=\"data row4 col0\" >uses_notion_ai</td>\n",
       "      <td id=\"T_c1b3d_row4_col1\" class=\"data row4 col1\" >114</td>\n",
       "      <td id=\"T_c1b3d_row4_col2\" class=\"data row4 col2\" >386</td>\n",
       "    </tr>\n",
       "    <tr>\n",
       "      <th id=\"T_c1b3d_level0_row5\" class=\"row_heading level0 row5\" >5</th>\n",
       "      <td id=\"T_c1b3d_row5_col0\" class=\"data row5 col0\" >uses_phind</td>\n",
       "      <td id=\"T_c1b3d_row5_col1\" class=\"data row5 col1\" >127</td>\n",
       "      <td id=\"T_c1b3d_row5_col2\" class=\"data row5 col2\" >373</td>\n",
       "    </tr>\n",
       "    <tr>\n",
       "      <th id=\"T_c1b3d_level0_row6\" class=\"row_heading level0 row6\" >6</th>\n",
       "      <td id=\"T_c1b3d_row6_col0\" class=\"data row6 col0\" >uses_edu_chat</td>\n",
       "      <td id=\"T_c1b3d_row6_col1\" class=\"data row6 col1\" >105</td>\n",
       "      <td id=\"T_c1b3d_row6_col2\" class=\"data row6 col2\" >395</td>\n",
       "    </tr>\n",
       "    <tr>\n",
       "      <th id=\"T_c1b3d_level0_row7\" class=\"row_heading level0 row7\" >7</th>\n",
       "      <td id=\"T_c1b3d_row7_col0\" class=\"data row7 col0\" >uses_other</td>\n",
       "      <td id=\"T_c1b3d_row7_col1\" class=\"data row7 col1\" >100</td>\n",
       "      <td id=\"T_c1b3d_row7_col2\" class=\"data row7 col2\" >400</td>\n",
       "    </tr>\n",
       "  </tbody>\n",
       "</table>\n"
      ],
      "text/plain": [
       "<pandas.io.formats.style.Styler at 0x7836c154e390>"
      ]
     },
     "execution_count": 11,
     "metadata": {},
     "output_type": "execute_result"
    }
   ],
   "source": [
    "ai_tool_usage.style.background_gradient(cmap=\"Reds\")"
   ]
  },
  {
   "cell_type": "code",
   "execution_count": 12,
   "id": "5a065a02",
   "metadata": {
    "execution": {
     "iopub.execute_input": "2025-06-18T07:15:44.798390Z",
     "iopub.status.busy": "2025-06-18T07:15:44.798023Z",
     "iopub.status.idle": "2025-06-18T07:15:45.277644Z",
     "shell.execute_reply": "2025-06-18T07:15:45.276400Z"
    },
    "papermill": {
     "duration": 0.48797,
     "end_time": "2025-06-18T07:15:45.279453",
     "exception": false,
     "start_time": "2025-06-18T07:15:44.791483",
     "status": "completed"
    },
    "tags": []
   },
   "outputs": [
    {
     "data": {
      "image/png": "[encoded data removed]",
      "text/plain": [
       "<Figure size 1800x600 with 2 Axes>"
      ]
     },
     "metadata": {},
     "output_type": "display_data"
    }
   ],
   "source": [
    "plt.figure(figsize=(18,6))\n",
    "plt.subplot(1,2,1)\n",
    "sns.barplot(data=ai_tool_usage,x=\"AI Tools\",y=\"Used\",edgecolor=\"black\",palette=\"Set1\")\n",
    "plt.xticks(rotation=45,ha=\"right\")\n",
    "plt.subplot(1,2,2)\n",
    "sns.barplot(data=ai_tool_usage,x=\"AI Tools\",y=\"Not Used\",edgecolor=\"black\",palette=\"Set3\")\n",
    "plt.xticks(rotation=45,ha=\"right\")\n",
    "plt.suptitle(\"Classification Bar Chart Of AI Tools Usage\",size=15)\n",
    "plt.show()"
   ]
  },
  {
   "cell_type": "markdown",
   "id": "1eecb08f",
   "metadata": {
    "papermill": {
     "duration": 0.005936,
     "end_time": "2025-06-18T07:15:45.292801",
     "exception": false,
     "start_time": "2025-06-18T07:15:45.286865",
     "status": "completed"
    },
    "tags": []
   },
   "source": [
    "## Average Usefulness Score Of AI Tools "
   ]
  },
  {
   "cell_type": "code",
   "execution_count": 13,
   "id": "35c5bc76",
   "metadata": {
    "execution": {
     "iopub.execute_input": "2025-06-18T07:15:45.306409Z",
     "iopub.status.busy": "2025-06-18T07:15:45.306046Z",
     "iopub.status.idle": "2025-06-18T07:15:45.319824Z",
     "shell.execute_reply": "2025-06-18T07:15:45.319080Z"
    },
    "papermill": {
     "duration": 0.022116,
     "end_time": "2025-06-18T07:15:45.321076",
     "exception": false,
     "start_time": "2025-06-18T07:15:45.298960",
     "status": "completed"
    },
    "tags": []
   },
   "outputs": [
    {
     "data": {
      "text/html": [
       "<style type=\"text/css\">\n",
       "#T_7cbb1_row0_col1 {\n",
       "  background-color: #00441b;\n",
       "  color: #f1f1f1;\n",
       "}\n",
       "#T_7cbb1_row1_col1 {\n",
       "  background-color: #107a37;\n",
       "  color: #f1f1f1;\n",
       "}\n",
       "#T_7cbb1_row2_col1 {\n",
       "  background-color: #248c46;\n",
       "  color: #f1f1f1;\n",
       "}\n",
       "#T_7cbb1_row3_col1 {\n",
       "  background-color: #40aa5d;\n",
       "  color: #f1f1f1;\n",
       "}\n",
       "#T_7cbb1_row4_col1 {\n",
       "  background-color: #8bcf89;\n",
       "  color: #000000;\n",
       "}\n",
       "#T_7cbb1_row5_col1 {\n",
       "  background-color: #a4da9e;\n",
       "  color: #000000;\n",
       "}\n",
       "#T_7cbb1_row6_col1 {\n",
       "  background-color: #bae3b3;\n",
       "  color: #000000;\n",
       "}\n",
       "#T_7cbb1_row7_col1 {\n",
       "  background-color: #f7fcf5;\n",
       "  color: #000000;\n",
       "}\n",
       "</style>\n",
       "<table id=\"T_7cbb1\">\n",
       "  <thead>\n",
       "    <tr>\n",
       "      <th class=\"blank level0\" >&nbsp;</th>\n",
       "      <th id=\"T_7cbb1_level0_col0\" class=\"col_heading level0 col0\" >AI_Tool</th>\n",
       "      <th id=\"T_7cbb1_level0_col1\" class=\"col_heading level0 col1\" >Average_Usefulness_Score</th>\n",
       "    </tr>\n",
       "  </thead>\n",
       "  <tbody>\n",
       "    <tr>\n",
       "      <th id=\"T_7cbb1_level0_row0\" class=\"row_heading level0 row0\" >4</th>\n",
       "      <td id=\"T_7cbb1_row0_col0\" class=\"data row0 col0\" >Notion Ai</td>\n",
       "      <td id=\"T_7cbb1_row0_col1\" class=\"data row0 col1\" >8.201754</td>\n",
       "    </tr>\n",
       "    <tr>\n",
       "      <th id=\"T_7cbb1_level0_row1\" class=\"row_heading level0 row1\" >0</th>\n",
       "      <td id=\"T_7cbb1_row1_col0\" class=\"data row1 col0\" >Chatgpt</td>\n",
       "      <td id=\"T_7cbb1_row1_col1\" class=\"data row1 col1\" >8.139130</td>\n",
       "    </tr>\n",
       "    <tr>\n",
       "      <th id=\"T_7cbb1_level0_row2\" class=\"row_heading level0 row2\" >6</th>\n",
       "      <td id=\"T_7cbb1_row2_col0\" class=\"data row2 col0\" >Edu Chat</td>\n",
       "      <td id=\"T_7cbb1_row2_col1\" class=\"data row2 col1\" >8.114286</td>\n",
       "    </tr>\n",
       "    <tr>\n",
       "      <th id=\"T_7cbb1_level0_row3\" class=\"row_heading level0 row3\" >3</th>\n",
       "      <td id=\"T_7cbb1_row3_col0\" class=\"data row3 col0\" >Quillbot</td>\n",
       "      <td id=\"T_7cbb1_row3_col1\" class=\"data row3 col1\" >8.073770</td>\n",
       "    </tr>\n",
       "    <tr>\n",
       "      <th id=\"T_7cbb1_level0_row4\" class=\"row_heading level0 row4\" >2</th>\n",
       "      <td id=\"T_7cbb1_row4_col0\" class=\"data row4 col0\" >Grammarly</td>\n",
       "      <td id=\"T_7cbb1_row4_col1\" class=\"data row4 col1\" >8.008197</td>\n",
       "    </tr>\n",
       "    <tr>\n",
       "      <th id=\"T_7cbb1_level0_row5\" class=\"row_heading level0 row5\" >1</th>\n",
       "      <td id=\"T_7cbb1_row5_col0\" class=\"data row5 col0\" >Gemini</td>\n",
       "      <td id=\"T_7cbb1_row5_col1\" class=\"data row5 col1\" >7.983740</td>\n",
       "    </tr>\n",
       "    <tr>\n",
       "      <th id=\"T_7cbb1_level0_row6\" class=\"row_heading level0 row6\" >7</th>\n",
       "      <td id=\"T_7cbb1_row6_col0\" class=\"data row6 col0\" >Other</td>\n",
       "      <td id=\"T_7cbb1_row6_col1\" class=\"data row6 col1\" >7.960000</td>\n",
       "    </tr>\n",
       "    <tr>\n",
       "      <th id=\"T_7cbb1_level0_row7\" class=\"row_heading level0 row7\" >5</th>\n",
       "      <td id=\"T_7cbb1_row7_col0\" class=\"data row7 col0\" >Phind</td>\n",
       "      <td id=\"T_7cbb1_row7_col1\" class=\"data row7 col1\" >7.858268</td>\n",
       "    </tr>\n",
       "  </tbody>\n",
       "</table>\n"
      ],
      "text/plain": [
       "<pandas.io.formats.style.Styler at 0x7836c171f710>"
      ]
     },
     "execution_count": 13,
     "metadata": {},
     "output_type": "execute_result"
    }
   ],
   "source": [
    "ai_tool_usefulness=ai_tool_usefulness.sort_values(\"Average_Usefulness_Score\",ascending=False)\n",
    "cmap=ai_tool_usefulness.style.background_gradient(cmap=\"Greens\")\n",
    "cmap"
   ]
  },
  {
   "cell_type": "code",
   "execution_count": 14,
   "id": "ca5773be",
   "metadata": {
    "execution": {
     "iopub.execute_input": "2025-06-18T07:15:45.336069Z",
     "iopub.status.busy": "2025-06-18T07:15:45.335756Z",
     "iopub.status.idle": "2025-06-18T07:15:45.603792Z",
     "shell.execute_reply": "2025-06-18T07:15:45.602807Z"
    },
    "papermill": {
     "duration": 0.277677,
     "end_time": "2025-06-18T07:15:45.605643",
     "exception": false,
     "start_time": "2025-06-18T07:15:45.327966",
     "status": "completed"
    },
    "tags": []
   },
   "outputs": [
    {
     "data": {
      "image/png": "[encoded data removed]",
      "text/plain": [
       "<Figure size 1000x600 with 1 Axes>"
      ]
     },
     "metadata": {},
     "output_type": "display_data"
    }
   ],
   "source": [
    "plt.figure(figsize=(10,6))\n",
    "sns.set_style(\"whitegrid\")\n",
    "sns.barplot(data=ai_tool_usefulness,x=\"AI_Tool\",y=\"Average_Usefulness_Score\",edgecolor=\"black\",palette=\"magma\")\n",
    "plt.grid()\n",
    "plt.title(\"Average Usefulness Score Of AI Tools\",size=15)\n",
    "plt.xlabel(\"AI Tools\",size=13)\n",
    "plt.ylabel(\"Average Usefulness Score\",size=13)\n",
    "plt.show()"
   ]
  }
 ],
 "metadata": {
  "kaggle": {
   "accelerator": "none",
   "dataSources": [
    {
     "datasetId": 7656698,
     "sourceId": 12161176,
     "sourceType": "datasetVersion"
    }
   ],
   "dockerImageVersionId": 31040,
   "isGpuEnabled": false,
   "isInternetEnabled": true,
   "language": "python",
   "sourceType": "notebook"
  },
  "kernelspec": {
   "display_name": "Python 3",
   "language": "python",
   "name": "python3"
  },
  "language_info": {
   "codemirror_mode": {
    "name": "ipython",
    "version": 3
   },
   "file_extension": ".py",
   "mimetype": "text/x-python",
   "name": "python",
   "nbconvert_exporter": "python",
   "pygments_lexer": "ipython3",
   "version": "3.11.11"
  },
  "papermill": {
   "default_parameters": {},
   "duration": 12.882141,
   "end_time": "2025-06-18T07:15:46.333168",
   "environment_variables": {},
   "exception": null,
   "input_path": "__notebook__.ipynb",
   "output_path": "__notebook__.ipynb",
   "parameters": {},
   "start_time": "2025-06-18T07:15:33.451027",
   "version": "2.6.0"
  }
 },
 "nbformat": 4,
 "nbformat_minor": 5
}
