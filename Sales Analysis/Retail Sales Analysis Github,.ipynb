{
 "cells": [
  {
   "cell_type": "markdown",
   "id": "2fa7cc23",
   "metadata": {},
   "source": [
    "# **🧰 Section: Importing Libraries**"
   ]
  },
  {
   "cell_type": "code",
   "execution_count": 3,
   "id": "d3847ce4",
   "metadata": {},
   "outputs": [],
   "source": [
    "import pandas as pd\n",
    "import seaborn as sns\n",
    "import matplotlib.pyplot as plt\n",
    "import plotly.express as px\n",
    "pd.set_option(\"display.max_colwidth\",300)\n",
    "pd.set_option(\"display.max_column\",30)\n"
   ]
  },
  {
   "cell_type": "markdown",
   "id": "63927fb2",
   "metadata": {},
   "source": [
    "## **Storytelling:**\n",
    "#### *Every great data story starts with gathering the right tools. Here, you're importing essential libraries for data handling and visualization:*\n",
    "\n",
    "#### *Pandas for data manipulation,*\n",
    "\n",
    "#### *Seaborn and Matplotlib for static visualizations,*\n",
    "\n",
    "#### *Plotly Express for interactive plots.*"
   ]
  },
  {
   "cell_type": "markdown",
   "id": "ab210a16",
   "metadata": {},
   "source": [
    "# **<p style=\"color:Orange;\">Project:</p>**"
   ]
  },
  {
   "cell_type": "markdown",
   "id": "381d784b",
   "metadata": {},
   "source": [
    "## **<p style=\"color:#3498db;\">📈 Section: Sales Analysis**"
   ]
  },
  {
   "cell_type": "code",
   "execution_count": 4,
   "id": "482b95ec",
   "metadata": {},
   "outputs": [],
   "source": [
    "df=pd.read_csv(r\"c:\\Users\\user\\Desktop\\Cleaned Dataset CSV\\Sales Dataset.csv\")"
   ]
  },
  {
   "cell_type": "markdown",
   "id": "eefced66",
   "metadata": {},
   "source": [
    "### `First And Last 5 rows`"
   ]
  },
  {
   "cell_type": "code",
   "execution_count": 5,
   "id": "7d19fd14",
   "metadata": {},
   "outputs": [
    {
     "data": {
      "text/html": [
       "<div>\n",
       "<style scoped>\n",
       "    .dataframe tbody tr th:only-of-type {\n",
       "        vertical-align: middle;\n",
       "    }\n",
       "\n",
       "    .dataframe tbody tr th {\n",
       "        vertical-align: top;\n",
       "    }\n",
       "\n",
       "    .dataframe thead th {\n",
       "        text-align: right;\n",
       "    }\n",
       "</style>\n",
       "<table border=\"1\" class=\"dataframe\">\n",
       "  <thead>\n",
       "    <tr style=\"text-align: right;\">\n",
       "      <th></th>\n",
       "      <th>Unnamed: 0</th>\n",
       "      <th>Date</th>\n",
       "      <th>Gender</th>\n",
       "      <th>Age</th>\n",
       "      <th>Product Category</th>\n",
       "      <th>Quantity</th>\n",
       "      <th>Price per Unit</th>\n",
       "      <th>Total Amount</th>\n",
       "    </tr>\n",
       "  </thead>\n",
       "  <tbody>\n",
       "    <tr>\n",
       "      <th>0</th>\n",
       "      <td>0</td>\n",
       "      <td>2023-11-24</td>\n",
       "      <td>Male</td>\n",
       "      <td>34</td>\n",
       "      <td>Beauty</td>\n",
       "      <td>3</td>\n",
       "      <td>50</td>\n",
       "      <td>150</td>\n",
       "    </tr>\n",
       "    <tr>\n",
       "      <th>1</th>\n",
       "      <td>1</td>\n",
       "      <td>2023-02-27</td>\n",
       "      <td>Female</td>\n",
       "      <td>26</td>\n",
       "      <td>Clothing</td>\n",
       "      <td>2</td>\n",
       "      <td>500</td>\n",
       "      <td>1000</td>\n",
       "    </tr>\n",
       "    <tr>\n",
       "      <th>2</th>\n",
       "      <td>2</td>\n",
       "      <td>2023-01-13</td>\n",
       "      <td>Male</td>\n",
       "      <td>50</td>\n",
       "      <td>Electronics</td>\n",
       "      <td>1</td>\n",
       "      <td>30</td>\n",
       "      <td>30</td>\n",
       "    </tr>\n",
       "    <tr>\n",
       "      <th>3</th>\n",
       "      <td>3</td>\n",
       "      <td>2023-05-21</td>\n",
       "      <td>Male</td>\n",
       "      <td>37</td>\n",
       "      <td>Clothing</td>\n",
       "      <td>1</td>\n",
       "      <td>500</td>\n",
       "      <td>500</td>\n",
       "    </tr>\n",
       "    <tr>\n",
       "      <th>4</th>\n",
       "      <td>4</td>\n",
       "      <td>2023-05-06</td>\n",
       "      <td>Male</td>\n",
       "      <td>30</td>\n",
       "      <td>Beauty</td>\n",
       "      <td>2</td>\n",
       "      <td>50</td>\n",
       "      <td>100</td>\n",
       "    </tr>\n",
       "  </tbody>\n",
       "</table>\n",
       "</div>"
      ],
      "text/plain": [
       "   Unnamed: 0        Date  Gender  Age Product Category  Quantity  \\\n",
       "0           0  2023-11-24    Male   34           Beauty         3   \n",
       "1           1  2023-02-27  Female   26         Clothing         2   \n",
       "2           2  2023-01-13    Male   50      Electronics         1   \n",
       "3           3  2023-05-21    Male   37         Clothing         1   \n",
       "4           4  2023-05-06    Male   30           Beauty         2   \n",
       "\n",
       "   Price per Unit  Total Amount  \n",
       "0              50           150  \n",
       "1             500          1000  \n",
       "2              30            30  \n",
       "3             500           500  \n",
       "4              50           100  "
      ]
     },
     "execution_count": 5,
     "metadata": {},
     "output_type": "execute_result"
    }
   ],
   "source": [
    "df.head()"
   ]
  },
  {
   "cell_type": "code",
   "execution_count": 6,
   "id": "e2cba540",
   "metadata": {},
   "outputs": [
    {
     "data": {
      "text/html": [
       "<div>\n",
       "<style scoped>\n",
       "    .dataframe tbody tr th:only-of-type {\n",
       "        vertical-align: middle;\n",
       "    }\n",
       "\n",
       "    .dataframe tbody tr th {\n",
       "        vertical-align: top;\n",
       "    }\n",
       "\n",
       "    .dataframe thead th {\n",
       "        text-align: right;\n",
       "    }\n",
       "</style>\n",
       "<table border=\"1\" class=\"dataframe\">\n",
       "  <thead>\n",
       "    <tr style=\"text-align: right;\">\n",
       "      <th></th>\n",
       "      <th>Unnamed: 0</th>\n",
       "      <th>Date</th>\n",
       "      <th>Gender</th>\n",
       "      <th>Age</th>\n",
       "      <th>Product Category</th>\n",
       "      <th>Quantity</th>\n",
       "      <th>Price per Unit</th>\n",
       "      <th>Total Amount</th>\n",
       "    </tr>\n",
       "  </thead>\n",
       "  <tbody>\n",
       "    <tr>\n",
       "      <th>995</th>\n",
       "      <td>995</td>\n",
       "      <td>2023-05-16</td>\n",
       "      <td>Male</td>\n",
       "      <td>62</td>\n",
       "      <td>Clothing</td>\n",
       "      <td>1</td>\n",
       "      <td>50</td>\n",
       "      <td>50</td>\n",
       "    </tr>\n",
       "    <tr>\n",
       "      <th>996</th>\n",
       "      <td>996</td>\n",
       "      <td>2023-11-17</td>\n",
       "      <td>Male</td>\n",
       "      <td>52</td>\n",
       "      <td>Beauty</td>\n",
       "      <td>3</td>\n",
       "      <td>30</td>\n",
       "      <td>90</td>\n",
       "    </tr>\n",
       "    <tr>\n",
       "      <th>997</th>\n",
       "      <td>997</td>\n",
       "      <td>2023-10-29</td>\n",
       "      <td>Female</td>\n",
       "      <td>23</td>\n",
       "      <td>Beauty</td>\n",
       "      <td>4</td>\n",
       "      <td>25</td>\n",
       "      <td>100</td>\n",
       "    </tr>\n",
       "    <tr>\n",
       "      <th>998</th>\n",
       "      <td>998</td>\n",
       "      <td>2023-12-05</td>\n",
       "      <td>Female</td>\n",
       "      <td>36</td>\n",
       "      <td>Electronics</td>\n",
       "      <td>3</td>\n",
       "      <td>50</td>\n",
       "      <td>150</td>\n",
       "    </tr>\n",
       "    <tr>\n",
       "      <th>999</th>\n",
       "      <td>999</td>\n",
       "      <td>2023-04-12</td>\n",
       "      <td>Male</td>\n",
       "      <td>47</td>\n",
       "      <td>Electronics</td>\n",
       "      <td>4</td>\n",
       "      <td>30</td>\n",
       "      <td>120</td>\n",
       "    </tr>\n",
       "  </tbody>\n",
       "</table>\n",
       "</div>"
      ],
      "text/plain": [
       "     Unnamed: 0        Date  Gender  Age Product Category  Quantity  \\\n",
       "995         995  2023-05-16    Male   62         Clothing         1   \n",
       "996         996  2023-11-17    Male   52           Beauty         3   \n",
       "997         997  2023-10-29  Female   23           Beauty         4   \n",
       "998         998  2023-12-05  Female   36      Electronics         3   \n",
       "999         999  2023-04-12    Male   47      Electronics         4   \n",
       "\n",
       "     Price per Unit  Total Amount  \n",
       "995              50            50  \n",
       "996              30            90  \n",
       "997              25           100  \n",
       "998              50           150  \n",
       "999              30           120  "
      ]
     },
     "execution_count": 6,
     "metadata": {},
     "output_type": "execute_result"
    }
   ],
   "source": [
    "df.tail()"
   ]
  },
  {
   "cell_type": "markdown",
   "id": "537b5d86",
   "metadata": {},
   "source": [
    "## **<p style=\"color:#3498db;\">🧹 Section: Data Handling and Cleaning**"
   ]
  },
  {
   "cell_type": "code",
   "execution_count": 7,
   "id": "b9251abe",
   "metadata": {},
   "outputs": [
    {
     "name": "stdout",
     "output_type": "stream",
     "text": [
      "<class 'pandas.core.frame.DataFrame'>\n",
      "RangeIndex: 1000 entries, 0 to 999\n",
      "Data columns (total 8 columns):\n",
      " #   Column            Non-Null Count  Dtype \n",
      "---  ------            --------------  ----- \n",
      " 0   Unnamed: 0        1000 non-null   int64 \n",
      " 1   Date              1000 non-null   object\n",
      " 2   Gender            1000 non-null   object\n",
      " 3   Age               1000 non-null   int64 \n",
      " 4   Product Category  1000 non-null   object\n",
      " 5   Quantity          1000 non-null   int64 \n",
      " 6   Price per Unit    1000 non-null   int64 \n",
      " 7   Total Amount      1000 non-null   int64 \n",
      "dtypes: int64(5), object(3)\n",
      "memory usage: 62.6+ KB\n"
     ]
    }
   ],
   "source": [
    "df.info()"
   ]
  },
  {
   "cell_type": "code",
   "execution_count": 8,
   "id": "8e8c7700",
   "metadata": {},
   "outputs": [],
   "source": [
    "df[\"Date\"]=pd.to_datetime(df[\"Date\"])"
   ]
  },
  {
   "cell_type": "code",
   "execution_count": 9,
   "id": "4f00451a",
   "metadata": {},
   "outputs": [
    {
     "data": {
      "text/plain": [
       "(1000, 8)"
      ]
     },
     "execution_count": 9,
     "metadata": {},
     "output_type": "execute_result"
    }
   ],
   "source": [
    "df.shape"
   ]
  },
  {
   "cell_type": "markdown",
   "id": "f3c84d7d",
   "metadata": {},
   "source": [
    "### *<p style=\"color:Orange;\">The Dataset contains 1000 rows and 8 columns*"
   ]
  },
  {
   "cell_type": "code",
   "execution_count": 10,
   "id": "66cf2bef",
   "metadata": {},
   "outputs": [
    {
     "data": {
      "text/plain": [
       "np.int64(0)"
      ]
     },
     "execution_count": 10,
     "metadata": {},
     "output_type": "execute_result"
    }
   ],
   "source": [
    "df.isna().sum()\n",
    "df.duplicated().sum()"
   ]
  },
  {
   "cell_type": "code",
   "execution_count": 11,
   "id": "2913b183",
   "metadata": {},
   "outputs": [],
   "source": [
    "df.drop(columns=[\"Unnamed: 0\"],inplace=True)"
   ]
  },
  {
   "cell_type": "code",
   "execution_count": 12,
   "id": "5dd080bb",
   "metadata": {},
   "outputs": [],
   "source": [
    "df.rename(columns={\"Total Amount\": \"Total Sales\"}, inplace=True)"
   ]
  },
  {
   "cell_type": "markdown",
   "id": "29c098bb",
   "metadata": {},
   "source": [
    "## **<p style=\"color:#3498db;\">EDA & Visualization**"
   ]
  },
  {
   "cell_type": "code",
   "execution_count": 13,
   "id": "31e5911d",
   "metadata": {},
   "outputs": [
    {
     "data": {
      "image/png": "[encoded data removed]",
      "text/plain": [
       "<Figure size 800x600 with 1 Axes>"
      ]
     },
     "metadata": {},
     "output_type": "display_data"
    }
   ],
   "source": [
    "gender_counts=df[\"Gender\"].value_counts()\n",
    "plt.figure(figsize=(8,6))\n",
    "plt.pie(gender_counts,labels=gender_counts.index,autopct=\"%1.1f%%\",startangle=90,colors=[\"pink\",\"red\"])\n",
    "plt.title(\"Gender Classification\",fontsize=15)\n",
    "plt.show()"
   ]
  },
  {
   "cell_type": "markdown",
   "id": "14049498",
   "metadata": {},
   "source": [
    "### `Average Age Of Customers By Their Gender`"
   ]
  },
  {
   "cell_type": "code",
   "execution_count": 14,
   "id": "3178ce8a",
   "metadata": {},
   "outputs": [
    {
     "data": {
      "text/plain": [
       "<Figure size 800x600 with 0 Axes>"
      ]
     },
     "metadata": {},
     "output_type": "display_data"
    },
    {
     "data": {
      "image/png": "[encoded data removed]",
      "text/plain": [
       "<Figure size 500x500 with 1 Axes>"
      ]
     },
     "metadata": {},
     "output_type": "display_data"
    }
   ],
   "source": [
    "classifi_age=df.groupby(\"Gender\")[\"Age\"].mean().reset_index()\n",
    "classifi_age\n",
    "plt.figure(figsize=(8,6))\n",
    "sns.set_style(\"whitegrid\")\n",
    "sns.catplot(data=classifi_age,x=\"Gender\",y=\"Age\",hue=\"Gender\")\n",
    "plt.title(\"Gender Classification By Customers By Their Average Age\",fontsize=13)\n",
    "plt.show()\n"
   ]
  },
  {
   "cell_type": "markdown",
   "id": "36806956",
   "metadata": {},
   "source": [
    "### *<p style=\"color:Orange;\">As we can see almost the same average age between two genders*"
   ]
  },
  {
   "cell_type": "code",
   "execution_count": 15,
   "id": "1fb90b99",
   "metadata": {},
   "outputs": [
    {
     "data": {
      "text/html": [
       "<style type=\"text/css\">\n",
       "#T_3e2f7_row0_col2, #T_3e2f7_row3_col3 {\n",
       "  background-color: #fff5eb;\n",
       "  color: #000000;\n",
       "}\n",
       "#T_3e2f7_row0_col3 {\n",
       "  background-color: #ec620f;\n",
       "  color: #f1f1f1;\n",
       "}\n",
       "#T_3e2f7_row1_col2, #T_3e2f7_row4_col3 {\n",
       "  background-color: #7f2704;\n",
       "  color: #f1f1f1;\n",
       "}\n",
       "#T_3e2f7_row1_col3 {\n",
       "  background-color: #a43503;\n",
       "  color: #f1f1f1;\n",
       "}\n",
       "#T_3e2f7_row2_col2 {\n",
       "  background-color: #fff0e1;\n",
       "  color: #000000;\n",
       "}\n",
       "#T_3e2f7_row2_col3 {\n",
       "  background-color: #ab3803;\n",
       "  color: #f1f1f1;\n",
       "}\n",
       "#T_3e2f7_row3_col2 {\n",
       "  background-color: #fff4e8;\n",
       "  color: #000000;\n",
       "}\n",
       "#T_3e2f7_row4_col2 {\n",
       "  background-color: #fee3c8;\n",
       "  color: #000000;\n",
       "}\n",
       "#T_3e2f7_row5_col2 {\n",
       "  background-color: #942f03;\n",
       "  color: #f1f1f1;\n",
       "}\n",
       "#T_3e2f7_row5_col3 {\n",
       "  background-color: #f67925;\n",
       "  color: #f1f1f1;\n",
       "}\n",
       "</style>\n",
       "<table id=\"T_3e2f7\">\n",
       "  <thead>\n",
       "    <tr>\n",
       "      <th class=\"blank level0\" >&nbsp;</th>\n",
       "      <th id=\"T_3e2f7_level0_col0\" class=\"col_heading level0 col0\" >Gender</th>\n",
       "      <th id=\"T_3e2f7_level0_col1\" class=\"col_heading level0 col1\" >Product Category</th>\n",
       "      <th id=\"T_3e2f7_level0_col2\" class=\"col_heading level0 col2\" >Age</th>\n",
       "      <th id=\"T_3e2f7_level0_col3\" class=\"col_heading level0 col3\" >Quantity</th>\n",
       "    </tr>\n",
       "  </thead>\n",
       "  <tbody>\n",
       "    <tr>\n",
       "      <th id=\"T_3e2f7_level0_row0\" class=\"row_heading level0 row0\" >0</th>\n",
       "      <td id=\"T_3e2f7_row0_col0\" class=\"data row0 col0\" >Female</td>\n",
       "      <td id=\"T_3e2f7_row0_col1\" class=\"data row0 col1\" >Beauty</td>\n",
       "      <td id=\"T_3e2f7_row0_col2\" class=\"data row0 col2\" >40.355422</td>\n",
       "      <td id=\"T_3e2f7_row0_col3\" class=\"data row0 col3\" >418</td>\n",
       "    </tr>\n",
       "    <tr>\n",
       "      <th id=\"T_3e2f7_level0_row1\" class=\"row_heading level0 row1\" >1</th>\n",
       "      <td id=\"T_3e2f7_row1_col0\" class=\"data row1 col0\" >Female</td>\n",
       "      <td id=\"T_3e2f7_row1_col1\" class=\"data row1 col1\" >Clothing</td>\n",
       "      <td id=\"T_3e2f7_row1_col2\" class=\"data row1 col2\" >43.166667</td>\n",
       "      <td id=\"T_3e2f7_row1_col3\" class=\"data row1 col3\" >441</td>\n",
       "    </tr>\n",
       "    <tr>\n",
       "      <th id=\"T_3e2f7_level0_row2\" class=\"row_heading level0 row2\" >2</th>\n",
       "      <td id=\"T_3e2f7_row2_col0\" class=\"data row2 col0\" >Female</td>\n",
       "      <td id=\"T_3e2f7_row2_col1\" class=\"data row2 col1\" >Electronics</td>\n",
       "      <td id=\"T_3e2f7_row2_col2\" class=\"data row2 col2\" >40.482353</td>\n",
       "      <td id=\"T_3e2f7_row2_col3\" class=\"data row2 col3\" >439</td>\n",
       "    </tr>\n",
       "    <tr>\n",
       "      <th id=\"T_3e2f7_level0_row3\" class=\"row_heading level0 row3\" >3</th>\n",
       "      <td id=\"T_3e2f7_row3_col0\" class=\"data row3 col0\" >Male</td>\n",
       "      <td id=\"T_3e2f7_row3_col1\" class=\"data row3 col1\" >Beauty</td>\n",
       "      <td id=\"T_3e2f7_row3_col2\" class=\"data row3 col2\" >40.390071</td>\n",
       "      <td id=\"T_3e2f7_row3_col3\" class=\"data row3 col3\" >353</td>\n",
       "    </tr>\n",
       "    <tr>\n",
       "      <th id=\"T_3e2f7_level0_row4\" class=\"row_heading level0 row4\" >4</th>\n",
       "      <td id=\"T_3e2f7_row4_col0\" class=\"data row4 col0\" >Male</td>\n",
       "      <td id=\"T_3e2f7_row4_col1\" class=\"data row4 col1\" >Clothing</td>\n",
       "      <td id=\"T_3e2f7_row4_col2\" class=\"data row4 col2\" >40.751412</td>\n",
       "      <td id=\"T_3e2f7_row4_col3\" class=\"data row4 col3\" >453</td>\n",
       "    </tr>\n",
       "    <tr>\n",
       "      <th id=\"T_3e2f7_level0_row5\" class=\"row_heading level0 row5\" >5</th>\n",
       "      <td id=\"T_3e2f7_row5_col0\" class=\"data row5 col0\" >Male</td>\n",
       "      <td id=\"T_3e2f7_row5_col1\" class=\"data row5 col1\" >Electronics</td>\n",
       "      <td id=\"T_3e2f7_row5_col2\" class=\"data row5 col2\" >42.976744</td>\n",
       "      <td id=\"T_3e2f7_row5_col3\" class=\"data row5 col3\" >410</td>\n",
       "    </tr>\n",
       "  </tbody>\n",
       "</table>\n"
      ],
      "text/plain": [
       "<pandas.io.formats.style.Styler at 0x24ac7491d30>"
      ]
     },
     "execution_count": 15,
     "metadata": {},
     "output_type": "execute_result"
    }
   ],
   "source": [
    "classifi_g=df.groupby([\"Gender\",\"Product Category\"]).agg({\n",
    "    \"Age\":\"mean\",\n",
    "    \"Quantity\":\"sum\"\n",
    "}).reset_index()\n",
    "classifi_g.style.background_gradient(cmap=\"Oranges\")"
   ]
  },
  {
   "cell_type": "markdown",
   "id": "399e3dc9",
   "metadata": {},
   "source": [
    "### `How Many Product People Bought By Category And The Average Age Of Each Gender`"
   ]
  },
  {
   "cell_type": "code",
   "execution_count": 16,
   "id": "2c01e410",
   "metadata": {},
   "outputs": [
    {
     "data": {
      "image/png": "[encoded data removed]",
      "text/plain": [
       "<Figure size 1500x500 with 2 Axes>"
      ]
     },
     "metadata": {},
     "output_type": "display_data"
    }
   ],
   "source": [
    "classifi_g=df.groupby([\"Gender\",\"Product Category\"]).agg({\n",
    "    \"Age\":\"mean\",\n",
    "    \"Quantity\":\"sum\"\n",
    "}).reset_index()\n",
    "plt.figure(figsize=(15,5))\n",
    "plt.subplot(1,2,1)\n",
    "sns.barplot(data=classifi_g,x=\"Product Category\",y=\"Quantity\",hue=\"Gender\",palette=\"PiYG\")\n",
    "plt.title(\"How Many Product People Bought By Category \",fontsize=13)\n",
    "plt.xlabel(\"Product Categories\")\n",
    "plt.ylabel(\"Quantity\")\n",
    "\n",
    "\n",
    "plt.subplot(1,2,2)\n",
    "sns.barplot(data=classifi_g,x=\"Product Category\",y=\"Age\",hue=\"Gender\",palette=\"plasma\")\n",
    "plt.title(\"The Average Age Of People Who Bought The Products Per Category\",fontsize=13)\n",
    "plt.xlabel(\"Product Categories\")\n",
    "plt.ylabel(\"Average Age\")\n",
    "plt.show()\n"
   ]
  },
  {
   "cell_type": "markdown",
   "id": "c5bb759e",
   "metadata": {},
   "source": [
    "### `Total Sales Per Product Categorry`"
   ]
  },
  {
   "cell_type": "code",
   "execution_count": 17,
   "id": "bfd07905",
   "metadata": {},
   "outputs": [
    {
     "data": {
      "text/html": [
       "<style type=\"text/css\">\n",
       "#T_3e4f7_row0_col2 {\n",
       "  background-color: #00441b;\n",
       "  color: #f1f1f1;\n",
       "}\n",
       "#T_3e4f7_row1_col2 {\n",
       "  background-color: #006027;\n",
       "  color: #f1f1f1;\n",
       "}\n",
       "#T_3e4f7_row2_col2 {\n",
       "  background-color: #3ea75a;\n",
       "  color: #f1f1f1;\n",
       "}\n",
       "#T_3e4f7_row3_col2 {\n",
       "  background-color: #79c67a;\n",
       "  color: #000000;\n",
       "}\n",
       "#T_3e4f7_row4_col2 {\n",
       "  background-color: #87cd86;\n",
       "  color: #000000;\n",
       "}\n",
       "#T_3e4f7_row5_col2 {\n",
       "  background-color: #f7fcf5;\n",
       "  color: #000000;\n",
       "}\n",
       "</style>\n",
       "<table id=\"T_3e4f7\">\n",
       "  <thead>\n",
       "    <tr>\n",
       "      <th class=\"blank level0\" >&nbsp;</th>\n",
       "      <th id=\"T_3e4f7_level0_col0\" class=\"col_heading level0 col0\" >Gender</th>\n",
       "      <th id=\"T_3e4f7_level0_col1\" class=\"col_heading level0 col1\" >Product Category</th>\n",
       "      <th id=\"T_3e4f7_level0_col2\" class=\"col_heading level0 col2\" >Total Sales</th>\n",
       "    </tr>\n",
       "  </thead>\n",
       "  <tbody>\n",
       "    <tr>\n",
       "      <th id=\"T_3e4f7_level0_row0\" class=\"row_heading level0 row0\" >0</th>\n",
       "      <td id=\"T_3e4f7_row0_col0\" class=\"data row0 col0\" >Female</td>\n",
       "      <td id=\"T_3e4f7_row0_col1\" class=\"data row0 col1\" >Clothing</td>\n",
       "      <td id=\"T_3e4f7_row0_col2\" class=\"data row0 col2\" >81275</td>\n",
       "    </tr>\n",
       "    <tr>\n",
       "      <th id=\"T_3e4f7_level0_row1\" class=\"row_heading level0 row1\" >1</th>\n",
       "      <td id=\"T_3e4f7_row1_col0\" class=\"data row1 col0\" >Male</td>\n",
       "      <td id=\"T_3e4f7_row1_col1\" class=\"data row1 col1\" >Electronics</td>\n",
       "      <td id=\"T_3e4f7_row1_col2\" class=\"data row1 col2\" >80170</td>\n",
       "    </tr>\n",
       "    <tr>\n",
       "      <th id=\"T_3e4f7_level0_row2\" class=\"row_heading level0 row2\" >2</th>\n",
       "      <td id=\"T_3e4f7_row2_col0\" class=\"data row2 col0\" >Female</td>\n",
       "      <td id=\"T_3e4f7_row2_col1\" class=\"data row2 col1\" >Electronics</td>\n",
       "      <td id=\"T_3e4f7_row2_col2\" class=\"data row2 col2\" >76735</td>\n",
       "    </tr>\n",
       "    <tr>\n",
       "      <th id=\"T_3e4f7_level0_row3\" class=\"row_heading level0 row3\" >3</th>\n",
       "      <td id=\"T_3e4f7_row3_col0\" class=\"data row3 col0\" >Female</td>\n",
       "      <td id=\"T_3e4f7_row3_col1\" class=\"data row3 col1\" >Beauty</td>\n",
       "      <td id=\"T_3e4f7_row3_col2\" class=\"data row3 col2\" >74830</td>\n",
       "    </tr>\n",
       "    <tr>\n",
       "      <th id=\"T_3e4f7_level0_row4\" class=\"row_heading level0 row4\" >4</th>\n",
       "      <td id=\"T_3e4f7_row4_col0\" class=\"data row4 col0\" >Male</td>\n",
       "      <td id=\"T_3e4f7_row4_col1\" class=\"data row4 col1\" >Clothing</td>\n",
       "      <td id=\"T_3e4f7_row4_col2\" class=\"data row4 col2\" >74305</td>\n",
       "    </tr>\n",
       "    <tr>\n",
       "      <th id=\"T_3e4f7_level0_row5\" class=\"row_heading level0 row5\" >5</th>\n",
       "      <td id=\"T_3e4f7_row5_col0\" class=\"data row5 col0\" >Male</td>\n",
       "      <td id=\"T_3e4f7_row5_col1\" class=\"data row5 col1\" >Beauty</td>\n",
       "      <td id=\"T_3e4f7_row5_col2\" class=\"data row5 col2\" >68685</td>\n",
       "    </tr>\n",
       "  </tbody>\n",
       "</table>\n"
      ],
      "text/plain": [
       "<pandas.io.formats.style.Styler at 0x24aca9e6fc0>"
      ]
     },
     "execution_count": 17,
     "metadata": {},
     "output_type": "execute_result"
    }
   ],
   "source": [
    "classifi_sale=df.groupby([\"Gender\",\"Product Category\"])[\"Total Sales\"].sum().sort_values(ascending=False).reset_index()\n",
    "classifi_sale.style.background_gradient(cmap=\"Greens\")"
   ]
  },
  {
   "cell_type": "code",
   "execution_count": 18,
   "id": "0f48f96c",
   "metadata": {},
   "outputs": [
    {
     "data": {
      "application/vnd.plotly.v1+json": {
       "config": {
        "plotlyServerURL": "https://plot.ly"
       },
       "data": [
        {
         "hovertemplate": "Gender=Female<br>Product Category=%{x}<br>Total Sales=%{y}<extra></extra>",
         "legendgroup": "Female",
         "marker": {
          "color": "#636efa",
          "pattern": {
           "shape": ""
          }
         },
         "name": "Female",
         "orientation": "v",
         "showlegend": true,
         "textposition": "auto",
         "type": "bar",
         "x": [
          "Beauty",
          "Clothing",
          "Electronics"
         ],
         "xaxis": "x",
         "y": {
          "bdata": "TiQBAHs9AQC/KwEA",
          "dtype": "i4"
         },
         "yaxis": "y"
        },
        {
         "hovertemplate": "Gender=Male<br>Product Category=%{x}<br>Total Sales=%{y}<extra></extra>",
         "legendgroup": "Male",
         "marker": {
          "color": "#EF553B",
          "pattern": {
           "shape": ""
          }
         },
         "name": "Male",
         "orientation": "v",
         "showlegend": true,
         "textposition": "auto",
         "type": "bar",
         "x": [
          "Beauty",
          "Clothing",
          "Electronics"
         ],
         "xaxis": "x",
         "y": {
          "bdata": "TQwBAEEiAQAqOQEA",
          "dtype": "i4"
         },
         "yaxis": "y"
        }
       ],
       "layout": {
        "barmode": "relative",
        "height": 500,
        "legend": {
         "title": {
          "text": "Gender"
         },
         "tracegroupgap": 0
        },
        "template": {
         "data": {
          "bar": [
           {
            "error_x": {
             "color": "#2a3f5f"
            },
            "error_y": {
             "color": "#2a3f5f"
            },
            "marker": {
             "line": {
              "color": "#E5ECF6",
              "width": 0.5
             },
             "pattern": {
              "fillmode": "overlay",
              "size": 10,
              "solidity": 0.2
             }
            },
            "type": "bar"
           }
          ],
          "barpolar": [
           {
            "marker": {
             "line": {
              "color": "#E5ECF6",
              "width": 0.5
             },
             "pattern": {
              "fillmode": "overlay",
              "size": 10,
              "solidity": 0.2
             }
            },
            "type": "barpolar"
           }
          ],
          "carpet": [
           {
            "aaxis": {
             "endlinecolor": "#2a3f5f",
             "gridcolor": "white",
             "linecolor": "white",
             "minorgridcolor": "white",
             "startlinecolor": "#2a3f5f"
            },
            "baxis": {
             "endlinecolor": "#2a3f5f",
             "gridcolor": "white",
             "linecolor": "white",
             "minorgridcolor": "white",
             "startlinecolor": "#2a3f5f"
            },
            "type": "carpet"
           }
          ],
          "choropleth": [
           {
            "colorbar": {
             "outlinewidth": 0,
             "ticks": ""
            },
            "type": "choropleth"
           }
          ],
          "contour": [
           {
            "colorbar": {
             "outlinewidth": 0,
             "ticks": ""
            },
            "colorscale": [
             [
              0,
              "#0d0887"
             ],
             [
              0.1111111111111111,
              "#46039f"
             ],
             [
              0.2222222222222222,
              "#7201a8"
             ],
             [
              0.3333333333333333,
              "#9c179e"
             ],
             [
              0.4444444444444444,
              "#bd3786"
             ],
             [
              0.5555555555555556,
              "#d8576b"
             ],
             [
              0.6666666666666666,
              "#ed7953"
             ],
             [
              0.7777777777777778,
              "#fb9f3a"
             ],
             [
              0.8888888888888888,
              "#fdca26"
             ],
             [
              1,
              "#f0f921"
             ]
            ],
            "type": "contour"
           }
          ],
          "contourcarpet": [
           {
            "colorbar": {
             "outlinewidth": 0,
             "ticks": ""
            },
            "type": "contourcarpet"
           }
          ],
          "heatmap": [
           {
            "colorbar": {
             "outlinewidth": 0,
             "ticks": ""
            },
            "colorscale": [
             [
              0,
              "#0d0887"
             ],
             [
              0.1111111111111111,
              "#46039f"
             ],
             [
              0.2222222222222222,
              "#7201a8"
             ],
             [
              0.3333333333333333,
              "#9c179e"
             ],
             [
              0.4444444444444444,
              "#bd3786"
             ],
             [
              0.5555555555555556,
              "#d8576b"
             ],
             [
              0.6666666666666666,
              "#ed7953"
             ],
             [
              0.7777777777777778,
              "#fb9f3a"
             ],
             [
              0.8888888888888888,
              "#fdca26"
             ],
             [
              1,
              "#f0f921"
             ]
            ],
            "type": "heatmap"
           }
          ],
          "histogram": [
           {
            "marker": {
             "pattern": {
              "fillmode": "overlay",
              "size": 10,
              "solidity": 0.2
             }
            },
            "type": "histogram"
           }
          ],
          "histogram2d": [
           {
            "colorbar": {
             "outlinewidth": 0,
             "ticks": ""
            },
            "colorscale": [
             [
              0,
              "#0d0887"
             ],
             [
              0.1111111111111111,
              "#46039f"
             ],
             [
              0.2222222222222222,
              "#7201a8"
             ],
             [
              0.3333333333333333,
              "#9c179e"
             ],
             [
              0.4444444444444444,
              "#bd3786"
             ],
             [
              0.5555555555555556,
              "#d8576b"
             ],
             [
              0.6666666666666666,
              "#ed7953"
             ],
             [
              0.7777777777777778,
              "#fb9f3a"
             ],
             [
              0.8888888888888888,
              "#fdca26"
             ],
             [
              1,
              "#f0f921"
             ]
            ],
            "type": "histogram2d"
           }
          ],
          "histogram2dcontour": [
           {
            "colorbar": {
             "outlinewidth": 0,
             "ticks": ""
            },
            "colorscale": [
             [
              0,
              "#0d0887"
             ],
             [
              0.1111111111111111,
              "#46039f"
             ],
             [
              0.2222222222222222,
              "#7201a8"
             ],
             [
              0.3333333333333333,
              "#9c179e"
             ],
             [
              0.4444444444444444,
              "#bd3786"
             ],
             [
              0.5555555555555556,
              "#d8576b"
             ],
             [
              0.6666666666666666,
              "#ed7953"
             ],
             [
              0.7777777777777778,
              "#fb9f3a"
             ],
             [
              0.8888888888888888,
              "#fdca26"
             ],
             [
              1,
              "#f0f921"
             ]
            ],
            "type": "histogram2dcontour"
           }
          ],
          "mesh3d": [
           {
            "colorbar": {
             "outlinewidth": 0,
             "ticks": ""
            },
            "type": "mesh3d"
           }
          ],
          "parcoords": [
           {
            "line": {
             "colorbar": {
              "outlinewidth": 0,
              "ticks": ""
             }
            },
            "type": "parcoords"
           }
          ],
          "pie": [
           {
            "automargin": true,
            "type": "pie"
           }
          ],
          "scatter": [
           {
            "fillpattern": {
             "fillmode": "overlay",
             "size": 10,
             "solidity": 0.2
            },
            "type": "scatter"
           }
          ],
          "scatter3d": [
           {
            "line": {
             "colorbar": {
              "outlinewidth": 0,
              "ticks": ""
             }
            },
            "marker": {
             "colorbar": {
              "outlinewidth": 0,
              "ticks": ""
             }
            },
            "type": "scatter3d"
           }
          ],
          "scattercarpet": [
           {
            "marker": {
             "colorbar": {
              "outlinewidth": 0,
              "ticks": ""
             }
            },
            "type": "scattercarpet"
           }
          ],
          "scattergeo": [
           {
            "marker": {
             "colorbar": {
              "outlinewidth": 0,
              "ticks": ""
             }
            },
            "type": "scattergeo"
           }
          ],
          "scattergl": [
           {
            "marker": {
             "colorbar": {
              "outlinewidth": 0,
              "ticks": ""
             }
            },
            "type": "scattergl"
           }
          ],
          "scattermap": [
           {
            "marker": {
             "colorbar": {
              "outlinewidth": 0,
              "ticks": ""
             }
            },
            "type": "scattermap"
           }
          ],
          "scattermapbox": [
           {
            "marker": {
             "colorbar": {
              "outlinewidth": 0,
              "ticks": ""
             }
            },
            "type": "scattermapbox"
           }
          ],
          "scatterpolar": [
           {
            "marker": {
             "colorbar": {
              "outlinewidth": 0,
              "ticks": ""
             }
            },
            "type": "scatterpolar"
           }
          ],
          "scatterpolargl": [
           {
            "marker": {
             "colorbar": {
              "outlinewidth": 0,
              "ticks": ""
             }
            },
            "type": "scatterpolargl"
           }
          ],
          "scatterternary": [
           {
            "marker": {
             "colorbar": {
              "outlinewidth": 0,
              "ticks": ""
             }
            },
            "type": "scatterternary"
           }
          ],
          "surface": [
           {
            "colorbar": {
             "outlinewidth": 0,
             "ticks": ""
            },
            "colorscale": [
             [
              0,
              "#0d0887"
             ],
             [
              0.1111111111111111,
              "#46039f"
             ],
             [
              0.2222222222222222,
              "#7201a8"
             ],
             [
              0.3333333333333333,
              "#9c179e"
             ],
             [
              0.4444444444444444,
              "#bd3786"
             ],
             [
              0.5555555555555556,
              "#d8576b"
             ],
             [
              0.6666666666666666,
              "#ed7953"
             ],
             [
              0.7777777777777778,
              "#fb9f3a"
             ],
             [
              0.8888888888888888,
              "#fdca26"
             ],
             [
              1,
              "#f0f921"
             ]
            ],
            "type": "surface"
           }
          ],
          "table": [
           {
            "cells": {
             "fill": {
              "color": "#EBF0F8"
             },
             "line": {
              "color": "white"
             }
            },
            "header": {
             "fill": {
              "color": "#C8D4E3"
             },
             "line": {
              "color": "white"
             }
            },
            "type": "table"
           }
          ]
         },
         "layout": {
          "annotationdefaults": {
           "arrowcolor": "#2a3f5f",
           "arrowhead": 0,
           "arrowwidth": 1
          },
          "autotypenumbers": "strict",
          "coloraxis": {
           "colorbar": {
            "outlinewidth": 0,
            "ticks": ""
           }
          },
          "colorscale": {
           "diverging": [
            [
             0,
             "#8e0152"
            ],
            [
             0.1,
             "#c51b7d"
            ],
            [
             0.2,
             "#de77ae"
            ],
            [
             0.3,
             "#f1b6da"
            ],
            [
             0.4,
             "#fde0ef"
            ],
            [
             0.5,
             "#f7f7f7"
            ],
            [
             0.6,
             "#e6f5d0"
            ],
            [
             0.7,
             "#b8e186"
            ],
            [
             0.8,
             "#7fbc41"
            ],
            [
             0.9,
             "#4d9221"
            ],
            [
             1,
             "#276419"
            ]
           ],
           "sequential": [
            [
             0,
             "#0d0887"
            ],
            [
             0.1111111111111111,
             "#46039f"
            ],
            [
             0.2222222222222222,
             "#7201a8"
            ],
            [
             0.3333333333333333,
             "#9c179e"
            ],
            [
             0.4444444444444444,
             "#bd3786"
            ],
            [
             0.5555555555555556,
             "#d8576b"
            ],
            [
             0.6666666666666666,
             "#ed7953"
            ],
            [
             0.7777777777777778,
             "#fb9f3a"
            ],
            [
             0.8888888888888888,
             "#fdca26"
            ],
            [
             1,
             "#f0f921"
            ]
           ],
           "sequentialminus": [
            [
             0,
             "#0d0887"
            ],
            [
             0.1111111111111111,
             "#46039f"
            ],
            [
             0.2222222222222222,
             "#7201a8"
            ],
            [
             0.3333333333333333,
             "#9c179e"
            ],
            [
             0.4444444444444444,
             "#bd3786"
            ],
            [
             0.5555555555555556,
             "#d8576b"
            ],
            [
             0.6666666666666666,
             "#ed7953"
            ],
            [
             0.7777777777777778,
             "#fb9f3a"
            ],
            [
             0.8888888888888888,
             "#fdca26"
            ],
            [
             1,
             "#f0f921"
            ]
           ]
          },
          "colorway": [
           "#636efa",
           "#EF553B",
           "#00cc96",
           "#ab63fa",
           "#FFA15A",
           "#19d3f3",
           "#FF6692",
           "#B6E880",
           "#FF97FF",
           "#FECB52"
          ],
          "font": {
           "color": "#2a3f5f"
          },
          "geo": {
           "bgcolor": "white",
           "lakecolor": "white",
           "landcolor": "#E5ECF6",
           "showlakes": true,
           "showland": true,
           "subunitcolor": "white"
          },
          "hoverlabel": {
           "align": "left"
          },
          "hovermode": "closest",
          "mapbox": {
           "style": "light"
          },
          "paper_bgcolor": "white",
          "plot_bgcolor": "#E5ECF6",
          "polar": {
           "angularaxis": {
            "gridcolor": "white",
            "linecolor": "white",
            "ticks": ""
           },
           "bgcolor": "#E5ECF6",
           "radialaxis": {
            "gridcolor": "white",
            "linecolor": "white",
            "ticks": ""
           }
          },
          "scene": {
           "xaxis": {
            "backgroundcolor": "#E5ECF6",
            "gridcolor": "white",
            "gridwidth": 2,
            "linecolor": "white",
            "showbackground": true,
            "ticks": "",
            "zerolinecolor": "white"
           },
           "yaxis": {
            "backgroundcolor": "#E5ECF6",
            "gridcolor": "white",
            "gridwidth": 2,
            "linecolor": "white",
            "showbackground": true,
            "ticks": "",
            "zerolinecolor": "white"
           },
           "zaxis": {
            "backgroundcolor": "#E5ECF6",
            "gridcolor": "white",
            "gridwidth": 2,
            "linecolor": "white",
            "showbackground": true,
            "ticks": "",
            "zerolinecolor": "white"
           }
          },
          "shapedefaults": {
           "line": {
            "color": "#2a3f5f"
           }
          },
          "ternary": {
           "aaxis": {
            "gridcolor": "white",
            "linecolor": "white",
            "ticks": ""
           },
           "baxis": {
            "gridcolor": "white",
            "linecolor": "white",
            "ticks": ""
           },
           "bgcolor": "#E5ECF6",
           "caxis": {
            "gridcolor": "white",
            "linecolor": "white",
            "ticks": ""
           }
          },
          "title": {
           "x": 0.05
          },
          "xaxis": {
           "automargin": true,
           "gridcolor": "white",
           "linecolor": "white",
           "ticks": "",
           "title": {
            "standoff": 15
           },
           "zerolinecolor": "white",
           "zerolinewidth": 2
          },
          "yaxis": {
           "automargin": true,
           "gridcolor": "white",
           "linecolor": "white",
           "ticks": "",
           "title": {
            "standoff": 15
           },
           "zerolinecolor": "white",
           "zerolinewidth": 2
          }
         }
        },
        "title": {
         "text": "Total Sales Per Product Category By Gender Ratio"
        },
        "width": 600,
        "xaxis": {
         "anchor": "y",
         "domain": [
          0,
          1
         ],
         "title": {
          "text": "Product Category"
         }
        },
        "yaxis": {
         "anchor": "x",
         "domain": [
          0,
          1
         ],
         "title": {
          "text": "Total Sales"
         }
        }
       }
      }
     },
     "metadata": {},
     "output_type": "display_data"
    },
    {
     "data": {
      "image/png": "[encoded data removed]",
      "text/plain": [
       "<Figure size 800x600 with 1 Axes>"
      ]
     },
     "metadata": {},
     "output_type": "display_data"
    }
   ],
   "source": [
    "classifi_sale=df.groupby([\"Gender\",\"Product Category\"])[\"Total Sales\"].sum().reset_index()\n",
    "fig=px.bar(classifi_sale,x=\"Product Category\",y=\"Total Sales\",color=\"Gender\",title=\"Total Sales Per Product Category By Gender Ratio\")\n",
    "fig.update_layout(height=500,width=600)\n",
    "fig.show()\n",
    "\n",
    "plt.figure(figsize=(8,6))\n",
    "sns.lineplot(data=classifi_sale,x=\"Product Category\",y=\"Total Sales\")\n",
    "plt.title(\"Total Sales Per Product Category\",fontsize=13)\n",
    "plt.show()"
   ]
  },
  {
   "cell_type": "markdown",
   "id": "95caee05",
   "metadata": {},
   "source": [
    "### `Total Sales,Price Per Unit & Category Classification`"
   ]
  },
  {
   "cell_type": "code",
   "execution_count": 19,
   "id": "9f93b8dc",
   "metadata": {},
   "outputs": [
    {
     "data": {
      "image/png": "[encoded data removed]",
      "text/plain": [
       "<Figure size 640x480 with 1 Axes>"
      ]
     },
     "metadata": {},
     "output_type": "display_data"
    },
    {
     "data": {
      "image/png": "[encoded data removed]",
      "text/plain": [
       "<Figure size 800x600 with 1 Axes>"
      ]
     },
     "metadata": {},
     "output_type": "display_data"
    },
    {
     "data": {
      "application/vnd.plotly.v1+json": {
       "config": {
        "plotlyServerURL": "https://plot.ly"
       },
       "data": [
        {
         "hovertemplate": "Product Category=%{x}<br>Price per Unit=%{y}<extra></extra>",
         "legendgroup": "",
         "marker": {
          "color": "#636efa",
          "pattern": {
           "shape": ""
          }
         },
         "name": "",
         "orientation": "v",
         "showlegend": false,
         "textposition": "auto",
         "type": "bar",
         "x": [
          "Beauty",
          "Clothing",
          "Electronics",
          "Clothing",
          "Beauty",
          "Beauty",
          "Clothing",
          "Electronics",
          "Electronics",
          "Clothing",
          "Clothing",
          "Beauty",
          "Electronics",
          "Clothing",
          "Electronics",
          "Clothing",
          "Clothing",
          "Electronics",
          "Clothing",
          "Clothing",
          "Beauty",
          "Clothing",
          "Clothing",
          "Clothing",
          "Beauty",
          "Electronics",
          "Beauty",
          "Beauty",
          "Electronics",
          "Beauty",
          "Electronics",
          "Beauty",
          "Electronics",
          "Clothing",
          "Beauty",
          "Beauty",
          "Beauty",
          "Beauty",
          "Clothing",
          "Beauty",
          "Clothing",
          "Clothing",
          "Clothing",
          "Clothing",
          "Electronics",
          "Electronics",
          "Beauty",
          "Electronics",
          "Electronics",
          "Beauty",
          "Beauty",
          "Beauty",
          "Electronics",
          "Electronics",
          "Beauty",
          "Clothing",
          "Beauty",
          "Clothing",
          "Clothing",
          "Beauty",
          "Beauty",
          "Beauty",
          "Electronics",
          "Clothing",
          "Electronics",
          "Electronics",
          "Beauty",
          "Electronics",
          "Beauty",
          "Clothing",
          "Beauty",
          "Electronics",
          "Electronics",
          "Beauty",
          "Beauty",
          "Electronics",
          "Clothing",
          "Clothing",
          "Beauty",
          "Clothing",
          "Electronics",
          "Beauty",
          "Electronics",
          "Electronics",
          "Clothing",
          "Beauty",
          "Beauty",
          "Clothing",
          "Electronics",
          "Electronics",
          "Electronics",
          "Electronics",
          "Beauty",
          "Beauty",
          "Clothing",
          "Clothing",
          "Beauty",
          "Beauty",
          "Electronics",
          "Electronics",
          "Clothing",
          "Beauty",
          "Clothing",
          "Beauty",
          "Electronics",
          "Clothing",
          "Clothing",
          "Beauty",
          "Electronics",
          "Clothing",
          "Electronics",
          "Clothing",
          "Electronics",
          "Beauty",
          "Clothing",
          "Clothing",
          "Electronics",
          "Electronics",
          "Clothing",
          "Beauty",
          "Electronics",
          "Electronics",
          "Electronics",
          "Clothing",
          "Clothing",
          "Clothing",
          "Clothing",
          "Beauty",
          "Beauty",
          "Clothing",
          "Beauty",
          "Electronics",
          "Electronics",
          "Electronics",
          "Clothing",
          "Electronics",
          "Beauty",
          "Clothing",
          "Beauty",
          "Electronics",
          "Electronics",
          "Electronics",
          "Clothing",
          "Beauty",
          "Clothing",
          "Clothing",
          "Electronics",
          "Clothing",
          "Clothing",
          "Electronics",
          "Clothing",
          "Electronics",
          "Electronics",
          "Electronics",
          "Electronics",
          "Clothing",
          "Electronics",
          "Electronics",
          "Clothing",
          "Clothing",
          "Beauty",
          "Clothing",
          "Clothing",
          "Beauty",
          "Clothing",
          "Clothing",
          "Clothing",
          "Clothing",
          "Beauty",
          "Clothing",
          "Clothing",
          "Beauty",
          "Electronics",
          "Beauty",
          "Electronics",
          "Beauty",
          "Beauty",
          "Clothing",
          "Electronics",
          "Clothing",
          "Electronics",
          "Beauty",
          "Beauty",
          "Electronics",
          "Clothing",
          "Clothing",
          "Clothing",
          "Clothing",
          "Beauty",
          "Beauty",
          "Beauty",
          "Beauty",
          "Beauty",
          "Clothing",
          "Clothing",
          "Clothing",
          "Clothing",
          "Beauty",
          "Beauty",
          "Beauty",
          "Electronics",
          "Clothing",
          "Clothing",
          "Beauty",
          "Clothing",
          "Clothing",
          "Beauty",
          "Electronics",
          "Electronics",
          "Electronics",
          "Beauty",
          "Clothing",
          "Beauty",
          "Beauty",
          "Clothing",
          "Electronics",
          "Electronics",
          "Beauty",
          "Electronics",
          "Beauty",
          "Beauty",
          "Clothing",
          "Clothing",
          "Clothing",
          "Beauty",
          "Clothing",
          "Electronics",
          "Electronics",
          "Beauty",
          "Beauty",
          "Clothing",
          "Beauty",
          "Beauty",
          "Electronics",
          "Electronics",
          "Clothing",
          "Beauty",
          "Beauty",
          "Electronics",
          "Beauty",
          "Electronics",
          "Clothing",
          "Electronics",
          "Beauty",
          "Clothing",
          "Electronics",
          "Electronics",
          "Clothing",
          "Clothing",
          "Electronics",
          "Beauty",
          "Electronics",
          "Clothing",
          "Electronics",
          "Clothing",
          "Clothing",
          "Beauty",
          "Clothing",
          "Clothing",
          "Beauty",
          "Clothing",
          "Beauty",
          "Beauty",
          "Clothing",
          "Clothing",
          "Electronics",
          "Beauty",
          "Electronics",
          "Clothing",
          "Electronics",
          "Beauty",
          "Electronics",
          "Beauty",
          "Clothing",
          "Clothing",
          "Beauty",
          "Clothing",
          "Clothing",
          "Clothing",
          "Clothing",
          "Beauty",
          "Electronics",
          "Electronics",
          "Clothing",
          "Electronics",
          "Electronics",
          "Clothing",
          "Clothing",
          "Electronics",
          "Beauty",
          "Clothing",
          "Beauty",
          "Electronics",
          "Clothing",
          "Beauty",
          "Clothing",
          "Electronics",
          "Beauty",
          "Electronics",
          "Electronics",
          "Clothing",
          "Beauty",
          "Electronics",
          "Electronics",
          "Beauty",
          "Electronics",
          "Electronics",
          "Beauty",
          "Beauty",
          "Beauty",
          "Beauty",
          "Clothing",
          "Beauty",
          "Clothing",
          "Clothing",
          "Clothing",
          "Electronics",
          "Clothing",
          "Clothing",
          "Electronics",
          "Electronics",
          "Electronics",
          "Beauty",
          "Electronics",
          "Electronics",
          "Clothing",
          "Electronics",
          "Beauty",
          "Electronics",
          "Beauty",
          "Electronics",
          "Electronics",
          "Electronics",
          "Electronics",
          "Beauty",
          "Beauty",
          "Clothing",
          "Beauty",
          "Electronics",
          "Clothing",
          "Clothing",
          "Clothing",
          "Electronics",
          "Beauty",
          "Electronics",
          "Clothing",
          "Electronics",
          "Electronics",
          "Beauty",
          "Beauty",
          "Clothing",
          "Electronics",
          "Electronics",
          "Beauty",
          "Electronics",
          "Electronics",
          "Electronics",
          "Beauty",
          "Clothing",
          "Clothing",
          "Electronics",
          "Clothing",
          "Beauty",
          "Beauty",
          "Clothing",
          "Clothing",
          "Electronics",
          "Clothing",
          "Electronics",
          "Electronics",
          "Beauty",
          "Beauty",
          "Beauty",
          "Beauty",
          "Clothing",
          "Beauty",
          "Clothing",
          "Beauty",
          "Clothing",
          "Electronics",
          "Clothing",
          "Clothing",
          "Beauty",
          "Clothing",
          "Electronics",
          "Electronics",
          "Beauty",
          "Electronics",
          "Clothing",
          "Electronics",
          "Beauty",
          "Clothing",
          "Beauty",
          "Clothing",
          "Electronics",
          "Beauty",
          "Beauty",
          "Clothing",
          "Beauty",
          "Clothing",
          "Clothing",
          "Clothing",
          "Clothing",
          "Electronics",
          "Clothing",
          "Beauty",
          "Electronics",
          "Beauty",
          "Electronics",
          "Clothing",
          "Electronics",
          "Electronics",
          "Beauty",
          "Beauty",
          "Clothing",
          "Electronics",
          "Electronics",
          "Electronics",
          "Clothing",
          "Clothing",
          "Clothing",
          "Clothing",
          "Clothing",
          "Beauty",
          "Electronics",
          "Electronics",
          "Electronics",
          "Electronics",
          "Electronics",
          "Electronics",
          "Electronics",
          "Electronics",
          "Beauty",
          "Electronics",
          "Beauty",
          "Clothing",
          "Electronics",
          "Clothing",
          "Clothing",
          "Clothing",
          "Beauty",
          "Clothing",
          "Clothing",
          "Clothing",
          "Electronics",
          "Electronics",
          "Beauty",
          "Beauty",
          "Electronics",
          "Beauty",
          "Electronics",
          "Clothing",
          "Clothing",
          "Beauty",
          "Electronics",
          "Electronics",
          "Beauty",
          "Electronics",
          "Clothing",
          "Beauty",
          "Beauty",
          "Electronics",
          "Beauty",
          "Electronics",
          "Electronics",
          "Electronics",
          "Electronics",
          "Electronics",
          "Beauty",
          "Clothing",
          "Clothing",
          "Beauty",
          "Beauty",
          "Clothing",
          "Clothing",
          "Clothing",
          "Clothing",
          "Clothing",
          "Electronics",
          "Beauty",
          "Electronics",
          "Clothing",
          "Clothing",
          "Clothing",
          "Electronics",
          "Electronics",
          "Clothing",
          "Electronics",
          "Electronics",
          "Clothing",
          "Electronics",
          "Beauty",
          "Beauty",
          "Beauty",
          "Beauty",
          "Clothing",
          "Clothing",
          "Clothing",
          "Beauty",
          "Beauty",
          "Electronics",
          "Electronics",
          "Beauty",
          "Beauty",
          "Beauty",
          "Beauty",
          "Electronics",
          "Beauty",
          "Electronics",
          "Beauty",
          "Beauty",
          "Beauty",
          "Electronics",
          "Electronics",
          "Clothing",
          "Beauty",
          "Clothing",
          "Clothing",
          "Electronics",
          "Electronics",
          "Clothing",
          "Beauty",
          "Electronics",
          "Beauty",
          "Beauty",
          "Clothing",
          "Clothing",
          "Clothing",
          "Clothing",
          "Electronics",
          "Electronics",
          "Clothing",
          "Electronics",
          "Clothing",
          "Beauty",
          "Beauty",
          "Beauty",
          "Clothing",
          "Beauty",
          "Electronics",
          "Beauty",
          "Beauty",
          "Beauty",
          "Electronics",
          "Clothing",
          "Electronics",
          "Clothing",
          "Clothing",
          "Beauty",
          "Clothing",
          "Electronics",
          "Electronics",
          "Clothing",
          "Beauty",
          "Beauty",
          "Electronics",
          "Beauty",
          "Clothing",
          "Clothing",
          "Electronics",
          "Clothing",
          "Electronics",
          "Clothing",
          "Electronics",
          "Beauty",
          "Clothing",
          "Clothing",
          "Electronics",
          "Electronics",
          "Clothing",
          "Electronics",
          "Clothing",
          "Beauty",
          "Electronics",
          "Clothing",
          "Beauty",
          "Beauty",
          "Clothing",
          "Electronics",
          "Clothing",
          "Beauty",
          "Clothing",
          "Electronics",
          "Beauty",
          "Clothing",
          "Electronics",
          "Beauty",
          "Electronics",
          "Beauty",
          "Clothing",
          "Electronics",
          "Beauty",
          "Electronics",
          "Electronics",
          "Clothing",
          "Electronics",
          "Beauty",
          "Beauty",
          "Beauty",
          "Beauty",
          "Clothing",
          "Electronics",
          "Clothing",
          "Electronics",
          "Electronics",
          "Electronics",
          "Clothing",
          "Electronics",
          "Clothing",
          "Beauty",
          "Beauty",
          "Electronics",
          "Clothing",
          "Beauty",
          "Clothing",
          "Clothing",
          "Electronics",
          "Beauty",
          "Electronics",
          "Electronics",
          "Beauty",
          "Beauty",
          "Clothing",
          "Beauty",
          "Clothing",
          "Clothing",
          "Clothing",
          "Beauty",
          "Electronics",
          "Clothing",
          "Electronics",
          "Electronics",
          "Beauty",
          "Electronics",
          "Electronics",
          "Beauty",
          "Clothing",
          "Electronics",
          "Beauty",
          "Electronics",
          "Electronics",
          "Clothing",
          "Electronics",
          "Beauty",
          "Electronics",
          "Clothing",
          "Clothing",
          "Beauty",
          "Clothing",
          "Electronics",
          "Clothing",
          "Beauty",
          "Clothing",
          "Clothing",
          "Clothing",
          "Beauty",
          "Clothing",
          "Clothing",
          "Electronics",
          "Beauty",
          "Clothing",
          "Beauty",
          "Clothing",
          "Clothing",
          "Clothing",
          "Electronics",
          "Electronics",
          "Electronics",
          "Beauty",
          "Beauty",
          "Electronics",
          "Beauty",
          "Clothing",
          "Clothing",
          "Clothing",
          "Electronics",
          "Beauty",
          "Electronics",
          "Beauty",
          "Clothing",
          "Electronics",
          "Beauty",
          "Beauty",
          "Clothing",
          "Electronics",
          "Electronics",
          "Electronics",
          "Clothing",
          "Electronics",
          "Clothing",
          "Clothing",
          "Clothing",
          "Beauty",
          "Electronics",
          "Electronics",
          "Clothing",
          "Clothing",
          "Electronics",
          "Clothing",
          "Electronics",
          "Beauty",
          "Clothing",
          "Electronics",
          "Clothing",
          "Electronics",
          "Electronics",
          "Clothing",
          "Beauty",
          "Electronics",
          "Electronics",
          "Electronics",
          "Beauty",
          "Beauty",
          "Clothing",
          "Beauty",
          "Clothing",
          "Clothing",
          "Beauty",
          "Clothing",
          "Beauty",
          "Clothing",
          "Beauty",
          "Beauty",
          "Clothing",
          "Electronics",
          "Clothing",
          "Beauty",
          "Electronics",
          "Clothing",
          "Clothing",
          "Clothing",
          "Electronics",
          "Beauty",
          "Clothing",
          "Clothing",
          "Clothing",
          "Clothing",
          "Clothing",
          "Beauty",
          "Beauty",
          "Clothing",
          "Electronics",
          "Beauty",
          "Electronics",
          "Beauty",
          "Clothing",
          "Beauty",
          "Clothing",
          "Beauty",
          "Clothing",
          "Clothing",
          "Clothing",
          "Clothing",
          "Electronics",
          "Clothing",
          "Electronics",
          "Electronics",
          "Clothing",
          "Electronics",
          "Beauty",
          "Clothing",
          "Electronics",
          "Clothing",
          "Clothing",
          "Clothing",
          "Electronics",
          "Beauty",
          "Beauty",
          "Electronics",
          "Clothing",
          "Electronics",
          "Electronics",
          "Electronics",
          "Clothing",
          "Electronics",
          "Clothing",
          "Electronics",
          "Beauty",
          "Electronics",
          "Electronics",
          "Beauty",
          "Clothing",
          "Clothing",
          "Electronics",
          "Beauty",
          "Clothing",
          "Electronics",
          "Beauty",
          "Clothing",
          "Clothing",
          "Beauty",
          "Beauty",
          "Beauty",
          "Beauty",
          "Electronics",
          "Beauty",
          "Clothing",
          "Clothing",
          "Electronics",
          "Clothing",
          "Clothing",
          "Beauty",
          "Clothing",
          "Electronics",
          "Beauty",
          "Beauty",
          "Electronics",
          "Beauty",
          "Beauty",
          "Electronics",
          "Beauty",
          "Electronics",
          "Electronics",
          "Clothing",
          "Clothing",
          "Beauty",
          "Beauty",
          "Electronics",
          "Beauty",
          "Electronics",
          "Electronics",
          "Beauty",
          "Electronics",
          "Clothing",
          "Beauty",
          "Clothing",
          "Beauty",
          "Electronics",
          "Beauty",
          "Clothing",
          "Electronics",
          "Beauty",
          "Beauty",
          "Beauty",
          "Clothing",
          "Clothing",
          "Beauty",
          "Electronics",
          "Electronics",
          "Clothing",
          "Electronics",
          "Clothing",
          "Beauty",
          "Clothing",
          "Clothing",
          "Beauty",
          "Electronics",
          "Clothing",
          "Clothing",
          "Beauty",
          "Electronics",
          "Clothing",
          "Beauty",
          "Clothing",
          "Beauty",
          "Electronics",
          "Electronics",
          "Electronics",
          "Electronics",
          "Clothing",
          "Clothing",
          "Electronics",
          "Electronics",
          "Electronics",
          "Clothing",
          "Electronics",
          "Electronics",
          "Electronics",
          "Beauty",
          "Electronics",
          "Beauty",
          "Beauty",
          "Electronics",
          "Beauty",
          "Electronics",
          "Clothing",
          "Clothing",
          "Clothing",
          "Clothing",
          "Beauty",
          "Electronics",
          "Electronics",
          "Electronics",
          "Clothing",
          "Clothing",
          "Electronics",
          "Clothing",
          "Electronics",
          "Electronics",
          "Electronics",
          "Electronics",
          "Electronics",
          "Electronics",
          "Electronics",
          "Clothing",
          "Electronics",
          "Electronics",
          "Clothing",
          "Clothing",
          "Clothing",
          "Electronics",
          "Beauty",
          "Beauty",
          "Clothing",
          "Beauty",
          "Clothing",
          "Electronics",
          "Beauty",
          "Electronics",
          "Beauty",
          "Electronics",
          "Beauty",
          "Electronics",
          "Electronics",
          "Beauty",
          "Electronics",
          "Electronics",
          "Electronics",
          "Beauty",
          "Beauty",
          "Electronics",
          "Electronics",
          "Beauty",
          "Beauty",
          "Electronics",
          "Electronics",
          "Electronics",
          "Clothing",
          "Beauty",
          "Clothing",
          "Beauty",
          "Beauty",
          "Beauty",
          "Beauty",
          "Beauty",
          "Beauty",
          "Beauty",
          "Clothing",
          "Electronics",
          "Electronics",
          "Clothing",
          "Clothing",
          "Clothing",
          "Clothing",
          "Beauty",
          "Electronics",
          "Beauty",
          "Electronics",
          "Electronics",
          "Clothing",
          "Beauty",
          "Clothing",
          "Beauty",
          "Electronics",
          "Clothing",
          "Clothing",
          "Electronics",
          "Electronics",
          "Electronics",
          "Clothing",
          "Beauty",
          "Clothing",
          "Beauty",
          "Clothing",
          "Clothing",
          "Electronics",
          "Beauty",
          "Clothing",
          "Clothing",
          "Electronics",
          "Electronics",
          "Beauty",
          "Clothing",
          "Beauty",
          "Clothing",
          "Beauty",
          "Electronics",
          "Clothing",
          "Beauty",
          "Electronics",
          "Electronics",
          "Beauty",
          "Clothing",
          "Clothing",
          "Electronics",
          "Clothing",
          "Clothing",
          "Clothing",
          "Electronics",
          "Beauty",
          "Clothing",
          "Electronics",
          "Electronics",
          "Beauty",
          "Clothing",
          "Clothing",
          "Beauty",
          "Beauty",
          "Electronics",
          "Electronics"
         ],
         "xaxis": "x",
         "y": {
          "bdata": "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",
          "dtype": "i2"
         },
         "yaxis": "y"
        }
       ],
       "layout": {
        "barmode": "relative",
        "legend": {
         "tracegroupgap": 0
        },
        "margin": {
         "t": 60
        },
        "template": {
         "data": {
          "bar": [
           {
            "error_x": {
             "color": "#2a3f5f"
            },
            "error_y": {
             "color": "#2a3f5f"
            },
            "marker": {
             "line": {
              "color": "#E5ECF6",
              "width": 0.5
             },
             "pattern": {
              "fillmode": "overlay",
              "size": 10,
              "solidity": 0.2
             }
            },
            "type": "bar"
           }
          ],
          "barpolar": [
           {
            "marker": {
             "line": {
              "color": "#E5ECF6",
              "width": 0.5
             },
             "pattern": {
              "fillmode": "overlay",
              "size": 10,
              "solidity": 0.2
             }
            },
            "type": "barpolar"
           }
          ],
          "carpet": [
           {
            "aaxis": {
             "endlinecolor": "#2a3f5f",
             "gridcolor": "white",
             "linecolor": "white",
             "minorgridcolor": "white",
             "startlinecolor": "#2a3f5f"
            },
            "baxis": {
             "endlinecolor": "#2a3f5f",
             "gridcolor": "white",
             "linecolor": "white",
             "minorgridcolor": "white",
             "startlinecolor": "#2a3f5f"
            },
            "type": "carpet"
           }
          ],
          "choropleth": [
           {
            "colorbar": {
             "outlinewidth": 0,
             "ticks": ""
            },
            "type": "choropleth"
           }
          ],
          "contour": [
           {
            "colorbar": {
             "outlinewidth": 0,
             "ticks": ""
            },
            "colorscale": [
             [
              0,
              "#0d0887"
             ],
             [
              0.1111111111111111,
              "#46039f"
             ],
             [
              0.2222222222222222,
              "#7201a8"
             ],
             [
              0.3333333333333333,
              "#9c179e"
             ],
             [
              0.4444444444444444,
              "#bd3786"
             ],
             [
              0.5555555555555556,
              "#d8576b"
             ],
             [
              0.6666666666666666,
              "#ed7953"
             ],
             [
              0.7777777777777778,
              "#fb9f3a"
             ],
             [
              0.8888888888888888,
              "#fdca26"
             ],
             [
              1,
              "#f0f921"
             ]
            ],
            "type": "contour"
           }
          ],
          "contourcarpet": [
           {
            "colorbar": {
             "outlinewidth": 0,
             "ticks": ""
            },
            "type": "contourcarpet"
           }
          ],
          "heatmap": [
           {
            "colorbar": {
             "outlinewidth": 0,
             "ticks": ""
            },
            "colorscale": [
             [
              0,
              "#0d0887"
             ],
             [
              0.1111111111111111,
              "#46039f"
             ],
             [
              0.2222222222222222,
              "#7201a8"
             ],
             [
              0.3333333333333333,
              "#9c179e"
             ],
             [
              0.4444444444444444,
              "#bd3786"
             ],
             [
              0.5555555555555556,
              "#d8576b"
             ],
             [
              0.6666666666666666,
              "#ed7953"
             ],
             [
              0.7777777777777778,
              "#fb9f3a"
             ],
             [
              0.8888888888888888,
              "#fdca26"
             ],
             [
              1,
              "#f0f921"
             ]
            ],
            "type": "heatmap"
           }
          ],
          "histogram": [
           {
            "marker": {
             "pattern": {
              "fillmode": "overlay",
              "size": 10,
              "solidity": 0.2
             }
            },
            "type": "histogram"
           }
          ],
          "histogram2d": [
           {
            "colorbar": {
             "outlinewidth": 0,
             "ticks": ""
            },
            "colorscale": [
             [
              0,
              "#0d0887"
             ],
             [
              0.1111111111111111,
              "#46039f"
             ],
             [
              0.2222222222222222,
              "#7201a8"
             ],
             [
              0.3333333333333333,
              "#9c179e"
             ],
             [
              0.4444444444444444,
              "#bd3786"
             ],
             [
              0.5555555555555556,
              "#d8576b"
             ],
             [
              0.6666666666666666,
              "#ed7953"
             ],
             [
              0.7777777777777778,
              "#fb9f3a"
             ],
             [
              0.8888888888888888,
              "#fdca26"
             ],
             [
              1,
              "#f0f921"
             ]
            ],
            "type": "histogram2d"
           }
          ],
          "histogram2dcontour": [
           {
            "colorbar": {
             "outlinewidth": 0,
             "ticks": ""
            },
            "colorscale": [
             [
              0,
              "#0d0887"
             ],
             [
              0.1111111111111111,
              "#46039f"
             ],
             [
              0.2222222222222222,
              "#7201a8"
             ],
             [
              0.3333333333333333,
              "#9c179e"
             ],
             [
              0.4444444444444444,
              "#bd3786"
             ],
             [
              0.5555555555555556,
              "#d8576b"
             ],
             [
              0.6666666666666666,
              "#ed7953"
             ],
             [
              0.7777777777777778,
              "#fb9f3a"
             ],
             [
              0.8888888888888888,
              "#fdca26"
             ],
             [
              1,
              "#f0f921"
             ]
            ],
            "type": "histogram2dcontour"
           }
          ],
          "mesh3d": [
           {
            "colorbar": {
             "outlinewidth": 0,
             "ticks": ""
            },
            "type": "mesh3d"
           }
          ],
          "parcoords": [
           {
            "line": {
             "colorbar": {
              "outlinewidth": 0,
              "ticks": ""
             }
            },
            "type": "parcoords"
           }
          ],
          "pie": [
           {
            "automargin": true,
            "type": "pie"
           }
          ],
          "scatter": [
           {
            "fillpattern": {
             "fillmode": "overlay",
             "size": 10,
             "solidity": 0.2
            },
            "type": "scatter"
           }
          ],
          "scatter3d": [
           {
            "line": {
             "colorbar": {
              "outlinewidth": 0,
              "ticks": ""
             }
            },
            "marker": {
             "colorbar": {
              "outlinewidth": 0,
              "ticks": ""
             }
            },
            "type": "scatter3d"
           }
          ],
          "scattercarpet": [
           {
            "marker": {
             "colorbar": {
              "outlinewidth": 0,
              "ticks": ""
             }
            },
            "type": "scattercarpet"
           }
          ],
          "scattergeo": [
           {
            "marker": {
             "colorbar": {
              "outlinewidth": 0,
              "ticks": ""
             }
            },
            "type": "scattergeo"
           }
          ],
          "scattergl": [
           {
            "marker": {
             "colorbar": {
              "outlinewidth": 0,
              "ticks": ""
             }
            },
            "type": "scattergl"
           }
          ],
          "scattermap": [
           {
            "marker": {
             "colorbar": {
              "outlinewidth": 0,
              "ticks": ""
             }
            },
            "type": "scattermap"
           }
          ],
          "scattermapbox": [
           {
            "marker": {
             "colorbar": {
              "outlinewidth": 0,
              "ticks": ""
             }
            },
            "type": "scattermapbox"
           }
          ],
          "scatterpolar": [
           {
            "marker": {
             "colorbar": {
              "outlinewidth": 0,
              "ticks": ""
             }
            },
            "type": "scatterpolar"
           }
          ],
          "scatterpolargl": [
           {
            "marker": {
             "colorbar": {
              "outlinewidth": 0,
              "ticks": ""
             }
            },
            "type": "scatterpolargl"
           }
          ],
          "scatterternary": [
           {
            "marker": {
             "colorbar": {
              "outlinewidth": 0,
              "ticks": ""
             }
            },
            "type": "scatterternary"
           }
          ],
          "surface": [
           {
            "colorbar": {
             "outlinewidth": 0,
             "ticks": ""
            },
            "colorscale": [
             [
              0,
              "#0d0887"
             ],
             [
              0.1111111111111111,
              "#46039f"
             ],
             [
              0.2222222222222222,
              "#7201a8"
             ],
             [
              0.3333333333333333,
              "#9c179e"
             ],
             [
              0.4444444444444444,
              "#bd3786"
             ],
             [
              0.5555555555555556,
              "#d8576b"
             ],
             [
              0.6666666666666666,
              "#ed7953"
             ],
             [
              0.7777777777777778,
              "#fb9f3a"
             ],
             [
              0.8888888888888888,
              "#fdca26"
             ],
             [
              1,
              "#f0f921"
             ]
            ],
            "type": "surface"
           }
          ],
          "table": [
           {
            "cells": {
             "fill": {
              "color": "#EBF0F8"
             },
             "line": {
              "color": "white"
             }
            },
            "header": {
             "fill": {
              "color": "#C8D4E3"
             },
             "line": {
              "color": "white"
             }
            },
            "type": "table"
           }
          ]
         },
         "layout": {
          "annotationdefaults": {
           "arrowcolor": "#2a3f5f",
           "arrowhead": 0,
           "arrowwidth": 1
          },
          "autotypenumbers": "strict",
          "coloraxis": {
           "colorbar": {
            "outlinewidth": 0,
            "ticks": ""
           }
          },
          "colorscale": {
           "diverging": [
            [
             0,
             "#8e0152"
            ],
            [
             0.1,
             "#c51b7d"
            ],
            [
             0.2,
             "#de77ae"
            ],
            [
             0.3,
             "#f1b6da"
            ],
            [
             0.4,
             "#fde0ef"
            ],
            [
             0.5,
             "#f7f7f7"
            ],
            [
             0.6,
             "#e6f5d0"
            ],
            [
             0.7,
             "#b8e186"
            ],
            [
             0.8,
             "#7fbc41"
            ],
            [
             0.9,
             "#4d9221"
            ],
            [
             1,
             "#276419"
            ]
           ],
           "sequential": [
            [
             0,
             "#0d0887"
            ],
            [
             0.1111111111111111,
             "#46039f"
            ],
            [
             0.2222222222222222,
             "#7201a8"
            ],
            [
             0.3333333333333333,
             "#9c179e"
            ],
            [
             0.4444444444444444,
             "#bd3786"
            ],
            [
             0.5555555555555556,
             "#d8576b"
            ],
            [
             0.6666666666666666,
             "#ed7953"
            ],
            [
             0.7777777777777778,
             "#fb9f3a"
            ],
            [
             0.8888888888888888,
             "#fdca26"
            ],
            [
             1,
             "#f0f921"
            ]
           ],
           "sequentialminus": [
            [
             0,
             "#0d0887"
            ],
            [
             0.1111111111111111,
             "#46039f"
            ],
            [
             0.2222222222222222,
             "#7201a8"
            ],
            [
             0.3333333333333333,
             "#9c179e"
            ],
            [
             0.4444444444444444,
             "#bd3786"
            ],
            [
             0.5555555555555556,
             "#d8576b"
            ],
            [
             0.6666666666666666,
             "#ed7953"
            ],
            [
             0.7777777777777778,
             "#fb9f3a"
            ],
            [
             0.8888888888888888,
             "#fdca26"
            ],
            [
             1,
             "#f0f921"
            ]
           ]
          },
          "colorway": [
           "#636efa",
           "#EF553B",
           "#00cc96",
           "#ab63fa",
           "#FFA15A",
           "#19d3f3",
           "#FF6692",
           "#B6E880",
           "#FF97FF",
           "#FECB52"
          ],
          "font": {
           "color": "#2a3f5f"
          },
          "geo": {
           "bgcolor": "white",
           "lakecolor": "white",
           "landcolor": "#E5ECF6",
           "showlakes": true,
           "showland": true,
           "subunitcolor": "white"
          },
          "hoverlabel": {
           "align": "left"
          },
          "hovermode": "closest",
          "mapbox": {
           "style": "light"
          },
          "paper_bgcolor": "white",
          "plot_bgcolor": "#E5ECF6",
          "polar": {
           "angularaxis": {
            "gridcolor": "white",
            "linecolor": "white",
            "ticks": ""
           },
           "bgcolor": "#E5ECF6",
           "radialaxis": {
            "gridcolor": "white",
            "linecolor": "white",
            "ticks": ""
           }
          },
          "scene": {
           "xaxis": {
            "backgroundcolor": "#E5ECF6",
            "gridcolor": "white",
            "gridwidth": 2,
            "linecolor": "white",
            "showbackground": true,
            "ticks": "",
            "zerolinecolor": "white"
           },
           "yaxis": {
            "backgroundcolor": "#E5ECF6",
            "gridcolor": "white",
            "gridwidth": 2,
            "linecolor": "white",
            "showbackground": true,
            "ticks": "",
            "zerolinecolor": "white"
           },
           "zaxis": {
            "backgroundcolor": "#E5ECF6",
            "gridcolor": "white",
            "gridwidth": 2,
            "linecolor": "white",
            "showbackground": true,
            "ticks": "",
            "zerolinecolor": "white"
           }
          },
          "shapedefaults": {
           "line": {
            "color": "#2a3f5f"
           }
          },
          "ternary": {
           "aaxis": {
            "gridcolor": "white",
            "linecolor": "white",
            "ticks": ""
           },
           "baxis": {
            "gridcolor": "white",
            "linecolor": "white",
            "ticks": ""
           },
           "bgcolor": "#E5ECF6",
           "caxis": {
            "gridcolor": "white",
            "linecolor": "white",
            "ticks": ""
           }
          },
          "title": {
           "x": 0.05
          },
          "xaxis": {
           "automargin": true,
           "gridcolor": "white",
           "linecolor": "white",
           "ticks": "",
           "title": {
            "standoff": 15
           },
           "zerolinecolor": "white",
           "zerolinewidth": 2
          },
          "yaxis": {
           "automargin": true,
           "gridcolor": "white",
           "linecolor": "white",
           "ticks": "",
           "title": {
            "standoff": 15
           },
           "zerolinecolor": "white",
           "zerolinewidth": 2
          }
         }
        },
        "xaxis": {
         "anchor": "y",
         "domain": [
          0,
          1
         ],
         "title": {
          "text": "Product Category"
         }
        },
        "yaxis": {
         "anchor": "x",
         "domain": [
          0,
          1
         ],
         "title": {
          "text": "Price per Unit"
         }
        }
       }
      }
     },
     "metadata": {},
     "output_type": "display_data"
    }
   ],
   "source": [
    "\n",
    "sns.histplot(data=df,x=\"Product Category\",kde=True)\n",
    "\n",
    "plt.figure(figsize=(8,6))\n",
    "sns.set_color_codes(\"pastel\")\n",
    "sns.barplot(data=df,x=\"Price per Unit\",y=\"Product Category\")\n",
    "plt.show()\n",
    "\n",
    "fig=px.bar(df,x=\"Product Category\",y=\"Price per Unit\")\n",
    "fig.show()\n"
   ]
  },
  {
   "cell_type": "markdown",
   "id": "08391413",
   "metadata": {},
   "source": [
    "### `Time-Series Analysis`"
   ]
  },
  {
   "cell_type": "code",
   "execution_count": 20,
   "id": "d67ee658",
   "metadata": {},
   "outputs": [
    {
     "data": {
      "image/png": "[encoded data removed]",
      "text/plain": [
       "<Figure size 2000x600 with 1 Axes>"
      ]
     },
     "metadata": {},
     "output_type": "display_data"
    }
   ],
   "source": [
    "plt.figure(figsize=(20,6))\n",
    "sns.lineplot(data=df, x='Date', y='Total Sales', marker='o',color=\"red\")\n",
    "plt.title('Daily Total Sales Over Time', fontsize=15)\n",
    "plt.xlabel('Date')\n",
    "plt.ylabel('Total Sales')\n",
    "plt.grid(True)\n",
    "plt.tight_layout()\n",
    "plt.show()\n"
   ]
  },
  {
   "cell_type": "markdown",
   "id": "95fc432f",
   "metadata": {},
   "source": [
    "### `Correlation Heatmap`"
   ]
  },
  {
   "cell_type": "code",
   "execution_count": 21,
   "id": "fee63bcf",
   "metadata": {},
   "outputs": [
    {
     "data": {
      "image/png": "[encoded data removed]",
      "text/plain": [
       "<Figure size 1200x800 with 2 Axes>"
      ]
     },
     "metadata": {},
     "output_type": "display_data"
    }
   ],
   "source": [
    "plt.figure(figsize=(12,8))\n",
    "cor=df.select_dtypes(include=\"number\").corr()\n",
    "sns.heatmap(cor,annot=True,fmt=\".2f\")\n",
    "plt.show()"
   ]
  },
  {
   "cell_type": "markdown",
   "id": "ed531837",
   "metadata": {},
   "source": [
    "## **<p style=\"color:#3498db;\">The Motive And The Bigger Picture**\n",
    "### *<p style=\"color:Orange;\">My analysis showed Clothing drove volume, Electronics high revenue, and Beauty balanced both. This could guide stocking or marketing strategies.*\n",
    "\n",
    "### *<p style=\"color:Orange;\"> Why: I focused on Product Category and Price per Unit to understand sales drivers and profitability.*\n",
    "\n",
    "### *<p style=\"color:Orange;\"> Story: I uncovered the marketplace’s rhythm—Clothing drew crowds, Electronics brought riches, Beauty kept things steady. My findings could steer the market to thrive*"
   ]
  },
  {
   "cell_type": "markdown",
   "id": "9028f403",
   "metadata": {},
   "source": [
    "## **<p style=\"color:#3498db;\"> More To Explore**\n",
    "\n",
    "### *<p style=\"color:Orange;\">My journey revealed key patterns, but the scroll holds more. I could analyze Total Sales by Gender, Age, or Date, or plot trends over time. As I rolled up the scroll, I knew I’d return to uncover more of the marketplace’s secrets with my data tools.*"
   ]
  }
 ],
 "metadata": {
  "kernelspec": {
   "display_name": "Python 3",
   "language": "python",
   "name": "python3"
  },
  "language_info": {
   "codemirror_mode": {
    "name": "ipython",
    "version": 3
   },
   "file_extension": ".py",
   "mimetype": "text/x-python",
   "name": "python",
   "nbconvert_exporter": "python",
   "pygments_lexer": "ipython3",
   "version": "3.12.4"
  }
 },
 "nbformat": 4,
 "nbformat_minor": 5
}
