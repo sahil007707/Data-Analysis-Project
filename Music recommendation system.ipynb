{
 "cells": [
  {
   "cell_type": "code",
   "execution_count": 229,
   "id": "c1bc9f31",
   "metadata": {},
   "outputs": [],
   "source": [
    "import pandas as pd\n",
    "import seaborn as sns\n",
    "import matplotlib.pyplot as plt\n",
    "import numpy as np\n",
    "import warnings\n",
    "warnings.filterwarnings(\"ignore\")\n",
    "pd.set_option(\"display.max_columns\",30)"
   ]
  },
  {
   "cell_type": "markdown",
   "id": "9acc0b45",
   "metadata": {},
   "source": [
    "# Project\n",
    "## Goal : To create a recommendation system engine for Party like songs with high energetic and high like values "
   ]
  },
  {
   "cell_type": "code",
   "execution_count": 230,
   "id": "7ad05dfd",
   "metadata": {},
   "outputs": [],
   "source": [
    "df=pd.read_csv(r\"c:\\Users\\user\\Desktop\\Kaggle Datasets\\Spotify_Youtube.csv\")"
   ]
  },
  {
   "cell_type": "markdown",
   "id": "2fe06251",
   "metadata": {},
   "source": [
    "# Data Info "
   ]
  },
  {
   "cell_type": "code",
   "execution_count": 231,
   "id": "5b01b131",
   "metadata": {},
   "outputs": [
    {
     "name": "stdout",
     "output_type": "stream",
     "text": [
      "<class 'pandas.core.frame.DataFrame'>\n",
      "RangeIndex: 20718 entries, 0 to 20717\n",
      "Data columns (total 28 columns):\n",
      " #   Column            Non-Null Count  Dtype  \n",
      "---  ------            --------------  -----  \n",
      " 0   Unnamed: 0        20718 non-null  int64  \n",
      " 1   Artist            20718 non-null  object \n",
      " 2   Url_spotify       20718 non-null  object \n",
      " 3   Track             20718 non-null  object \n",
      " 4   Album             20718 non-null  object \n",
      " 5   Album_type        20718 non-null  object \n",
      " 6   Uri               20718 non-null  object \n",
      " 7   Danceability      20716 non-null  float64\n",
      " 8   Energy            20716 non-null  float64\n",
      " 9   Key               20716 non-null  float64\n",
      " 10  Loudness          20716 non-null  float64\n",
      " 11  Speechiness       20716 non-null  float64\n",
      " 12  Acousticness      20716 non-null  float64\n",
      " 13  Instrumentalness  20716 non-null  float64\n",
      " 14  Liveness          20716 non-null  float64\n",
      " 15  Valence           20716 non-null  float64\n",
      " 16  Tempo             20716 non-null  float64\n",
      " 17  Duration_ms       20716 non-null  float64\n",
      " 18  Url_youtube       20248 non-null  object \n",
      " 19  Title             20248 non-null  object \n",
      " 20  Channel           20248 non-null  object \n",
      " 21  Views             20248 non-null  float64\n",
      " 22  Likes             20177 non-null  float64\n",
      " 23  Comments          20149 non-null  float64\n",
      " 24  Description       19842 non-null  object \n",
      " 25  Licensed          20248 non-null  object \n",
      " 26  official_video    20248 non-null  object \n",
      " 27  Stream            20142 non-null  float64\n",
      "dtypes: float64(15), int64(1), object(12)\n",
      "memory usage: 4.4+ MB\n"
     ]
    }
   ],
   "source": [
    "df.info()"
   ]
  },
  {
   "cell_type": "code",
   "execution_count": 232,
   "id": "408446de",
   "metadata": {},
   "outputs": [
    {
     "data": {
      "text/plain": [
       "(20718, 28)"
      ]
     },
     "execution_count": 232,
     "metadata": {},
     "output_type": "execute_result"
    }
   ],
   "source": [
    "df.shape"
   ]
  },
  {
   "cell_type": "code",
   "execution_count": 233,
   "id": "5d3e2eab",
   "metadata": {},
   "outputs": [],
   "source": [
    "df.drop(columns=[\"Description\",\"Url_spotify\",\"Uri\",\"Unnamed: 0\",\"Album_type\",'Key', 'Loudness', 'Speechiness', 'Acousticness', 'Instrumentalness',\n",
    "                 'Liveness', 'Valence', 'Tempo', 'Duration_ms', 'Url_youtube', 'Title',\n",
    "                 'Channel','Comments', 'Licensed', 'official_video',\"Views\",\"Stream\"],inplace=True)"
   ]
  },
  {
   "cell_type": "code",
   "execution_count": 234,
   "id": "c95570c6",
   "metadata": {},
   "outputs": [
    {
     "data": {
      "text/plain": [
       "Index(['Artist', 'Track', 'Album', 'Danceability', 'Energy', 'Likes'], dtype='object')"
      ]
     },
     "execution_count": 234,
     "metadata": {},
     "output_type": "execute_result"
    }
   ],
   "source": [
    "df.columns"
   ]
  },
  {
   "cell_type": "code",
   "execution_count": 235,
   "id": "4a56cb5d",
   "metadata": {},
   "outputs": [
    {
     "data": {
      "text/html": [
       "<div>\n",
       "<style scoped>\n",
       "    .dataframe tbody tr th:only-of-type {\n",
       "        vertical-align: middle;\n",
       "    }\n",
       "\n",
       "    .dataframe tbody tr th {\n",
       "        vertical-align: top;\n",
       "    }\n",
       "\n",
       "    .dataframe thead th {\n",
       "        text-align: right;\n",
       "    }\n",
       "</style>\n",
       "<table border=\"1\" class=\"dataframe\">\n",
       "  <thead>\n",
       "    <tr style=\"text-align: right;\">\n",
       "      <th></th>\n",
       "      <th>Artist</th>\n",
       "      <th>Track</th>\n",
       "      <th>Album</th>\n",
       "      <th>Danceability</th>\n",
       "      <th>Energy</th>\n",
       "      <th>Likes</th>\n",
       "    </tr>\n",
       "  </thead>\n",
       "  <tbody>\n",
       "    <tr>\n",
       "      <th>0</th>\n",
       "      <td>Gorillaz</td>\n",
       "      <td>Feel Good Inc.</td>\n",
       "      <td>Demon Days</td>\n",
       "      <td>0.818</td>\n",
       "      <td>0.705</td>\n",
       "      <td>6220896.0</td>\n",
       "    </tr>\n",
       "    <tr>\n",
       "      <th>1</th>\n",
       "      <td>Gorillaz</td>\n",
       "      <td>Rhinestone Eyes</td>\n",
       "      <td>Plastic Beach</td>\n",
       "      <td>0.676</td>\n",
       "      <td>0.703</td>\n",
       "      <td>1079128.0</td>\n",
       "    </tr>\n",
       "    <tr>\n",
       "      <th>2</th>\n",
       "      <td>Gorillaz</td>\n",
       "      <td>New Gold (feat. Tame Impala and Bootie Brown)</td>\n",
       "      <td>New Gold (feat. Tame Impala and Bootie Brown)</td>\n",
       "      <td>0.695</td>\n",
       "      <td>0.923</td>\n",
       "      <td>282142.0</td>\n",
       "    </tr>\n",
       "    <tr>\n",
       "      <th>3</th>\n",
       "      <td>Gorillaz</td>\n",
       "      <td>On Melancholy Hill</td>\n",
       "      <td>Plastic Beach</td>\n",
       "      <td>0.689</td>\n",
       "      <td>0.739</td>\n",
       "      <td>1788577.0</td>\n",
       "    </tr>\n",
       "    <tr>\n",
       "      <th>4</th>\n",
       "      <td>Gorillaz</td>\n",
       "      <td>Clint Eastwood</td>\n",
       "      <td>Gorillaz</td>\n",
       "      <td>0.663</td>\n",
       "      <td>0.694</td>\n",
       "      <td>6197318.0</td>\n",
       "    </tr>\n",
       "  </tbody>\n",
       "</table>\n",
       "</div>"
      ],
      "text/plain": [
       "     Artist                                          Track  \\\n",
       "0  Gorillaz                                 Feel Good Inc.   \n",
       "1  Gorillaz                                Rhinestone Eyes   \n",
       "2  Gorillaz  New Gold (feat. Tame Impala and Bootie Brown)   \n",
       "3  Gorillaz                             On Melancholy Hill   \n",
       "4  Gorillaz                                 Clint Eastwood   \n",
       "\n",
       "                                           Album  Danceability  Energy  \\\n",
       "0                                     Demon Days         0.818   0.705   \n",
       "1                                  Plastic Beach         0.676   0.703   \n",
       "2  New Gold (feat. Tame Impala and Bootie Brown)         0.695   0.923   \n",
       "3                                  Plastic Beach         0.689   0.739   \n",
       "4                                       Gorillaz         0.663   0.694   \n",
       "\n",
       "       Likes  \n",
       "0  6220896.0  \n",
       "1  1079128.0  \n",
       "2   282142.0  \n",
       "3  1788577.0  \n",
       "4  6197318.0  "
      ]
     },
     "execution_count": 235,
     "metadata": {},
     "output_type": "execute_result"
    }
   ],
   "source": [
    "df.head()"
   ]
  },
  {
   "cell_type": "code",
   "execution_count": 236,
   "id": "d0b2c01d",
   "metadata": {},
   "outputs": [
    {
     "data": {
      "text/plain": [
       "(20718, 6)"
      ]
     },
     "execution_count": 236,
     "metadata": {},
     "output_type": "execute_result"
    }
   ],
   "source": [
    "df.shape"
   ]
  },
  {
   "cell_type": "code",
   "execution_count": 237,
   "id": "7fdb1097",
   "metadata": {},
   "outputs": [
    {
     "data": {
      "text/plain": [
       "Artist            0\n",
       "Track             0\n",
       "Album             0\n",
       "Danceability      2\n",
       "Energy            2\n",
       "Likes           541\n",
       "dtype: int64"
      ]
     },
     "execution_count": 237,
     "metadata": {},
     "output_type": "execute_result"
    }
   ],
   "source": [
    "df.isna().sum()"
   ]
  },
  {
   "cell_type": "code",
   "execution_count": 238,
   "id": "3fa27719",
   "metadata": {},
   "outputs": [
    {
     "data": {
      "text/plain": [
       "np.int64(0)"
      ]
     },
     "execution_count": 238,
     "metadata": {},
     "output_type": "execute_result"
    }
   ],
   "source": [
    "df.duplicated().sum()"
   ]
  },
  {
   "cell_type": "code",
   "execution_count": 239,
   "id": "465b9830",
   "metadata": {},
   "outputs": [
    {
     "data": {
      "image/png": "[encoded data removed]",
      "text/plain": [
       "<Figure size 1200x600 with 1 Axes>"
      ]
     },
     "metadata": {},
     "output_type": "display_data"
    },
    {
     "data": {
      "image/png": "[encoded data removed]",
      "text/plain": [
       "<Figure size 1200x600 with 1 Axes>"
      ]
     },
     "metadata": {},
     "output_type": "display_data"
    },
    {
     "data": {
      "image/png": "[encoded data removed]",
      "text/plain": [
       "<Figure size 1200x600 with 1 Axes>"
      ]
     },
     "metadata": {},
     "output_type": "display_data"
    }
   ],
   "source": [
    "num_col= df.select_dtypes(include=\"number\")\n",
    "for col in num_col:\n",
    "    plt.figure(figsize=(12,6))\n",
    "    sns.histplot(data=df,x=col,kde=True,palette=\"Set1\",edgecolor=\"black\")\n",
    "    plt.title(f\"The Distribution Of {col}\")\n",
    "    plt.show()"
   ]
  },
  {
   "cell_type": "code",
   "execution_count": 240,
   "id": "1043437f",
   "metadata": {},
   "outputs": [
    {
     "name": "stdout",
     "output_type": "stream",
     "text": [
      "Danceability: -0.5501541392863574\n",
      "Energy: -0.7148519167747349\n",
      "Likes: 8.670782112179227\n"
     ]
    }
   ],
   "source": [
    "for cols in num_col:\n",
    "    print(f\"{cols}: {df[cols].skew()}\")\n"
   ]
  },
  {
   "cell_type": "code",
   "execution_count": 241,
   "id": "09ad7609",
   "metadata": {},
   "outputs": [],
   "source": [
    "import numpy as np\n",
    "\n",
    "# Fill NaN based on skewness\n",
    "if abs(df['Danceability'].skew()) > 1:\n",
    "    df['Danceability'].fillna(df['Danceability'].median(), inplace=True)\n",
    "else:\n",
    "    df['Danceability'].fillna(df['Danceability'].mean(), inplace=True)\n",
    "\n",
    "if abs(df['Energy'].skew()) > 1:\n",
    "    df['Energy'].fillna(df['Energy'].median(), inplace=True)\n",
    "else:\n",
    "    df['Energy'].fillna(df['Energy'].mean(), inplace=True)\n",
    "\n",
    "if abs(df['Likes'].skew()) > 1:\n",
    "    df['Likes'].fillna(df['Likes'].median(), inplace=True)\n",
    "else:\n",
    "    df['Likes'].fillna(df['Likes'].mean(), inplace=True)\n"
   ]
  },
  {
   "cell_type": "markdown",
   "id": "476549a1",
   "metadata": {},
   "source": [
    "# Visualization"
   ]
  },
  {
   "cell_type": "code",
   "execution_count": 242,
   "id": "d6576d22",
   "metadata": {},
   "outputs": [
    {
     "data": {
      "text/html": [
       "<div>\n",
       "<style scoped>\n",
       "    .dataframe tbody tr th:only-of-type {\n",
       "        vertical-align: middle;\n",
       "    }\n",
       "\n",
       "    .dataframe tbody tr th {\n",
       "        vertical-align: top;\n",
       "    }\n",
       "\n",
       "    .dataframe thead th {\n",
       "        text-align: right;\n",
       "    }\n",
       "</style>\n",
       "<table border=\"1\" class=\"dataframe\">\n",
       "  <thead>\n",
       "    <tr style=\"text-align: right;\">\n",
       "      <th></th>\n",
       "      <th>Artist</th>\n",
       "      <th>Track</th>\n",
       "      <th>Album</th>\n",
       "      <th>Danceability</th>\n",
       "      <th>Energy</th>\n",
       "      <th>Likes</th>\n",
       "    </tr>\n",
       "  </thead>\n",
       "  <tbody>\n",
       "    <tr>\n",
       "      <th>0</th>\n",
       "      <td>Gorillaz</td>\n",
       "      <td>Feel Good Inc.</td>\n",
       "      <td>Demon Days</td>\n",
       "      <td>0.818</td>\n",
       "      <td>0.705</td>\n",
       "      <td>6220896.0</td>\n",
       "    </tr>\n",
       "    <tr>\n",
       "      <th>1</th>\n",
       "      <td>Gorillaz</td>\n",
       "      <td>Rhinestone Eyes</td>\n",
       "      <td>Plastic Beach</td>\n",
       "      <td>0.676</td>\n",
       "      <td>0.703</td>\n",
       "      <td>1079128.0</td>\n",
       "    </tr>\n",
       "    <tr>\n",
       "      <th>2</th>\n",
       "      <td>Gorillaz</td>\n",
       "      <td>New Gold (feat. Tame Impala and Bootie Brown)</td>\n",
       "      <td>New Gold (feat. Tame Impala and Bootie Brown)</td>\n",
       "      <td>0.695</td>\n",
       "      <td>0.923</td>\n",
       "      <td>282142.0</td>\n",
       "    </tr>\n",
       "    <tr>\n",
       "      <th>3</th>\n",
       "      <td>Gorillaz</td>\n",
       "      <td>On Melancholy Hill</td>\n",
       "      <td>Plastic Beach</td>\n",
       "      <td>0.689</td>\n",
       "      <td>0.739</td>\n",
       "      <td>1788577.0</td>\n",
       "    </tr>\n",
       "    <tr>\n",
       "      <th>4</th>\n",
       "      <td>Gorillaz</td>\n",
       "      <td>Clint Eastwood</td>\n",
       "      <td>Gorillaz</td>\n",
       "      <td>0.663</td>\n",
       "      <td>0.694</td>\n",
       "      <td>6197318.0</td>\n",
       "    </tr>\n",
       "  </tbody>\n",
       "</table>\n",
       "</div>"
      ],
      "text/plain": [
       "     Artist                                          Track  \\\n",
       "0  Gorillaz                                 Feel Good Inc.   \n",
       "1  Gorillaz                                Rhinestone Eyes   \n",
       "2  Gorillaz  New Gold (feat. Tame Impala and Bootie Brown)   \n",
       "3  Gorillaz                             On Melancholy Hill   \n",
       "4  Gorillaz                                 Clint Eastwood   \n",
       "\n",
       "                                           Album  Danceability  Energy  \\\n",
       "0                                     Demon Days         0.818   0.705   \n",
       "1                                  Plastic Beach         0.676   0.703   \n",
       "2  New Gold (feat. Tame Impala and Bootie Brown)         0.695   0.923   \n",
       "3                                  Plastic Beach         0.689   0.739   \n",
       "4                                       Gorillaz         0.663   0.694   \n",
       "\n",
       "       Likes  \n",
       "0  6220896.0  \n",
       "1  1079128.0  \n",
       "2   282142.0  \n",
       "3  1788577.0  \n",
       "4  6197318.0  "
      ]
     },
     "execution_count": 242,
     "metadata": {},
     "output_type": "execute_result"
    }
   ],
   "source": [
    "df.head()"
   ]
  },
  {
   "cell_type": "markdown",
   "id": "ddb4eeba",
   "metadata": {},
   "source": [
    "## Top 25 songs that has highest danceability and enregy ratio "
   ]
  },
  {
   "cell_type": "code",
   "execution_count": 243,
   "id": "eb8e16e7",
   "metadata": {},
   "outputs": [
    {
     "data": {
      "text/html": [
       "<style type=\"text/css\">\n",
       "#T_11aa6_row0_col1, #T_11aa6_row0_col2 {\n",
       "  background-color: #67000d;\n",
       "  color: #f1f1f1;\n",
       "}\n",
       "#T_11aa6_row1_col1 {\n",
       "  background-color: #f96346;\n",
       "  color: #f1f1f1;\n",
       "}\n",
       "#T_11aa6_row1_col2 {\n",
       "  background-color: #cf1c1f;\n",
       "  color: #f1f1f1;\n",
       "}\n",
       "#T_11aa6_row2_col1 {\n",
       "  background-color: #fc8d6d;\n",
       "  color: #f1f1f1;\n",
       "}\n",
       "#T_11aa6_row2_col2 {\n",
       "  background-color: #980c13;\n",
       "  color: #f1f1f1;\n",
       "}\n",
       "#T_11aa6_row3_col1 {\n",
       "  background-color: #fcc1a8;\n",
       "  color: #000000;\n",
       "}\n",
       "#T_11aa6_row3_col2 {\n",
       "  background-color: #fdc9b3;\n",
       "  color: #000000;\n",
       "}\n",
       "#T_11aa6_row4_col1 {\n",
       "  background-color: #fcc3ab;\n",
       "  color: #000000;\n",
       "}\n",
       "#T_11aa6_row4_col2 {\n",
       "  background-color: #fcc4ad;\n",
       "  color: #000000;\n",
       "}\n",
       "#T_11aa6_row5_col1, #T_11aa6_row6_col1 {\n",
       "  background-color: #fedccd;\n",
       "  color: #000000;\n",
       "}\n",
       "#T_11aa6_row5_col2 {\n",
       "  background-color: #fdcab5;\n",
       "  color: #000000;\n",
       "}\n",
       "#T_11aa6_row6_col2 {\n",
       "  background-color: #fc8e6e;\n",
       "  color: #000000;\n",
       "}\n",
       "#T_11aa6_row7_col1 {\n",
       "  background-color: #fedfd0;\n",
       "  color: #000000;\n",
       "}\n",
       "#T_11aa6_row7_col2 {\n",
       "  background-color: #fdd5c4;\n",
       "  color: #000000;\n",
       "}\n",
       "#T_11aa6_row8_col1, #T_11aa6_row21_col2 {\n",
       "  background-color: #fee5d9;\n",
       "  color: #000000;\n",
       "}\n",
       "#T_11aa6_row8_col2 {\n",
       "  background-color: #fedbcc;\n",
       "  color: #000000;\n",
       "}\n",
       "#T_11aa6_row9_col1 {\n",
       "  background-color: #fee6da;\n",
       "  color: #000000;\n",
       "}\n",
       "#T_11aa6_row9_col2 {\n",
       "  background-color: #fee2d5;\n",
       "  color: #000000;\n",
       "}\n",
       "#T_11aa6_row10_col1, #T_11aa6_row14_col2 {\n",
       "  background-color: #fee7db;\n",
       "  color: #000000;\n",
       "}\n",
       "#T_11aa6_row10_col2 {\n",
       "  background-color: #fed9c9;\n",
       "  color: #000000;\n",
       "}\n",
       "#T_11aa6_row11_col1, #T_11aa6_row12_col2 {\n",
       "  background-color: #fee9df;\n",
       "  color: #000000;\n",
       "}\n",
       "#T_11aa6_row11_col2 {\n",
       "  background-color: #fff0e8;\n",
       "  color: #000000;\n",
       "}\n",
       "#T_11aa6_row12_col1, #T_11aa6_row19_col2 {\n",
       "  background-color: #ffece3;\n",
       "  color: #000000;\n",
       "}\n",
       "#T_11aa6_row13_col1, #T_11aa6_row23_col2 {\n",
       "  background-color: #ffeee6;\n",
       "  color: #000000;\n",
       "}\n",
       "#T_11aa6_row13_col2, #T_11aa6_row17_col2 {\n",
       "  background-color: #fee4d8;\n",
       "  color: #000000;\n",
       "}\n",
       "#T_11aa6_row14_col1, #T_11aa6_row15_col2 {\n",
       "  background-color: #ffefe8;\n",
       "  color: #000000;\n",
       "}\n",
       "#T_11aa6_row15_col1, #T_11aa6_row16_col1 {\n",
       "  background-color: #fff1ea;\n",
       "  color: #000000;\n",
       "}\n",
       "#T_11aa6_row16_col2 {\n",
       "  background-color: #fc9373;\n",
       "  color: #000000;\n",
       "}\n",
       "#T_11aa6_row17_col1, #T_11aa6_row18_col1 {\n",
       "  background-color: #fff2eb;\n",
       "  color: #000000;\n",
       "}\n",
       "#T_11aa6_row18_col2 {\n",
       "  background-color: #feeae0;\n",
       "  color: #000000;\n",
       "}\n",
       "#T_11aa6_row19_col1, #T_11aa6_row20_col1, #T_11aa6_row21_col1 {\n",
       "  background-color: #fff2ec;\n",
       "  color: #000000;\n",
       "}\n",
       "#T_11aa6_row20_col2 {\n",
       "  background-color: #fff4ee;\n",
       "  color: #000000;\n",
       "}\n",
       "#T_11aa6_row22_col1, #T_11aa6_row23_col1, #T_11aa6_row24_col2 {\n",
       "  background-color: #fff4ef;\n",
       "  color: #000000;\n",
       "}\n",
       "#T_11aa6_row22_col2, #T_11aa6_row24_col1 {\n",
       "  background-color: #fff5f0;\n",
       "  color: #000000;\n",
       "}\n",
       "</style>\n",
       "<table id=\"T_11aa6\">\n",
       "  <thead>\n",
       "    <tr>\n",
       "      <th class=\"blank level0\" >&nbsp;</th>\n",
       "      <th id=\"T_11aa6_level0_col0\" class=\"col_heading level0 col0\" >Track</th>\n",
       "      <th id=\"T_11aa6_level0_col1\" class=\"col_heading level0 col1\" >Danceability</th>\n",
       "      <th id=\"T_11aa6_level0_col2\" class=\"col_heading level0 col2\" >Energy</th>\n",
       "    </tr>\n",
       "  </thead>\n",
       "  <tbody>\n",
       "    <tr>\n",
       "      <th id=\"T_11aa6_level0_row0\" class=\"row_heading level0 row0\" >0</th>\n",
       "      <td id=\"T_11aa6_row0_col0\" class=\"data row0 col0\" >Color Esperanza 2020</td>\n",
       "      <td id=\"T_11aa6_row0_col1\" class=\"data row0 col1\" >11.229000</td>\n",
       "      <td id=\"T_11aa6_row0_col2\" class=\"data row0 col2\" >14.915000</td>\n",
       "    </tr>\n",
       "    <tr>\n",
       "      <th id=\"T_11aa6_level0_row1\" class=\"row_heading level0 row1\" >1</th>\n",
       "      <td id=\"T_11aa6_row1_col0\" class=\"data row1 col0\" >Resistiré</td>\n",
       "      <td id=\"T_11aa6_row1_col1\" class=\"data row1 col1\" >7.570000</td>\n",
       "      <td id=\"T_11aa6_row1_col2\" class=\"data row1 col2\" >11.722000</td>\n",
       "    </tr>\n",
       "    <tr>\n",
       "      <th id=\"T_11aa6_level0_row2\" class=\"row_heading level0 row2\" >2</th>\n",
       "      <td id=\"T_11aa6_row2_col0\" class=\"data row2 col0\" >El Ultimo Adiós - Varios Artistas Version</td>\n",
       "      <td id=\"T_11aa6_row2_col1\" class=\"data row2 col1\" >6.624000</td>\n",
       "      <td id=\"T_11aa6_row2_col2\" class=\"data row2 col2\" >13.728000</td>\n",
       "    </tr>\n",
       "    <tr>\n",
       "      <th id=\"T_11aa6_level0_row3\" class=\"row_heading level0 row3\" >3</th>\n",
       "      <td id=\"T_11aa6_row3_col0\" class=\"data row3 col0\" >Heaven</td>\n",
       "      <td id=\"T_11aa6_row3_col1\" class=\"data row3 col1\" >5.412000</td>\n",
       "      <td id=\"T_11aa6_row3_col2\" class=\"data row3 col2\" >5.298000</td>\n",
       "    </tr>\n",
       "    <tr>\n",
       "      <th id=\"T_11aa6_level0_row4\" class=\"row_heading level0 row4\" >4</th>\n",
       "      <td id=\"T_11aa6_row4_col0\" class=\"data row4 col0\" >Valentine's Mashup 2019</td>\n",
       "      <td id=\"T_11aa6_row4_col1\" class=\"data row4 col1\" >5.355000</td>\n",
       "      <td id=\"T_11aa6_row4_col2\" class=\"data row4 col2\" >5.490000</td>\n",
       "    </tr>\n",
       "    <tr>\n",
       "      <th id=\"T_11aa6_level0_row5\" class=\"row_heading level0 row5\" >5</th>\n",
       "      <td id=\"T_11aa6_row5_col0\" class=\"data row5 col0\" >Ay Haiti!</td>\n",
       "      <td id=\"T_11aa6_row5_col1\" class=\"data row5 col1\" >4.711000</td>\n",
       "      <td id=\"T_11aa6_row5_col2\" class=\"data row5 col2\" >5.271000</td>\n",
       "    </tr>\n",
       "    <tr>\n",
       "      <th id=\"T_11aa6_level0_row6\" class=\"row_heading level0 row6\" >6</th>\n",
       "      <td id=\"T_11aa6_row6_col0\" class=\"data row6 col0\" >52 Non Stop Dilbar Dilbar Remix(Remix By Kedrock,Sd Style)</td>\n",
       "      <td id=\"T_11aa6_row6_col1\" class=\"data row6 col1\" >4.689000</td>\n",
       "      <td id=\"T_11aa6_row6_col2\" class=\"data row6 col2\" >7.533000</td>\n",
       "    </tr>\n",
       "    <tr>\n",
       "      <th id=\"T_11aa6_level0_row7\" class=\"row_heading level0 row7\" >7</th>\n",
       "      <td id=\"T_11aa6_row7_col0\" class=\"data row7 col0\" >Besharam Rang (From \"Pathaan\")</td>\n",
       "      <td id=\"T_11aa6_row7_col1\" class=\"data row7 col1\" >4.638000</td>\n",
       "      <td id=\"T_11aa6_row7_col2\" class=\"data row7 col2\" >4.770000</td>\n",
       "    </tr>\n",
       "    <tr>\n",
       "      <th id=\"T_11aa6_level0_row8\" class=\"row_heading level0 row8\" >8</th>\n",
       "      <td id=\"T_11aa6_row8_col0\" class=\"data row8 col0\" >Suave (Remix)</td>\n",
       "      <td id=\"T_11aa6_row8_col1\" class=\"data row8 col1\" >4.375000</td>\n",
       "      <td id=\"T_11aa6_row8_col2\" class=\"data row8 col2\" >4.545000</td>\n",
       "    </tr>\n",
       "    <tr>\n",
       "      <th id=\"T_11aa6_level0_row9\" class=\"row_heading level0 row9\" >9</th>\n",
       "      <td id=\"T_11aa6_row9_col0\" class=\"data row9 col0\" >Nada</td>\n",
       "      <td id=\"T_11aa6_row9_col1\" class=\"data row9 col1\" >4.361000</td>\n",
       "      <td id=\"T_11aa6_row9_col2\" class=\"data row9 col2\" >4.230000</td>\n",
       "    </tr>\n",
       "    <tr>\n",
       "      <th id=\"T_11aa6_level0_row10\" class=\"row_heading level0 row10\" >10</th>\n",
       "      <td id=\"T_11aa6_row10_col0\" class=\"data row10 col0\" >Candy</td>\n",
       "      <td id=\"T_11aa6_row10_col1\" class=\"data row10 col1\" >4.311000</td>\n",
       "      <td id=\"T_11aa6_row10_col2\" class=\"data row10 col2\" >4.641000</td>\n",
       "    </tr>\n",
       "    <tr>\n",
       "      <th id=\"T_11aa6_level0_row11\" class=\"row_heading level0 row11\" >11</th>\n",
       "      <td id=\"T_11aa6_row11_col0\" class=\"data row11 col0\" >Angel</td>\n",
       "      <td id=\"T_11aa6_row11_col1\" class=\"data row11 col1\" >4.200000</td>\n",
       "      <td id=\"T_11aa6_row11_col2\" class=\"data row11 col2\" >3.240200</td>\n",
       "    </tr>\n",
       "    <tr>\n",
       "      <th id=\"T_11aa6_level0_row12\" class=\"row_heading level0 row12\" >12</th>\n",
       "      <td id=\"T_11aa6_row12_col0\" class=\"data row12 col0\" >Jhoome Jo Pathaan</td>\n",
       "      <td id=\"T_11aa6_row12_col1\" class=\"data row12 col1\" >4.085000</td>\n",
       "      <td id=\"T_11aa6_row12_col2\" class=\"data row12 col2\" >3.690000</td>\n",
       "    </tr>\n",
       "    <tr>\n",
       "      <th id=\"T_11aa6_level0_row13\" class=\"row_heading level0 row13\" >13</th>\n",
       "      <td id=\"T_11aa6_row13_col0\" class=\"data row13 col0\" >Poesia Acústica 13</td>\n",
       "      <td id=\"T_11aa6_row13_col1\" class=\"data row13 col1\" >4.004000</td>\n",
       "      <td id=\"T_11aa6_row13_col2\" class=\"data row13 col2\" >4.053000</td>\n",
       "    </tr>\n",
       "    <tr>\n",
       "      <th id=\"T_11aa6_level0_row14\" class=\"row_heading level0 row14\" >14</th>\n",
       "      <td id=\"T_11aa6_row14_col0\" class=\"data row14 col0\" >Un Poco De Tu Amor</td>\n",
       "      <td id=\"T_11aa6_row14_col1\" class=\"data row14 col1\" >3.925000</td>\n",
       "      <td id=\"T_11aa6_row14_col2\" class=\"data row14 col2\" >3.865000</td>\n",
       "    </tr>\n",
       "    <tr>\n",
       "      <th id=\"T_11aa6_level0_row15\" class=\"row_heading level0 row15\" >15</th>\n",
       "      <td id=\"T_11aa6_row15_col0\" class=\"data row15 col0\" >Numb</td>\n",
       "      <td id=\"T_11aa6_row15_col1\" class=\"data row15 col1\" >3.855000</td>\n",
       "      <td id=\"T_11aa6_row15_col2\" class=\"data row15 col2\" >3.253000</td>\n",
       "    </tr>\n",
       "    <tr>\n",
       "      <th id=\"T_11aa6_level0_row16\" class=\"row_heading level0 row16\" >16</th>\n",
       "      <td id=\"T_11aa6_row16_col0\" class=\"data row16 col0\" >Roll Me Up and Smoke Me When I Die - Live</td>\n",
       "      <td id=\"T_11aa6_row16_col1\" class=\"data row16 col1\" >3.843000</td>\n",
       "      <td id=\"T_11aa6_row16_col2\" class=\"data row16 col2\" >7.317000</td>\n",
       "    </tr>\n",
       "    <tr>\n",
       "      <th id=\"T_11aa6_level0_row17\" class=\"row_heading level0 row17\" >17</th>\n",
       "      <td id=\"T_11aa6_row17_col0\" class=\"data row17 col0\" >Home</td>\n",
       "      <td id=\"T_11aa6_row17_col1\" class=\"data row17 col1\" >3.816000</td>\n",
       "      <td id=\"T_11aa6_row17_col2\" class=\"data row17 col2\" >4.052000</td>\n",
       "    </tr>\n",
       "    <tr>\n",
       "      <th id=\"T_11aa6_level0_row18\" class=\"row_heading level0 row18\" >18</th>\n",
       "      <td id=\"T_11aa6_row18_col0\" class=\"data row18 col0\" >Vete</td>\n",
       "      <td id=\"T_11aa6_row18_col1\" class=\"data row18 col1\" >3.802000</td>\n",
       "      <td id=\"T_11aa6_row18_col2\" class=\"data row18 col2\" >3.657000</td>\n",
       "    </tr>\n",
       "    <tr>\n",
       "      <th id=\"T_11aa6_level0_row19\" class=\"row_heading level0 row19\" >19</th>\n",
       "      <td id=\"T_11aa6_row19_col0\" class=\"data row19 col0\" >Firecracker</td>\n",
       "      <td id=\"T_11aa6_row19_col1\" class=\"data row19 col1\" >3.791000</td>\n",
       "      <td id=\"T_11aa6_row19_col2\" class=\"data row19 col2\" >3.492000</td>\n",
       "    </tr>\n",
       "    <tr>\n",
       "      <th id=\"T_11aa6_level0_row20\" class=\"row_heading level0 row20\" >20</th>\n",
       "      <td id=\"T_11aa6_row20_col0\" class=\"data row20 col0\" >La Curiosidad</td>\n",
       "      <td id=\"T_11aa6_row20_col1\" class=\"data row20 col1\" >3.787000</td>\n",
       "      <td id=\"T_11aa6_row20_col2\" class=\"data row20 col2\" >2.939000</td>\n",
       "    </tr>\n",
       "    <tr>\n",
       "      <th id=\"T_11aa6_level0_row21\" class=\"row_heading level0 row21\" >21</th>\n",
       "      <td id=\"T_11aa6_row21_col0\" class=\"data row21 col0\" >You</td>\n",
       "      <td id=\"T_11aa6_row21_col1\" class=\"data row21 col1\" >3.781000</td>\n",
       "      <td id=\"T_11aa6_row21_col2\" class=\"data row21 col2\" >3.999000</td>\n",
       "    </tr>\n",
       "    <tr>\n",
       "      <th id=\"T_11aa6_level0_row22\" class=\"row_heading level0 row22\" >22</th>\n",
       "      <td id=\"T_11aa6_row22_col0\" class=\"data row22 col0\" >Fever</td>\n",
       "      <td id=\"T_11aa6_row22_col1\" class=\"data row22 col1\" >3.710000</td>\n",
       "      <td id=\"T_11aa6_row22_col2\" class=\"data row22 col2\" >2.821000</td>\n",
       "    </tr>\n",
       "    <tr>\n",
       "      <th id=\"T_11aa6_level0_row23\" class=\"row_heading level0 row23\" >23</th>\n",
       "      <td id=\"T_11aa6_row23_col0\" class=\"data row23 col0\" >Body</td>\n",
       "      <td id=\"T_11aa6_row23_col1\" class=\"data row23 col1\" >3.706000</td>\n",
       "      <td id=\"T_11aa6_row23_col2\" class=\"data row23 col2\" >3.341000</td>\n",
       "    </tr>\n",
       "    <tr>\n",
       "      <th id=\"T_11aa6_level0_row24\" class=\"row_heading level0 row24\" >24</th>\n",
       "      <td id=\"T_11aa6_row24_col0\" class=\"data row24 col0\" >Te Amo</td>\n",
       "      <td id=\"T_11aa6_row24_col1\" class=\"data row24 col1\" >3.652000</td>\n",
       "      <td id=\"T_11aa6_row24_col2\" class=\"data row24 col2\" >2.904000</td>\n",
       "    </tr>\n",
       "  </tbody>\n",
       "</table>\n"
      ],
      "text/plain": [
       "<pandas.io.formats.style.Styler at 0x2484432caa0>"
      ]
     },
     "execution_count": 243,
     "metadata": {},
     "output_type": "execute_result"
    }
   ],
   "source": [
    "cato = (\n",
    "    df.groupby(\"Track\")[[\"Danceability\", \"Energy\"]]\n",
    "    .sum()\n",
    "    .sort_values(by=[\"Danceability\", \"Energy\"], ascending=False)\n",
    "    .reset_index()\n",
    ").head(25)\n",
    "\n",
    "cato.style.background_gradient(cmap=\"Reds\")"
   ]
  },
  {
   "cell_type": "markdown",
   "id": "cb3aead9",
   "metadata": {},
   "source": [
    "## Top 25 songs that has the highest likes"
   ]
  },
  {
   "cell_type": "code",
   "execution_count": 244,
   "id": "624fef80",
   "metadata": {},
   "outputs": [
    {
     "data": {
      "text/html": [
       "<style type=\"text/css\">\n",
       "#T_a6947_row0_col1 {\n",
       "  background-color: #7f2704;\n",
       "  color: #f1f1f1;\n",
       "}\n",
       "#T_a6947_row1_col1 {\n",
       "  background-color: #dd4d04;\n",
       "  color: #f1f1f1;\n",
       "}\n",
       "#T_a6947_row2_col1 {\n",
       "  background-color: #fda660;\n",
       "  color: #000000;\n",
       "}\n",
       "#T_a6947_row3_col1 {\n",
       "  background-color: #fdbd83;\n",
       "  color: #000000;\n",
       "}\n",
       "#T_a6947_row4_col1 {\n",
       "  background-color: #fdbe84;\n",
       "  color: #000000;\n",
       "}\n",
       "#T_a6947_row5_col1 {\n",
       "  background-color: #fdd8b2;\n",
       "  color: #000000;\n",
       "}\n",
       "#T_a6947_row6_col1 {\n",
       "  background-color: #fedcbb;\n",
       "  color: #000000;\n",
       "}\n",
       "#T_a6947_row7_col1 {\n",
       "  background-color: #feddbc;\n",
       "  color: #000000;\n",
       "}\n",
       "#T_a6947_row8_col1 {\n",
       "  background-color: #fedfc0;\n",
       "  color: #000000;\n",
       "}\n",
       "#T_a6947_row9_col1, #T_a6947_row10_col1 {\n",
       "  background-color: #feead5;\n",
       "  color: #000000;\n",
       "}\n",
       "#T_a6947_row11_col1 {\n",
       "  background-color: #feebd8;\n",
       "  color: #000000;\n",
       "}\n",
       "#T_a6947_row12_col1, #T_a6947_row13_col1 {\n",
       "  background-color: #feeddc;\n",
       "  color: #000000;\n",
       "}\n",
       "#T_a6947_row14_col1 {\n",
       "  background-color: #ffeedd;\n",
       "  color: #000000;\n",
       "}\n",
       "#T_a6947_row15_col1 {\n",
       "  background-color: #ffefe0;\n",
       "  color: #000000;\n",
       "}\n",
       "#T_a6947_row16_col1, #T_a6947_row17_col1 {\n",
       "  background-color: #fff1e4;\n",
       "  color: #000000;\n",
       "}\n",
       "#T_a6947_row18_col1 {\n",
       "  background-color: #fff2e6;\n",
       "  color: #000000;\n",
       "}\n",
       "#T_a6947_row19_col1 {\n",
       "  background-color: #fff4e8;\n",
       "  color: #000000;\n",
       "}\n",
       "#T_a6947_row20_col1, #T_a6947_row21_col1, #T_a6947_row22_col1 {\n",
       "  background-color: #fff5ea;\n",
       "  color: #000000;\n",
       "}\n",
       "#T_a6947_row23_col1, #T_a6947_row24_col1 {\n",
       "  background-color: #fff5eb;\n",
       "  color: #000000;\n",
       "}\n",
       "</style>\n",
       "<table id=\"T_a6947\">\n",
       "  <thead>\n",
       "    <tr>\n",
       "      <th class=\"blank level0\" >&nbsp;</th>\n",
       "      <th id=\"T_a6947_level0_col0\" class=\"col_heading level0 col0\" >Track</th>\n",
       "      <th id=\"T_a6947_level0_col1\" class=\"col_heading level0 col1\" >Likes</th>\n",
       "    </tr>\n",
       "  </thead>\n",
       "  <tbody>\n",
       "    <tr>\n",
       "      <th id=\"T_a6947_level0_row0\" class=\"row_heading level0 row0\" >0</th>\n",
       "      <td id=\"T_a6947_row0_col0\" class=\"data row0 col0\" >Despacito</td>\n",
       "      <td id=\"T_a6947_row0_col1\" class=\"data row0 col1\" >101577278.000000</td>\n",
       "    </tr>\n",
       "    <tr>\n",
       "      <th id=\"T_a6947_level0_row1\" class=\"row_heading level0 row1\" >1</th>\n",
       "      <td id=\"T_a6947_row1_col0\" class=\"data row1 col0\" >See You Again (feat. Charlie Puth)</td>\n",
       "      <td id=\"T_a6947_row1_col1\" class=\"data row1 col1\" >80295292.000000</td>\n",
       "    </tr>\n",
       "    <tr>\n",
       "      <th id=\"T_a6947_level0_row2\" class=\"row_heading level0 row2\" >2</th>\n",
       "      <td id=\"T_a6947_row2_col0\" class=\"data row2 col0\" >Boy With Luv (feat. Halsey)</td>\n",
       "      <td id=\"T_a6947_row2_col1\" class=\"data row2 col1\" >55176413.000000</td>\n",
       "    </tr>\n",
       "    <tr>\n",
       "      <th id=\"T_a6947_level0_row3\" class=\"row_heading level0 row3\" >3</th>\n",
       "      <td id=\"T_a6947_row3_col0\" class=\"data row3 col0\" >lovely (with Khalid)</td>\n",
       "      <td id=\"T_a6947_row3_col1\" class=\"data row3 col1\" >48852042.000000</td>\n",
       "    </tr>\n",
       "    <tr>\n",
       "      <th id=\"T_a6947_level0_row4\" class=\"row_heading level0 row4\" >4</th>\n",
       "      <td id=\"T_a6947_row4_col0\" class=\"data row4 col0\" >Lean On</td>\n",
       "      <td id=\"T_a6947_row4_col1\" class=\"data row4 col1\" >48633206.000000</td>\n",
       "    </tr>\n",
       "    <tr>\n",
       "      <th id=\"T_a6947_level0_row5\" class=\"row_heading level0 row5\" >5</th>\n",
       "      <td id=\"T_a6947_row5_col0\" class=\"data row5 col0\" >Señorita</td>\n",
       "      <td id=\"T_a6947_row5_col1\" class=\"data row5 col1\" >39692236.000000</td>\n",
       "    </tr>\n",
       "    <tr>\n",
       "      <th id=\"T_a6947_level0_row6\" class=\"row_heading level0 row6\" >6</th>\n",
       "      <td id=\"T_a6947_row6_col0\" class=\"data row6 col0\" >Old Town Road - Remix</td>\n",
       "      <td id=\"T_a6947_row6_col1\" class=\"data row6 col1\" >37889373.000000</td>\n",
       "    </tr>\n",
       "    <tr>\n",
       "      <th id=\"T_a6947_level0_row7\" class=\"row_heading level0 row7\" >7</th>\n",
       "      <td id=\"T_a6947_row7_col0\" class=\"data row7 col0\" >Taki Taki (with Selena Gomez, Ozuna & Cardi B)</td>\n",
       "      <td id=\"T_a6947_row7_col1\" class=\"data row7 col1\" >37552053.000000</td>\n",
       "    </tr>\n",
       "    <tr>\n",
       "      <th id=\"T_a6947_level0_row8\" class=\"row_heading level0 row8\" >8</th>\n",
       "      <td id=\"T_a6947_row8_col0\" class=\"data row8 col0\" >Dynamite</td>\n",
       "      <td id=\"T_a6947_row8_col1\" class=\"data row8 col1\" >36609928.000000</td>\n",
       "    </tr>\n",
       "    <tr>\n",
       "      <th id=\"T_a6947_level0_row9\" class=\"row_heading level0 row9\" >9</th>\n",
       "      <td id=\"T_a6947_row9_col0\" class=\"data row9 col0\" >Shape of You</td>\n",
       "      <td id=\"T_a6947_row9_col1\" class=\"data row9 col1\" >31047780.000000</td>\n",
       "    </tr>\n",
       "    <tr>\n",
       "      <th id=\"T_a6947_level0_row10\" class=\"row_heading level0 row10\" >10</th>\n",
       "      <td id=\"T_a6947_row10_col0\" class=\"data row10 col0\" >Happier</td>\n",
       "      <td id=\"T_a6947_row10_col1\" class=\"data row10 col1\" >31041744.000000</td>\n",
       "    </tr>\n",
       "    <tr>\n",
       "      <th id=\"T_a6947_level0_row11\" class=\"row_heading level0 row11\" >11</th>\n",
       "      <td id=\"T_a6947_row11_col0\" class=\"data row11 col0\" >Thrift Shop (feat. Wanz)</td>\n",
       "      <td id=\"T_a6947_row11_col1\" class=\"data row11 col1\" >30242165.000000</td>\n",
       "    </tr>\n",
       "    <tr>\n",
       "      <th id=\"T_a6947_level0_row12\" class=\"row_heading level0 row12\" >12</th>\n",
       "      <td id=\"T_a6947_row12_col0\" class=\"data row12 col0\" >Somebody That I Used To Know</td>\n",
       "      <td id=\"T_a6947_row12_col1\" class=\"data row12 col1\" >29168472.000000</td>\n",
       "    </tr>\n",
       "    <tr>\n",
       "      <th id=\"T_a6947_level0_row13\" class=\"row_heading level0 row13\" >13</th>\n",
       "      <td id=\"T_a6947_row13_col0\" class=\"data row13 col0\" >Swalla (feat. Nicki Minaj & Ty Dolla $ign)</td>\n",
       "      <td id=\"T_a6947_row13_col1\" class=\"data row13 col1\" >28864162.000000</td>\n",
       "    </tr>\n",
       "    <tr>\n",
       "      <th id=\"T_a6947_level0_row14\" class=\"row_heading level0 row14\" >14</th>\n",
       "      <td id=\"T_a6947_row14_col0\" class=\"data row14 col0\" >Dusk Till Dawn (feat. Sia) - Radio Edit</td>\n",
       "      <td id=\"T_a6947_row14_col1\" class=\"data row14 col1\" >28299420.000000</td>\n",
       "    </tr>\n",
       "    <tr>\n",
       "      <th id=\"T_a6947_level0_row15\" class=\"row_heading level0 row15\" >15</th>\n",
       "      <td id=\"T_a6947_row15_col0\" class=\"data row15 col0\" >Sunflower - Spider-Man: Into the Spider-Verse</td>\n",
       "      <td id=\"T_a6947_row15_col1\" class=\"data row15 col1\" >27499619.000000</td>\n",
       "    </tr>\n",
       "    <tr>\n",
       "      <th id=\"T_a6947_level0_row16\" class=\"row_heading level0 row16\" >16</th>\n",
       "      <td id=\"T_a6947_row16_col0\" class=\"data row16 col0\" >Faded</td>\n",
       "      <td id=\"T_a6947_row16_col1\" class=\"data row16 col1\" >26446178.000000</td>\n",
       "    </tr>\n",
       "    <tr>\n",
       "      <th id=\"T_a6947_level0_row17\" class=\"row_heading level0 row17\" >17</th>\n",
       "      <td id=\"T_a6947_row17_col0\" class=\"data row17 col0\" >Gangnam Style (강남스타일)</td>\n",
       "      <td id=\"T_a6947_row17_col1\" class=\"data row17 col1\" >26399133.000000</td>\n",
       "    </tr>\n",
       "    <tr>\n",
       "      <th id=\"T_a6947_level0_row18\" class=\"row_heading level0 row18\" >18</th>\n",
       "      <td id=\"T_a6947_row18_col0\" class=\"data row18 col0\" >Calma - Remix</td>\n",
       "      <td id=\"T_a6947_row18_col1\" class=\"data row18 col1\" >25649519.000000</td>\n",
       "    </tr>\n",
       "    <tr>\n",
       "      <th id=\"T_a6947_level0_row19\" class=\"row_heading level0 row19\" >19</th>\n",
       "      <td id=\"T_a6947_row19_col0\" class=\"data row19 col0\" >Perfect</td>\n",
       "      <td id=\"T_a6947_row19_col1\" class=\"data row19 col1\" >24814883.000000</td>\n",
       "    </tr>\n",
       "    <tr>\n",
       "      <th id=\"T_a6947_level0_row20\" class=\"row_heading level0 row20\" >20</th>\n",
       "      <td id=\"T_a6947_row20_col0\" class=\"data row20 col0\" >How You Like That</td>\n",
       "      <td id=\"T_a6947_row20_col1\" class=\"data row20 col1\" >24290306.000000</td>\n",
       "    </tr>\n",
       "    <tr>\n",
       "      <th id=\"T_a6947_level0_row21\" class=\"row_heading level0 row21\" >21</th>\n",
       "      <td id=\"T_a6947_row21_col0\" class=\"data row21 col0\" >Kill This Love</td>\n",
       "      <td id=\"T_a6947_row21_col1\" class=\"data row21 col1\" >24061574.000000</td>\n",
       "    </tr>\n",
       "    <tr>\n",
       "      <th id=\"T_a6947_level0_row22\" class=\"row_heading level0 row22\" >22</th>\n",
       "      <td id=\"T_a6947_row22_col0\" class=\"data row22 col0\" >Left and Right (Feat. Jung Kook of BTS)</td>\n",
       "      <td id=\"T_a6947_row22_col1\" class=\"data row22 col1\" >24050513.000000</td>\n",
       "    </tr>\n",
       "    <tr>\n",
       "      <th id=\"T_a6947_level0_row23\" class=\"row_heading level0 row23\" >23</th>\n",
       "      <td id=\"T_a6947_row23_col0\" class=\"data row23 col0\" >Baby</td>\n",
       "      <td id=\"T_a6947_row23_col1\" class=\"data row23 col1\" >23752800.000000</td>\n",
       "    </tr>\n",
       "    <tr>\n",
       "      <th id=\"T_a6947_level0_row24\" class=\"row_heading level0 row24\" >24</th>\n",
       "      <td id=\"T_a6947_row24_col0\" class=\"data row24 col0\" >FRIENDS</td>\n",
       "      <td id=\"T_a6947_row24_col1\" class=\"data row24 col1\" >23728645.000000</td>\n",
       "    </tr>\n",
       "  </tbody>\n",
       "</table>\n"
      ],
      "text/plain": [
       "<pandas.io.formats.style.Styler at 0x248402cb2f0>"
      ]
     },
     "execution_count": 244,
     "metadata": {},
     "output_type": "execute_result"
    }
   ],
   "source": [
    "highest_likes=df.groupby(\"Track\")[\"Likes\"].sum().sort_values(ascending=False).reset_index().head(25)\n",
    "highest_likes.style.background_gradient(cmap=\"Oranges\")"
   ]
  },
  {
   "cell_type": "code",
   "execution_count": 245,
   "id": "8e0c66f9",
   "metadata": {},
   "outputs": [
    {
     "data": {
      "application/vnd.plotly.v1+json": {
       "config": {
        "plotlyServerURL": "https://plot.ly"
       },
       "data": [
        {
         "alignmentgroup": "True",
         "hovertemplate": "variable=Danceability<br>Track=%{x}<br>value=%{y}<extra></extra>",
         "legendgroup": "Danceability",
         "marker": {
          "color": "#636efa",
          "pattern": {
           "shape": ""
          }
         },
         "name": "Danceability",
         "offsetgroup": "Danceability",
         "orientation": "v",
         "showlegend": true,
         "textposition": "auto",
         "type": "bar",
         "x": [
          "Color Esperanza 2020",
          "Resistiré",
          "El Ultimo Adiós - Varios Artistas Version",
          "Heaven",
          "Valentine's Mashup 2019",
          "Ay Haiti!",
          "52 Non Stop Dilbar Dilbar Remix(Remix By Kedrock,Sd Style)",
          "Besharam Rang (From \"Pathaan\")",
          "Suave (Remix)",
          "Nada",
          "Candy",
          "Angel",
          "Jhoome Jo Pathaan",
          "Poesia Acústica 13",
          "Un Poco De Tu Amor",
          "Numb",
          "Roll Me Up and Smoke Me When I Die - Live",
          "Home",
          "Vete",
          "Firecracker",
          "La Curiosidad",
          "You",
          "Fever",
          "Body",
          "Te Amo"
         ],
         "xaxis": "x",
         "y": {
          "bdata": "aJHtfD91JkBI4XoUrkceQObQItv5fhpA2c73U+OlFUDrUbgehWsVQPLSTWIQ2BJAqMZLN4nBEkBaZDvfT40SQAAAAAAAgBFAi2zn+6lxEUBYObTIdj4RQM3MzMzMzBBA16NwPQpXEEBqvHSTGAQQQGdmZmZmZg9A16NwPQrXDkBYObTIdr4OQLpJDAIrhw5A0SLb+X5qDkCHFtnO91MOQLKd76fGSw5AcmiR7Xw/DkCuR+F6FK4NQNnO91PjpQ1Anu+nxks3DUA=",
          "dtype": "f8"
         },
         "yaxis": "y"
        },
        {
         "alignmentgroup": "True",
         "hovertemplate": "variable=Energy<br>Track=%{x}<br>value=%{y}<extra></extra>",
         "legendgroup": "Energy",
         "marker": {
          "color": "#EF553B",
          "pattern": {
           "shape": ""
          }
         },
         "name": "Energy",
         "offsetgroup": "Energy",
         "orientation": "v",
         "showlegend": true,
         "textposition": "auto",
         "type": "bar",
         "x": [
          "Color Esperanza 2020",
          "Resistiré",
          "El Ultimo Adiós - Varios Artistas Version",
          "Heaven",
          "Valentine's Mashup 2019",
          "Ay Haiti!",
          "52 Non Stop Dilbar Dilbar Remix(Remix By Kedrock,Sd Style)",
          "Besharam Rang (From \"Pathaan\")",
          "Suave (Remix)",
          "Nada",
          "Candy",
          "Angel",
          "Jhoome Jo Pathaan",
          "Poesia Acústica 13",
          "Un Poco De Tu Amor",
          "Numb",
          "Roll Me Up and Smoke Me When I Die - Live",
          "Home",
          "Vete",
          "Firecracker",
          "La Curiosidad",
          "You",
          "Fever",
          "Body",
          "Te Amo"
         ],
         "xaxis": "x",
         "y": {
          "bdata": "Fa5H4XrULUCLbOf7qXEnQNr5fmq8dCtA/tR46SYxFUD2KFyPwvUVQC/dJAaBFRVAbhKDwMohHkAVrkfhehQTQK5H4XoULhJA7FG4HoXrEECq8dJNYpASQFz+Q/rt6wlAhetRuB6FDUCDwMqhRTYQQOxRuB6F6w5AoBov3SQGCkD3U+Olm0QdQGiR7Xw/NRBAqMZLN4lBDUBWDi2yne8LQFCNl24SgwdAyqFFtvP9D0DEILByaJEGQO58PzVeugpACKwcWmQ7B0A=",
          "dtype": "f8"
         },
         "yaxis": "y"
        }
       ],
       "layout": {
        "barmode": "group",
        "legend": {
         "title": {
          "text": "variable"
         },
         "tracegroupgap": 0
        },
        "template": {
         "data": {
          "bar": [
           {
            "error_x": {
             "color": "#2a3f5f"
            },
            "error_y": {
             "color": "#2a3f5f"
            },
            "marker": {
             "line": {
              "color": "#E5ECF6",
              "width": 0.5
             },
             "pattern": {
              "fillmode": "overlay",
              "size": 10,
              "solidity": 0.2
             }
            },
            "type": "bar"
           }
          ],
          "barpolar": [
           {
            "marker": {
             "line": {
              "color": "#E5ECF6",
              "width": 0.5
             },
             "pattern": {
              "fillmode": "overlay",
              "size": 10,
              "solidity": 0.2
             }
            },
            "type": "barpolar"
           }
          ],
          "carpet": [
           {
            "aaxis": {
             "endlinecolor": "#2a3f5f",
             "gridcolor": "white",
             "linecolor": "white",
             "minorgridcolor": "white",
             "startlinecolor": "#2a3f5f"
            },
            "baxis": {
             "endlinecolor": "#2a3f5f",
             "gridcolor": "white",
             "linecolor": "white",
             "minorgridcolor": "white",
             "startlinecolor": "#2a3f5f"
            },
            "type": "carpet"
           }
          ],
          "choropleth": [
           {
            "colorbar": {
             "outlinewidth": 0,
             "ticks": ""
            },
            "type": "choropleth"
           }
          ],
          "contour": [
           {
            "colorbar": {
             "outlinewidth": 0,
             "ticks": ""
            },
            "colorscale": [
             [
              0,
              "#0d0887"
             ],
             [
              0.1111111111111111,
              "#46039f"
             ],
             [
              0.2222222222222222,
              "#7201a8"
             ],
             [
              0.3333333333333333,
              "#9c179e"
             ],
             [
              0.4444444444444444,
              "#bd3786"
             ],
             [
              0.5555555555555556,
              "#d8576b"
             ],
             [
              0.6666666666666666,
              "#ed7953"
             ],
             [
              0.7777777777777778,
              "#fb9f3a"
             ],
             [
              0.8888888888888888,
              "#fdca26"
             ],
             [
              1,
              "#f0f921"
             ]
            ],
            "type": "contour"
           }
          ],
          "contourcarpet": [
           {
            "colorbar": {
             "outlinewidth": 0,
             "ticks": ""
            },
            "type": "contourcarpet"
           }
          ],
          "heatmap": [
           {
            "colorbar": {
             "outlinewidth": 0,
             "ticks": ""
            },
            "colorscale": [
             [
              0,
              "#0d0887"
             ],
             [
              0.1111111111111111,
              "#46039f"
             ],
             [
              0.2222222222222222,
              "#7201a8"
             ],
             [
              0.3333333333333333,
              "#9c179e"
             ],
             [
              0.4444444444444444,
              "#bd3786"
             ],
             [
              0.5555555555555556,
              "#d8576b"
             ],
             [
              0.6666666666666666,
              "#ed7953"
             ],
             [
              0.7777777777777778,
              "#fb9f3a"
             ],
             [
              0.8888888888888888,
              "#fdca26"
             ],
             [
              1,
              "#f0f921"
             ]
            ],
            "type": "heatmap"
           }
          ],
          "histogram": [
           {
            "marker": {
             "pattern": {
              "fillmode": "overlay",
              "size": 10,
              "solidity": 0.2
             }
            },
            "type": "histogram"
           }
          ],
          "histogram2d": [
           {
            "colorbar": {
             "outlinewidth": 0,
             "ticks": ""
            },
            "colorscale": [
             [
              0,
              "#0d0887"
             ],
             [
              0.1111111111111111,
              "#46039f"
             ],
             [
              0.2222222222222222,
              "#7201a8"
             ],
             [
              0.3333333333333333,
              "#9c179e"
             ],
             [
              0.4444444444444444,
              "#bd3786"
             ],
             [
              0.5555555555555556,
              "#d8576b"
             ],
             [
              0.6666666666666666,
              "#ed7953"
             ],
             [
              0.7777777777777778,
              "#fb9f3a"
             ],
             [
              0.8888888888888888,
              "#fdca26"
             ],
             [
              1,
              "#f0f921"
             ]
            ],
            "type": "histogram2d"
           }
          ],
          "histogram2dcontour": [
           {
            "colorbar": {
             "outlinewidth": 0,
             "ticks": ""
            },
            "colorscale": [
             [
              0,
              "#0d0887"
             ],
             [
              0.1111111111111111,
              "#46039f"
             ],
             [
              0.2222222222222222,
              "#7201a8"
             ],
             [
              0.3333333333333333,
              "#9c179e"
             ],
             [
              0.4444444444444444,
              "#bd3786"
             ],
             [
              0.5555555555555556,
              "#d8576b"
             ],
             [
              0.6666666666666666,
              "#ed7953"
             ],
             [
              0.7777777777777778,
              "#fb9f3a"
             ],
             [
              0.8888888888888888,
              "#fdca26"
             ],
             [
              1,
              "#f0f921"
             ]
            ],
            "type": "histogram2dcontour"
           }
          ],
          "mesh3d": [
           {
            "colorbar": {
             "outlinewidth": 0,
             "ticks": ""
            },
            "type": "mesh3d"
           }
          ],
          "parcoords": [
           {
            "line": {
             "colorbar": {
              "outlinewidth": 0,
              "ticks": ""
             }
            },
            "type": "parcoords"
           }
          ],
          "pie": [
           {
            "automargin": true,
            "type": "pie"
           }
          ],
          "scatter": [
           {
            "fillpattern": {
             "fillmode": "overlay",
             "size": 10,
             "solidity": 0.2
            },
            "type": "scatter"
           }
          ],
          "scatter3d": [
           {
            "line": {
             "colorbar": {
              "outlinewidth": 0,
              "ticks": ""
             }
            },
            "marker": {
             "colorbar": {
              "outlinewidth": 0,
              "ticks": ""
             }
            },
            "type": "scatter3d"
           }
          ],
          "scattercarpet": [
           {
            "marker": {
             "colorbar": {
              "outlinewidth": 0,
              "ticks": ""
             }
            },
            "type": "scattercarpet"
           }
          ],
          "scattergeo": [
           {
            "marker": {
             "colorbar": {
              "outlinewidth": 0,
              "ticks": ""
             }
            },
            "type": "scattergeo"
           }
          ],
          "scattergl": [
           {
            "marker": {
             "colorbar": {
              "outlinewidth": 0,
              "ticks": ""
             }
            },
            "type": "scattergl"
           }
          ],
          "scattermap": [
           {
            "marker": {
             "colorbar": {
              "outlinewidth": 0,
              "ticks": ""
             }
            },
            "type": "scattermap"
           }
          ],
          "scattermapbox": [
           {
            "marker": {
             "colorbar": {
              "outlinewidth": 0,
              "ticks": ""
             }
            },
            "type": "scattermapbox"
           }
          ],
          "scatterpolar": [
           {
            "marker": {
             "colorbar": {
              "outlinewidth": 0,
              "ticks": ""
             }
            },
            "type": "scatterpolar"
           }
          ],
          "scatterpolargl": [
           {
            "marker": {
             "colorbar": {
              "outlinewidth": 0,
              "ticks": ""
             }
            },
            "type": "scatterpolargl"
           }
          ],
          "scatterternary": [
           {
            "marker": {
             "colorbar": {
              "outlinewidth": 0,
              "ticks": ""
             }
            },
            "type": "scatterternary"
           }
          ],
          "surface": [
           {
            "colorbar": {
             "outlinewidth": 0,
             "ticks": ""
            },
            "colorscale": [
             [
              0,
              "#0d0887"
             ],
             [
              0.1111111111111111,
              "#46039f"
             ],
             [
              0.2222222222222222,
              "#7201a8"
             ],
             [
              0.3333333333333333,
              "#9c179e"
             ],
             [
              0.4444444444444444,
              "#bd3786"
             ],
             [
              0.5555555555555556,
              "#d8576b"
             ],
             [
              0.6666666666666666,
              "#ed7953"
             ],
             [
              0.7777777777777778,
              "#fb9f3a"
             ],
             [
              0.8888888888888888,
              "#fdca26"
             ],
             [
              1,
              "#f0f921"
             ]
            ],
            "type": "surface"
           }
          ],
          "table": [
           {
            "cells": {
             "fill": {
              "color": "#EBF0F8"
             },
             "line": {
              "color": "white"
             }
            },
            "header": {
             "fill": {
              "color": "#C8D4E3"
             },
             "line": {
              "color": "white"
             }
            },
            "type": "table"
           }
          ]
         },
         "layout": {
          "annotationdefaults": {
           "arrowcolor": "#2a3f5f",
           "arrowhead": 0,
           "arrowwidth": 1
          },
          "autotypenumbers": "strict",
          "coloraxis": {
           "colorbar": {
            "outlinewidth": 0,
            "ticks": ""
           }
          },
          "colorscale": {
           "diverging": [
            [
             0,
             "#8e0152"
            ],
            [
             0.1,
             "#c51b7d"
            ],
            [
             0.2,
             "#de77ae"
            ],
            [
             0.3,
             "#f1b6da"
            ],
            [
             0.4,
             "#fde0ef"
            ],
            [
             0.5,
             "#f7f7f7"
            ],
            [
             0.6,
             "#e6f5d0"
            ],
            [
             0.7,
             "#b8e186"
            ],
            [
             0.8,
             "#7fbc41"
            ],
            [
             0.9,
             "#4d9221"
            ],
            [
             1,
             "#276419"
            ]
           ],
           "sequential": [
            [
             0,
             "#0d0887"
            ],
            [
             0.1111111111111111,
             "#46039f"
            ],
            [
             0.2222222222222222,
             "#7201a8"
            ],
            [
             0.3333333333333333,
             "#9c179e"
            ],
            [
             0.4444444444444444,
             "#bd3786"
            ],
            [
             0.5555555555555556,
             "#d8576b"
            ],
            [
             0.6666666666666666,
             "#ed7953"
            ],
            [
             0.7777777777777778,
             "#fb9f3a"
            ],
            [
             0.8888888888888888,
             "#fdca26"
            ],
            [
             1,
             "#f0f921"
            ]
           ],
           "sequentialminus": [
            [
             0,
             "#0d0887"
            ],
            [
             0.1111111111111111,
             "#46039f"
            ],
            [
             0.2222222222222222,
             "#7201a8"
            ],
            [
             0.3333333333333333,
             "#9c179e"
            ],
            [
             0.4444444444444444,
             "#bd3786"
            ],
            [
             0.5555555555555556,
             "#d8576b"
            ],
            [
             0.6666666666666666,
             "#ed7953"
            ],
            [
             0.7777777777777778,
             "#fb9f3a"
            ],
            [
             0.8888888888888888,
             "#fdca26"
            ],
            [
             1,
             "#f0f921"
            ]
           ]
          },
          "colorway": [
           "#636efa",
           "#EF553B",
           "#00cc96",
           "#ab63fa",
           "#FFA15A",
           "#19d3f3",
           "#FF6692",
           "#B6E880",
           "#FF97FF",
           "#FECB52"
          ],
          "font": {
           "color": "#2a3f5f"
          },
          "geo": {
           "bgcolor": "white",
           "lakecolor": "white",
           "landcolor": "#E5ECF6",
           "showlakes": true,
           "showland": true,
           "subunitcolor": "white"
          },
          "hoverlabel": {
           "align": "left"
          },
          "hovermode": "closest",
          "mapbox": {
           "style": "light"
          },
          "paper_bgcolor": "white",
          "plot_bgcolor": "#E5ECF6",
          "polar": {
           "angularaxis": {
            "gridcolor": "white",
            "linecolor": "white",
            "ticks": ""
           },
           "bgcolor": "#E5ECF6",
           "radialaxis": {
            "gridcolor": "white",
            "linecolor": "white",
            "ticks": ""
           }
          },
          "scene": {
           "xaxis": {
            "backgroundcolor": "#E5ECF6",
            "gridcolor": "white",
            "gridwidth": 2,
            "linecolor": "white",
            "showbackground": true,
            "ticks": "",
            "zerolinecolor": "white"
           },
           "yaxis": {
            "backgroundcolor": "#E5ECF6",
            "gridcolor": "white",
            "gridwidth": 2,
            "linecolor": "white",
            "showbackground": true,
            "ticks": "",
            "zerolinecolor": "white"
           },
           "zaxis": {
            "backgroundcolor": "#E5ECF6",
            "gridcolor": "white",
            "gridwidth": 2,
            "linecolor": "white",
            "showbackground": true,
            "ticks": "",
            "zerolinecolor": "white"
           }
          },
          "shapedefaults": {
           "line": {
            "color": "#2a3f5f"
           }
          },
          "ternary": {
           "aaxis": {
            "gridcolor": "white",
            "linecolor": "white",
            "ticks": ""
           },
           "baxis": {
            "gridcolor": "white",
            "linecolor": "white",
            "ticks": ""
           },
           "bgcolor": "#E5ECF6",
           "caxis": {
            "gridcolor": "white",
            "linecolor": "white",
            "ticks": ""
           }
          },
          "title": {
           "x": 0.05
          },
          "xaxis": {
           "automargin": true,
           "gridcolor": "white",
           "linecolor": "white",
           "ticks": "",
           "title": {
            "standoff": 15
           },
           "zerolinecolor": "white",
           "zerolinewidth": 2
          },
          "yaxis": {
           "automargin": true,
           "gridcolor": "white",
           "linecolor": "white",
           "ticks": "",
           "title": {
            "standoff": 15
           },
           "zerolinecolor": "white",
           "zerolinewidth": 2
          }
         }
        },
        "title": {
         "text": "Top 25 songs that has highest danceability and enregy ratio "
        },
        "xaxis": {
         "anchor": "y",
         "domain": [
          0,
          1
         ],
         "title": {
          "text": "Track"
         }
        },
        "yaxis": {
         "anchor": "x",
         "domain": [
          0,
          1
         ],
         "title": {
          "text": "value"
         }
        }
       }
      }
     },
     "metadata": {},
     "output_type": "display_data"
    }
   ],
   "source": [
    "import plotly.express as px\n",
    "fig=px.bar(cato,x=\"Track\",y=[\"Danceability\",\"Energy\"],barmode=\"group\",title=\"Top 25 songs that has highest danceability and enregy ratio \")\n",
    "fig.show()"
   ]
  },
  {
   "cell_type": "code",
   "execution_count": 246,
   "id": "dadca945",
   "metadata": {},
   "outputs": [
    {
     "data": {
      "application/vnd.plotly.v1+json": {
       "config": {
        "plotlyServerURL": "https://plot.ly"
       },
       "data": [
        {
         "hovertemplate": "Track=%{x}<br>Likes=%{y}<extra></extra>",
         "legendgroup": "",
         "marker": {
          "color": "#636efa",
          "pattern": {
           "shape": ""
          }
         },
         "name": "",
         "orientation": "v",
         "showlegend": false,
         "textposition": "auto",
         "type": "bar",
         "x": [
          "Despacito",
          "See You Again (feat. Charlie Puth)",
          "Boy With Luv (feat. Halsey)",
          "lovely (with Khalid)",
          "Lean On",
          "Señorita",
          "Old Town Road - Remix",
          "Taki Taki (with Selena Gomez, Ozuna & Cardi B)",
          "Dynamite",
          "Shape of You",
          "Happier",
          "Thrift Shop (feat. Wanz)",
          "Somebody That I Used To Know",
          "Swalla (feat. Nicki Minaj & Ty Dolla $ign)",
          "Dusk Till Dawn (feat. Sia) - Radio Edit",
          "Sunflower - Spider-Man: Into the Spider-Verse",
          "Faded",
          "Gangnam Style (강남스타일)",
          "Calma - Remix",
          "Perfect",
          "How You Like That",
          "Kill This Love",
          "Left and Right (Feat. Jung Kook of BTS)",
          "Baby",
          "FRIENDS"
         ],
         "xaxis": "x",
         "y": {
          "bdata": "AAAA+Mg3mEEAAADw1SSTQQAAAOhmT4pBAAAAUGJLh0EAAACwqzCHQQAAAGA+7YJBAAAA6CoRgkEAAACo/eeBQQAAAED8dIFBAAAAQAacfUEAAAAAjZp9QQAAAFBX13xBAAAAgDXRe0EAAAAg6oZ7QQAAAMAJ/XpBAAAAMMY5ekEAAAAgljh5QQAAANAZLXlBAAAA8BZ2eEEAAAAwUqp3QQAAACBAKndBAAAAYGjydkEAAAAQte92QQAAAAAGp3ZBAAAAUCChdkE=",
          "dtype": "f8"
         },
         "yaxis": "y"
        }
       ],
       "layout": {
        "barmode": "relative",
        "legend": {
         "tracegroupgap": 0
        },
        "template": {
         "data": {
          "bar": [
           {
            "error_x": {
             "color": "#2a3f5f"
            },
            "error_y": {
             "color": "#2a3f5f"
            },
            "marker": {
             "line": {
              "color": "#E5ECF6",
              "width": 0.5
             },
             "pattern": {
              "fillmode": "overlay",
              "size": 10,
              "solidity": 0.2
             }
            },
            "type": "bar"
           }
          ],
          "barpolar": [
           {
            "marker": {
             "line": {
              "color": "#E5ECF6",
              "width": 0.5
             },
             "pattern": {
              "fillmode": "overlay",
              "size": 10,
              "solidity": 0.2
             }
            },
            "type": "barpolar"
           }
          ],
          "carpet": [
           {
            "aaxis": {
             "endlinecolor": "#2a3f5f",
             "gridcolor": "white",
             "linecolor": "white",
             "minorgridcolor": "white",
             "startlinecolor": "#2a3f5f"
            },
            "baxis": {
             "endlinecolor": "#2a3f5f",
             "gridcolor": "white",
             "linecolor": "white",
             "minorgridcolor": "white",
             "startlinecolor": "#2a3f5f"
            },
            "type": "carpet"
           }
          ],
          "choropleth": [
           {
            "colorbar": {
             "outlinewidth": 0,
             "ticks": ""
            },
            "type": "choropleth"
           }
          ],
          "contour": [
           {
            "colorbar": {
             "outlinewidth": 0,
             "ticks": ""
            },
            "colorscale": [
             [
              0,
              "#0d0887"
             ],
             [
              0.1111111111111111,
              "#46039f"
             ],
             [
              0.2222222222222222,
              "#7201a8"
             ],
             [
              0.3333333333333333,
              "#9c179e"
             ],
             [
              0.4444444444444444,
              "#bd3786"
             ],
             [
              0.5555555555555556,
              "#d8576b"
             ],
             [
              0.6666666666666666,
              "#ed7953"
             ],
             [
              0.7777777777777778,
              "#fb9f3a"
             ],
             [
              0.8888888888888888,
              "#fdca26"
             ],
             [
              1,
              "#f0f921"
             ]
            ],
            "type": "contour"
           }
          ],
          "contourcarpet": [
           {
            "colorbar": {
             "outlinewidth": 0,
             "ticks": ""
            },
            "type": "contourcarpet"
           }
          ],
          "heatmap": [
           {
            "colorbar": {
             "outlinewidth": 0,
             "ticks": ""
            },
            "colorscale": [
             [
              0,
              "#0d0887"
             ],
             [
              0.1111111111111111,
              "#46039f"
             ],
             [
              0.2222222222222222,
              "#7201a8"
             ],
             [
              0.3333333333333333,
              "#9c179e"
             ],
             [
              0.4444444444444444,
              "#bd3786"
             ],
             [
              0.5555555555555556,
              "#d8576b"
             ],
             [
              0.6666666666666666,
              "#ed7953"
             ],
             [
              0.7777777777777778,
              "#fb9f3a"
             ],
             [
              0.8888888888888888,
              "#fdca26"
             ],
             [
              1,
              "#f0f921"
             ]
            ],
            "type": "heatmap"
           }
          ],
          "histogram": [
           {
            "marker": {
             "pattern": {
              "fillmode": "overlay",
              "size": 10,
              "solidity": 0.2
             }
            },
            "type": "histogram"
           }
          ],
          "histogram2d": [
           {
            "colorbar": {
             "outlinewidth": 0,
             "ticks": ""
            },
            "colorscale": [
             [
              0,
              "#0d0887"
             ],
             [
              0.1111111111111111,
              "#46039f"
             ],
             [
              0.2222222222222222,
              "#7201a8"
             ],
             [
              0.3333333333333333,
              "#9c179e"
             ],
             [
              0.4444444444444444,
              "#bd3786"
             ],
             [
              0.5555555555555556,
              "#d8576b"
             ],
             [
              0.6666666666666666,
              "#ed7953"
             ],
             [
              0.7777777777777778,
              "#fb9f3a"
             ],
             [
              0.8888888888888888,
              "#fdca26"
             ],
             [
              1,
              "#f0f921"
             ]
            ],
            "type": "histogram2d"
           }
          ],
          "histogram2dcontour": [
           {
            "colorbar": {
             "outlinewidth": 0,
             "ticks": ""
            },
            "colorscale": [
             [
              0,
              "#0d0887"
             ],
             [
              0.1111111111111111,
              "#46039f"
             ],
             [
              0.2222222222222222,
              "#7201a8"
             ],
             [
              0.3333333333333333,
              "#9c179e"
             ],
             [
              0.4444444444444444,
              "#bd3786"
             ],
             [
              0.5555555555555556,
              "#d8576b"
             ],
             [
              0.6666666666666666,
              "#ed7953"
             ],
             [
              0.7777777777777778,
              "#fb9f3a"
             ],
             [
              0.8888888888888888,
              "#fdca26"
             ],
             [
              1,
              "#f0f921"
             ]
            ],
            "type": "histogram2dcontour"
           }
          ],
          "mesh3d": [
           {
            "colorbar": {
             "outlinewidth": 0,
             "ticks": ""
            },
            "type": "mesh3d"
           }
          ],
          "parcoords": [
           {
            "line": {
             "colorbar": {
              "outlinewidth": 0,
              "ticks": ""
             }
            },
            "type": "parcoords"
           }
          ],
          "pie": [
           {
            "automargin": true,
            "type": "pie"
           }
          ],
          "scatter": [
           {
            "fillpattern": {
             "fillmode": "overlay",
             "size": 10,
             "solidity": 0.2
            },
            "type": "scatter"
           }
          ],
          "scatter3d": [
           {
            "line": {
             "colorbar": {
              "outlinewidth": 0,
              "ticks": ""
             }
            },
            "marker": {
             "colorbar": {
              "outlinewidth": 0,
              "ticks": ""
             }
            },
            "type": "scatter3d"
           }
          ],
          "scattercarpet": [
           {
            "marker": {
             "colorbar": {
              "outlinewidth": 0,
              "ticks": ""
             }
            },
            "type": "scattercarpet"
           }
          ],
          "scattergeo": [
           {
            "marker": {
             "colorbar": {
              "outlinewidth": 0,
              "ticks": ""
             }
            },
            "type": "scattergeo"
           }
          ],
          "scattergl": [
           {
            "marker": {
             "colorbar": {
              "outlinewidth": 0,
              "ticks": ""
             }
            },
            "type": "scattergl"
           }
          ],
          "scattermap": [
           {
            "marker": {
             "colorbar": {
              "outlinewidth": 0,
              "ticks": ""
             }
            },
            "type": "scattermap"
           }
          ],
          "scattermapbox": [
           {
            "marker": {
             "colorbar": {
              "outlinewidth": 0,
              "ticks": ""
             }
            },
            "type": "scattermapbox"
           }
          ],
          "scatterpolar": [
           {
            "marker": {
             "colorbar": {
              "outlinewidth": 0,
              "ticks": ""
             }
            },
            "type": "scatterpolar"
           }
          ],
          "scatterpolargl": [
           {
            "marker": {
             "colorbar": {
              "outlinewidth": 0,
              "ticks": ""
             }
            },
            "type": "scatterpolargl"
           }
          ],
          "scatterternary": [
           {
            "marker": {
             "colorbar": {
              "outlinewidth": 0,
              "ticks": ""
             }
            },
            "type": "scatterternary"
           }
          ],
          "surface": [
           {
            "colorbar": {
             "outlinewidth": 0,
             "ticks": ""
            },
            "colorscale": [
             [
              0,
              "#0d0887"
             ],
             [
              0.1111111111111111,
              "#46039f"
             ],
             [
              0.2222222222222222,
              "#7201a8"
             ],
             [
              0.3333333333333333,
              "#9c179e"
             ],
             [
              0.4444444444444444,
              "#bd3786"
             ],
             [
              0.5555555555555556,
              "#d8576b"
             ],
             [
              0.6666666666666666,
              "#ed7953"
             ],
             [
              0.7777777777777778,
              "#fb9f3a"
             ],
             [
              0.8888888888888888,
              "#fdca26"
             ],
             [
              1,
              "#f0f921"
             ]
            ],
            "type": "surface"
           }
          ],
          "table": [
           {
            "cells": {
             "fill": {
              "color": "#EBF0F8"
             },
             "line": {
              "color": "white"
             }
            },
            "header": {
             "fill": {
              "color": "#C8D4E3"
             },
             "line": {
              "color": "white"
             }
            },
            "type": "table"
           }
          ]
         },
         "layout": {
          "annotationdefaults": {
           "arrowcolor": "#2a3f5f",
           "arrowhead": 0,
           "arrowwidth": 1
          },
          "autotypenumbers": "strict",
          "coloraxis": {
           "colorbar": {
            "outlinewidth": 0,
            "ticks": ""
           }
          },
          "colorscale": {
           "diverging": [
            [
             0,
             "#8e0152"
            ],
            [
             0.1,
             "#c51b7d"
            ],
            [
             0.2,
             "#de77ae"
            ],
            [
             0.3,
             "#f1b6da"
            ],
            [
             0.4,
             "#fde0ef"
            ],
            [
             0.5,
             "#f7f7f7"
            ],
            [
             0.6,
             "#e6f5d0"
            ],
            [
             0.7,
             "#b8e186"
            ],
            [
             0.8,
             "#7fbc41"
            ],
            [
             0.9,
             "#4d9221"
            ],
            [
             1,
             "#276419"
            ]
           ],
           "sequential": [
            [
             0,
             "#0d0887"
            ],
            [
             0.1111111111111111,
             "#46039f"
            ],
            [
             0.2222222222222222,
             "#7201a8"
            ],
            [
             0.3333333333333333,
             "#9c179e"
            ],
            [
             0.4444444444444444,
             "#bd3786"
            ],
            [
             0.5555555555555556,
             "#d8576b"
            ],
            [
             0.6666666666666666,
             "#ed7953"
            ],
            [
             0.7777777777777778,
             "#fb9f3a"
            ],
            [
             0.8888888888888888,
             "#fdca26"
            ],
            [
             1,
             "#f0f921"
            ]
           ],
           "sequentialminus": [
            [
             0,
             "#0d0887"
            ],
            [
             0.1111111111111111,
             "#46039f"
            ],
            [
             0.2222222222222222,
             "#7201a8"
            ],
            [
             0.3333333333333333,
             "#9c179e"
            ],
            [
             0.4444444444444444,
             "#bd3786"
            ],
            [
             0.5555555555555556,
             "#d8576b"
            ],
            [
             0.6666666666666666,
             "#ed7953"
            ],
            [
             0.7777777777777778,
             "#fb9f3a"
            ],
            [
             0.8888888888888888,
             "#fdca26"
            ],
            [
             1,
             "#f0f921"
            ]
           ]
          },
          "colorway": [
           "#636efa",
           "#EF553B",
           "#00cc96",
           "#ab63fa",
           "#FFA15A",
           "#19d3f3",
           "#FF6692",
           "#B6E880",
           "#FF97FF",
           "#FECB52"
          ],
          "font": {
           "color": "#2a3f5f"
          },
          "geo": {
           "bgcolor": "white",
           "lakecolor": "white",
           "landcolor": "#E5ECF6",
           "showlakes": true,
           "showland": true,
           "subunitcolor": "white"
          },
          "hoverlabel": {
           "align": "left"
          },
          "hovermode": "closest",
          "mapbox": {
           "style": "light"
          },
          "paper_bgcolor": "white",
          "plot_bgcolor": "#E5ECF6",
          "polar": {
           "angularaxis": {
            "gridcolor": "white",
            "linecolor": "white",
            "ticks": ""
           },
           "bgcolor": "#E5ECF6",
           "radialaxis": {
            "gridcolor": "white",
            "linecolor": "white",
            "ticks": ""
           }
          },
          "scene": {
           "xaxis": {
            "backgroundcolor": "#E5ECF6",
            "gridcolor": "white",
            "gridwidth": 2,
            "linecolor": "white",
            "showbackground": true,
            "ticks": "",
            "zerolinecolor": "white"
           },
           "yaxis": {
            "backgroundcolor": "#E5ECF6",
            "gridcolor": "white",
            "gridwidth": 2,
            "linecolor": "white",
            "showbackground": true,
            "ticks": "",
            "zerolinecolor": "white"
           },
           "zaxis": {
            "backgroundcolor": "#E5ECF6",
            "gridcolor": "white",
            "gridwidth": 2,
            "linecolor": "white",
            "showbackground": true,
            "ticks": "",
            "zerolinecolor": "white"
           }
          },
          "shapedefaults": {
           "line": {
            "color": "#2a3f5f"
           }
          },
          "ternary": {
           "aaxis": {
            "gridcolor": "white",
            "linecolor": "white",
            "ticks": ""
           },
           "baxis": {
            "gridcolor": "white",
            "linecolor": "white",
            "ticks": ""
           },
           "bgcolor": "#E5ECF6",
           "caxis": {
            "gridcolor": "white",
            "linecolor": "white",
            "ticks": ""
           }
          },
          "title": {
           "x": 0.05
          },
          "xaxis": {
           "automargin": true,
           "gridcolor": "white",
           "linecolor": "white",
           "ticks": "",
           "title": {
            "standoff": 15
           },
           "zerolinecolor": "white",
           "zerolinewidth": 2
          },
          "yaxis": {
           "automargin": true,
           "gridcolor": "white",
           "linecolor": "white",
           "ticks": "",
           "title": {
            "standoff": 15
           },
           "zerolinecolor": "white",
           "zerolinewidth": 2
          }
         }
        },
        "title": {
         "text": "Top 25 songs that has the highest likes"
        },
        "xaxis": {
         "anchor": "y",
         "domain": [
          0,
          1
         ],
         "title": {
          "text": "Track"
         }
        },
        "yaxis": {
         "anchor": "x",
         "domain": [
          0,
          1
         ],
         "title": {
          "text": "Likes"
         }
        }
       }
      }
     },
     "metadata": {},
     "output_type": "display_data"
    }
   ],
   "source": [
    "import plotly.express as px\n",
    "fig=px.bar(highest_likes,x=\"Track\",y=\"Likes\",title=\"Top 25 songs that has the highest likes\")\n",
    "fig.show()"
   ]
  },
  {
   "cell_type": "markdown",
   "id": "0842a200",
   "metadata": {},
   "source": [
    "# Machine Learning"
   ]
  },
  {
   "cell_type": "code",
   "execution_count": 247,
   "id": "83b3dfac",
   "metadata": {},
   "outputs": [
    {
     "data": {
      "text/html": [
       "<div>\n",
       "<style scoped>\n",
       "    .dataframe tbody tr th:only-of-type {\n",
       "        vertical-align: middle;\n",
       "    }\n",
       "\n",
       "    .dataframe tbody tr th {\n",
       "        vertical-align: top;\n",
       "    }\n",
       "\n",
       "    .dataframe thead th {\n",
       "        text-align: right;\n",
       "    }\n",
       "</style>\n",
       "<table border=\"1\" class=\"dataframe\">\n",
       "  <thead>\n",
       "    <tr style=\"text-align: right;\">\n",
       "      <th></th>\n",
       "      <th>Artist</th>\n",
       "      <th>Track</th>\n",
       "      <th>Album</th>\n",
       "      <th>Danceability</th>\n",
       "      <th>Energy</th>\n",
       "      <th>Likes</th>\n",
       "    </tr>\n",
       "  </thead>\n",
       "  <tbody>\n",
       "    <tr>\n",
       "      <th>0</th>\n",
       "      <td>Gorillaz</td>\n",
       "      <td>Feel Good Inc.</td>\n",
       "      <td>Demon Days</td>\n",
       "      <td>0.818</td>\n",
       "      <td>0.705</td>\n",
       "      <td>6220896.0</td>\n",
       "    </tr>\n",
       "    <tr>\n",
       "      <th>1</th>\n",
       "      <td>Gorillaz</td>\n",
       "      <td>Rhinestone Eyes</td>\n",
       "      <td>Plastic Beach</td>\n",
       "      <td>0.676</td>\n",
       "      <td>0.703</td>\n",
       "      <td>1079128.0</td>\n",
       "    </tr>\n",
       "    <tr>\n",
       "      <th>2</th>\n",
       "      <td>Gorillaz</td>\n",
       "      <td>New Gold (feat. Tame Impala and Bootie Brown)</td>\n",
       "      <td>New Gold (feat. Tame Impala and Bootie Brown)</td>\n",
       "      <td>0.695</td>\n",
       "      <td>0.923</td>\n",
       "      <td>282142.0</td>\n",
       "    </tr>\n",
       "    <tr>\n",
       "      <th>3</th>\n",
       "      <td>Gorillaz</td>\n",
       "      <td>On Melancholy Hill</td>\n",
       "      <td>Plastic Beach</td>\n",
       "      <td>0.689</td>\n",
       "      <td>0.739</td>\n",
       "      <td>1788577.0</td>\n",
       "    </tr>\n",
       "    <tr>\n",
       "      <th>4</th>\n",
       "      <td>Gorillaz</td>\n",
       "      <td>Clint Eastwood</td>\n",
       "      <td>Gorillaz</td>\n",
       "      <td>0.663</td>\n",
       "      <td>0.694</td>\n",
       "      <td>6197318.0</td>\n",
       "    </tr>\n",
       "  </tbody>\n",
       "</table>\n",
       "</div>"
      ],
      "text/plain": [
       "     Artist                                          Track  \\\n",
       "0  Gorillaz                                 Feel Good Inc.   \n",
       "1  Gorillaz                                Rhinestone Eyes   \n",
       "2  Gorillaz  New Gold (feat. Tame Impala and Bootie Brown)   \n",
       "3  Gorillaz                             On Melancholy Hill   \n",
       "4  Gorillaz                                 Clint Eastwood   \n",
       "\n",
       "                                           Album  Danceability  Energy  \\\n",
       "0                                     Demon Days         0.818   0.705   \n",
       "1                                  Plastic Beach         0.676   0.703   \n",
       "2  New Gold (feat. Tame Impala and Bootie Brown)         0.695   0.923   \n",
       "3                                  Plastic Beach         0.689   0.739   \n",
       "4                                       Gorillaz         0.663   0.694   \n",
       "\n",
       "       Likes  \n",
       "0  6220896.0  \n",
       "1  1079128.0  \n",
       "2   282142.0  \n",
       "3  1788577.0  \n",
       "4  6197318.0  "
      ]
     },
     "execution_count": 247,
     "metadata": {},
     "output_type": "execute_result"
    }
   ],
   "source": [
    "df.head()"
   ]
  },
  {
   "cell_type": "code",
   "execution_count": 248,
   "id": "3d5637fb",
   "metadata": {},
   "outputs": [],
   "source": [
    "from sklearn.model_selection import train_test_split\n",
    "from sklearn.pipeline import Pipeline"
   ]
  },
  {
   "cell_type": "code",
   "execution_count": 249,
   "id": "22e14699",
   "metadata": {},
   "outputs": [],
   "source": [
    "for col in [\"Artist\", \"Track\"]:\n",
    "    freq = df[col].value_counts()\n",
    "    df[col + \"_freq\"] = df[col].map(freq)\n"
   ]
  },
  {
   "cell_type": "code",
   "execution_count": 250,
   "id": "a6e84737",
   "metadata": {},
   "outputs": [
    {
     "data": {
      "text/plain": [
       "Track\n",
       "El Ultimo Adiós - Varios Artistas Version                     24\n",
       "Color Esperanza 2020                                          19\n",
       "Resistiré                                                     14\n",
       "Heaven                                                         9\n",
       "52 Non Stop Dilbar Dilbar Remix(Remix By Kedrock,Sd Style)     9\n",
       "                                                              ..\n",
       "Can't Stop                                                     1\n",
       "Scar Tissue                                                    1\n",
       "Otherside                                                      1\n",
       "Snow (Hey Oh)                                                  1\n",
       "MISS YOU HARDSTYLE                                             1\n",
       "Name: count, Length: 17841, dtype: int64"
      ]
     },
     "execution_count": 250,
     "metadata": {},
     "output_type": "execute_result"
    }
   ],
   "source": [
    "df[\"Track\"].value_counts()"
   ]
  },
  {
   "cell_type": "code",
   "execution_count": 257,
   "id": "93eca2a9",
   "metadata": {},
   "outputs": [
    {
     "data": {
      "text/html": [
       "<div>\n",
       "<style scoped>\n",
       "    .dataframe tbody tr th:only-of-type {\n",
       "        vertical-align: middle;\n",
       "    }\n",
       "\n",
       "    .dataframe tbody tr th {\n",
       "        vertical-align: top;\n",
       "    }\n",
       "\n",
       "    .dataframe thead th {\n",
       "        text-align: right;\n",
       "    }\n",
       "</style>\n",
       "<table border=\"1\" class=\"dataframe\">\n",
       "  <thead>\n",
       "    <tr style=\"text-align: right;\">\n",
       "      <th></th>\n",
       "      <th>Artist</th>\n",
       "      <th>Track</th>\n",
       "      <th>Album</th>\n",
       "      <th>Energy</th>\n",
       "      <th>Danceability</th>\n",
       "      <th>Likes</th>\n",
       "    </tr>\n",
       "  </thead>\n",
       "  <tbody>\n",
       "    <tr>\n",
       "      <th>20403</th>\n",
       "      <td>Fujii Kaze</td>\n",
       "      <td>Shinunoga E-Wa</td>\n",
       "      <td>HELP EVER HURT NEVER</td>\n",
       "      <td>0.760</td>\n",
       "      <td>0.600</td>\n",
       "      <td>570473.0</td>\n",
       "    </tr>\n",
       "    <tr>\n",
       "      <th>13705</th>\n",
       "      <td>The Script</td>\n",
       "      <td>If You Could See Me Now</td>\n",
       "      <td>#3</td>\n",
       "      <td>0.758</td>\n",
       "      <td>0.602</td>\n",
       "      <td>706478.0</td>\n",
       "    </tr>\n",
       "    <tr>\n",
       "      <th>1394</th>\n",
       "      <td>Alesso</td>\n",
       "      <td>REMEDY</td>\n",
       "      <td>REMEDY</td>\n",
       "      <td>0.775</td>\n",
       "      <td>0.601</td>\n",
       "      <td>674495.0</td>\n",
       "    </tr>\n",
       "    <tr>\n",
       "      <th>14050</th>\n",
       "      <td>Steve Lacy</td>\n",
       "      <td>Dark Red</td>\n",
       "      <td>Dark Red</td>\n",
       "      <td>0.784</td>\n",
       "      <td>0.603</td>\n",
       "      <td>568346.0</td>\n",
       "    </tr>\n",
       "    <tr>\n",
       "      <th>4028</th>\n",
       "      <td>No Doubt</td>\n",
       "      <td>It's My Life</td>\n",
       "      <td>The Singles Collection</td>\n",
       "      <td>0.750</td>\n",
       "      <td>0.606</td>\n",
       "      <td>669504.0</td>\n",
       "    </tr>\n",
       "  </tbody>\n",
       "</table>\n",
       "</div>"
      ],
      "text/plain": [
       "           Artist                    Track                   Album  Energy  \\\n",
       "20403  Fujii Kaze           Shinunoga E-Wa    HELP EVER HURT NEVER   0.760   \n",
       "13705  The Script  If You Could See Me Now                      #3   0.758   \n",
       "1394       Alesso                   REMEDY                  REMEDY   0.775   \n",
       "14050  Steve Lacy                 Dark Red                Dark Red   0.784   \n",
       "4028     No Doubt             It's My Life  The Singles Collection   0.750   \n",
       "\n",
       "       Danceability     Likes  \n",
       "20403         0.600  570473.0  \n",
       "13705         0.602  706478.0  \n",
       "1394          0.601  674495.0  \n",
       "14050         0.603  568346.0  \n",
       "4028          0.606  669504.0  "
      ]
     },
     "execution_count": 257,
     "metadata": {},
     "output_type": "execute_result"
    }
   ],
   "source": [
    "from sklearn.preprocessing import StandardScaler\n",
    "from sklearn.metrics.pairwise import cosine_similarity\n",
    "\n",
    "# Scale features\n",
    "features = df[[\"Energy\", \"Danceability\", \"Likes\"]]\n",
    "scaler = StandardScaler()\n",
    "features_scaled = scaler.fit_transform(features)\n",
    "\n",
    "def recommend_songs(track_name, n=5, energy_threshold=0.7, likes_threshold=None):\n",
    "    if track_name not in df[\"Track\"].values:\n",
    "        return f\"Track '{track_name}' not found in dataset.\"\n",
    "\n",
    "    # Target song vector\n",
    "    track_index = df[df[\"Track\"] == track_name].index[0]\n",
    "    target_vec = features_scaled[track_index].reshape(1, -1)\n",
    "\n",
    "    # Compute cosine similarity only with target song\n",
    "    sim_scores = cosine_similarity(target_vec, features_scaled).flatten()\n",
    "    \n",
    "    # Sort by similarity\n",
    "    sim_indices = sim_scores.argsort()[::-1][1:]  # exclude the song itself\n",
    "    \n",
    "    # Build recommendations\n",
    "    rec_df = df.iloc[sim_indices]\n",
    "    rec_df = rec_df[\n",
    "        (rec_df[\"Energy\"] >= energy_threshold) &\n",
    "        (rec_df[\"Danceability\"] >= 0.6)\n",
    "    ]\n",
    "    if likes_threshold:\n",
    "        rec_df = rec_df[rec_df[\"Likes\"] >= likes_threshold]\n",
    "\n",
    "    return rec_df.head(n)[[\"Artist\", \"Track\", \"Album\", \"Energy\", \"Danceability\", \"Likes\"]]\n",
    "\n",
    "# Example\n",
    "recommendations = recommend_songs(\"Resistiré\", n=5, energy_threshold=0.75, likes_threshold=500000)\n",
    "recommendations\n"
   ]
  }
 ],
 "metadata": {
  "kernelspec": {
   "display_name": "Python 3",
   "language": "python",
   "name": "python3"
  },
  "language_info": {
   "codemirror_mode": {
    "name": "ipython",
    "version": 3
   },
   "file_extension": ".py",
   "mimetype": "text/x-python",
   "name": "python",
   "nbconvert_exporter": "python",
   "pygments_lexer": "ipython3",
   "version": "3.12.4"
  }
 },
 "nbformat": 4,
 "nbformat_minor": 5
}
