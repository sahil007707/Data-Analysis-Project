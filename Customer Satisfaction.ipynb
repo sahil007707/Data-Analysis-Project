{
 "cells": [
  {
   "cell_type": "code",
   "execution_count": 447,
   "id": "e7ac0ffb",
   "metadata": {},
   "outputs": [],
   "source": [
    "import pandas as pd\n",
    "import seaborn as sns\n",
    "import matplotlib.pyplot as plt\n",
    "import numpy as np\n",
    "from sklearn.metrics import confusion_matrix\n",
    "from sklearn.metrics import ConfusionMatrixDisplay, classification_report\n",
    "from sklearn.model_selection import train_test_split\n",
    "from sklearn.preprocessing import StandardScaler\n",
    "from sklearn.ensemble import RandomForestClassifier\n",
    "from sklearn.preprocessing import LabelEncoder"
   ]
  },
  {
   "cell_type": "code",
   "execution_count": 448,
   "id": "362b142e",
   "metadata": {},
   "outputs": [],
   "source": [
    "df=pd.read_csv(r\"c:\\Users\\user\\Desktop\\Kaggle Datasets\\customer_experience_data.csv\")\n"
   ]
  },
  {
   "cell_type": "markdown",
   "id": "fd5bc636",
   "metadata": {},
   "source": [
    "## **Data Info**"
   ]
  },
  {
   "cell_type": "code",
   "execution_count": 449,
   "id": "aa9bc3f8",
   "metadata": {},
   "outputs": [
    {
     "name": "stdout",
     "output_type": "stream",
     "text": [
      "<class 'pandas.core.frame.DataFrame'>\n",
      "RangeIndex: 1000 entries, 0 to 999\n",
      "Data columns (total 14 columns):\n",
      " #   Column                    Non-Null Count  Dtype  \n",
      "---  ------                    --------------  -----  \n",
      " 0   Customer_ID               1000 non-null   int64  \n",
      " 1   Age                       1000 non-null   int64  \n",
      " 2   Gender                    1000 non-null   object \n",
      " 3   Location                  1000 non-null   object \n",
      " 4   Num_Interactions          1000 non-null   int64  \n",
      " 5   Feedback_Score            1000 non-null   int64  \n",
      " 6   Products_Purchased        1000 non-null   int64  \n",
      " 7   Products_Viewed           1000 non-null   int64  \n",
      " 8   Time_Spent_on_Site        1000 non-null   float64\n",
      " 9   Satisfaction_Score        1000 non-null   int64  \n",
      " 10  Retention_Status          1000 non-null   object \n",
      " 11  Gender_Encoded            1000 non-null   int64  \n",
      " 12  Location_Encoded          1000 non-null   int64  \n",
      " 13  Retention_Status_Encoded  1000 non-null   int64  \n",
      "dtypes: float64(1), int64(10), object(3)\n",
      "memory usage: 109.5+ KB\n"
     ]
    }
   ],
   "source": [
    "df.info()"
   ]
  },
  {
   "cell_type": "markdown",
   "id": "63bf4860",
   "metadata": {},
   "source": [
    "## **Data Shapes and Columns**"
   ]
  },
  {
   "cell_type": "code",
   "execution_count": 450,
   "id": "7a9f2f4e",
   "metadata": {},
   "outputs": [
    {
     "data": {
      "text/plain": [
       "(1000, 14)"
      ]
     },
     "execution_count": 450,
     "metadata": {},
     "output_type": "execute_result"
    }
   ],
   "source": [
    "df.shape"
   ]
  },
  {
   "cell_type": "code",
   "execution_count": 451,
   "id": "9c8379fc",
   "metadata": {},
   "outputs": [
    {
     "data": {
      "text/plain": [
       "Index(['Customer_ID', 'Age', 'Gender', 'Location', 'Num_Interactions',\n",
       "       'Feedback_Score', 'Products_Purchased', 'Products_Viewed',\n",
       "       'Time_Spent_on_Site', 'Satisfaction_Score', 'Retention_Status',\n",
       "       'Gender_Encoded', 'Location_Encoded', 'Retention_Status_Encoded'],\n",
       "      dtype='object')"
      ]
     },
     "execution_count": 451,
     "metadata": {},
     "output_type": "execute_result"
    }
   ],
   "source": [
    "df.columns"
   ]
  },
  {
   "cell_type": "markdown",
   "id": "514409b3",
   "metadata": {},
   "source": [
    "<style>\n",
    ".markdown-cell {\n",
    "    font-size: 18px;\n",
    "    color: darkgreen;\n",
    "    background-color: lightyellow;\n",
    "    padding: 10px;\n",
    "    border-radius: 5px;\n",
    "}\n",
    "</style>\n"
   ]
  },
  {
   "cell_type": "markdown",
   "id": "84ec4d33",
   "metadata": {},
   "source": [
    "## **Hnadling Missing and Duplicate Datas**"
   ]
  },
  {
   "cell_type": "code",
   "execution_count": 452,
   "id": "0efa4993",
   "metadata": {},
   "outputs": [
    {
     "data": {
      "text/plain": [
       "Customer_ID                 0\n",
       "Age                         0\n",
       "Gender                      0\n",
       "Location                    0\n",
       "Num_Interactions            0\n",
       "Feedback_Score              0\n",
       "Products_Purchased          0\n",
       "Products_Viewed             0\n",
       "Time_Spent_on_Site          0\n",
       "Satisfaction_Score          0\n",
       "Retention_Status            0\n",
       "Gender_Encoded              0\n",
       "Location_Encoded            0\n",
       "Retention_Status_Encoded    0\n",
       "dtype: int64"
      ]
     },
     "execution_count": 452,
     "metadata": {},
     "output_type": "execute_result"
    }
   ],
   "source": [
    "df.isna().sum()"
   ]
  },
  {
   "cell_type": "code",
   "execution_count": 453,
   "id": "bd3537d8",
   "metadata": {},
   "outputs": [
    {
     "data": {
      "text/plain": [
       "np.int64(0)"
      ]
     },
     "execution_count": 453,
     "metadata": {},
     "output_type": "execute_result"
    }
   ],
   "source": [
    "df.duplicated().sum()"
   ]
  },
  {
   "cell_type": "markdown",
   "id": "7ef16c5b",
   "metadata": {},
   "source": [
    "## **Column Removing**"
   ]
  },
  {
   "cell_type": "code",
   "execution_count": 454,
   "id": "39d55a82",
   "metadata": {},
   "outputs": [],
   "source": [
    "df.drop([\"Customer_ID\",\"Retention_Status_Encoded\",\"Location_Encoded\"],axis=1,inplace=True)\n"
   ]
  },
  {
   "cell_type": "code",
   "execution_count": 455,
   "id": "341e1408",
   "metadata": {},
   "outputs": [
    {
     "data": {
      "text/html": [
       "<div>\n",
       "<style scoped>\n",
       "    .dataframe tbody tr th:only-of-type {\n",
       "        vertical-align: middle;\n",
       "    }\n",
       "\n",
       "    .dataframe tbody tr th {\n",
       "        vertical-align: top;\n",
       "    }\n",
       "\n",
       "    .dataframe thead th {\n",
       "        text-align: right;\n",
       "    }\n",
       "</style>\n",
       "<table border=\"1\" class=\"dataframe\">\n",
       "  <thead>\n",
       "    <tr style=\"text-align: right;\">\n",
       "      <th></th>\n",
       "      <th>Age</th>\n",
       "      <th>Gender</th>\n",
       "      <th>Location</th>\n",
       "      <th>Num_Interactions</th>\n",
       "      <th>Feedback_Score</th>\n",
       "      <th>Products_Purchased</th>\n",
       "      <th>Products_Viewed</th>\n",
       "      <th>Time_Spent_on_Site</th>\n",
       "      <th>Satisfaction_Score</th>\n",
       "      <th>Retention_Status</th>\n",
       "      <th>Gender_Encoded</th>\n",
       "    </tr>\n",
       "  </thead>\n",
       "  <tbody>\n",
       "    <tr>\n",
       "      <th>0</th>\n",
       "      <td>56</td>\n",
       "      <td>Male</td>\n",
       "      <td>Urban</td>\n",
       "      <td>11</td>\n",
       "      <td>4</td>\n",
       "      <td>18</td>\n",
       "      <td>38</td>\n",
       "      <td>18.319606</td>\n",
       "      <td>7</td>\n",
       "      <td>Retained</td>\n",
       "      <td>1</td>\n",
       "    </tr>\n",
       "    <tr>\n",
       "      <th>1</th>\n",
       "      <td>69</td>\n",
       "      <td>Male</td>\n",
       "      <td>Suburban</td>\n",
       "      <td>10</td>\n",
       "      <td>3</td>\n",
       "      <td>2</td>\n",
       "      <td>17</td>\n",
       "      <td>9.015198</td>\n",
       "      <td>6</td>\n",
       "      <td>Retained</td>\n",
       "      <td>1</td>\n",
       "    </tr>\n",
       "    <tr>\n",
       "      <th>2</th>\n",
       "      <td>46</td>\n",
       "      <td>Male</td>\n",
       "      <td>Urban</td>\n",
       "      <td>5</td>\n",
       "      <td>5</td>\n",
       "      <td>11</td>\n",
       "      <td>46</td>\n",
       "      <td>45.921572</td>\n",
       "      <td>10</td>\n",
       "      <td>Churned</td>\n",
       "      <td>1</td>\n",
       "    </tr>\n",
       "    <tr>\n",
       "      <th>3</th>\n",
       "      <td>32</td>\n",
       "      <td>Female</td>\n",
       "      <td>Suburban</td>\n",
       "      <td>5</td>\n",
       "      <td>1</td>\n",
       "      <td>6</td>\n",
       "      <td>13</td>\n",
       "      <td>44.105053</td>\n",
       "      <td>5</td>\n",
       "      <td>Churned</td>\n",
       "      <td>0</td>\n",
       "    </tr>\n",
       "    <tr>\n",
       "      <th>4</th>\n",
       "      <td>60</td>\n",
       "      <td>Male</td>\n",
       "      <td>Urban</td>\n",
       "      <td>14</td>\n",
       "      <td>5</td>\n",
       "      <td>8</td>\n",
       "      <td>46</td>\n",
       "      <td>17.897471</td>\n",
       "      <td>1</td>\n",
       "      <td>Retained</td>\n",
       "      <td>1</td>\n",
       "    </tr>\n",
       "  </tbody>\n",
       "</table>\n",
       "</div>"
      ],
      "text/plain": [
       "   Age  Gender  Location  Num_Interactions  Feedback_Score  \\\n",
       "0   56    Male     Urban                11               4   \n",
       "1   69    Male  Suburban                10               3   \n",
       "2   46    Male     Urban                 5               5   \n",
       "3   32  Female  Suburban                 5               1   \n",
       "4   60    Male     Urban                14               5   \n",
       "\n",
       "   Products_Purchased  Products_Viewed  Time_Spent_on_Site  \\\n",
       "0                  18               38           18.319606   \n",
       "1                   2               17            9.015198   \n",
       "2                  11               46           45.921572   \n",
       "3                   6               13           44.105053   \n",
       "4                   8               46           17.897471   \n",
       "\n",
       "   Satisfaction_Score Retention_Status  Gender_Encoded  \n",
       "0                   7         Retained               1  \n",
       "1                   6         Retained               1  \n",
       "2                  10          Churned               1  \n",
       "3                   5          Churned               0  \n",
       "4                   1         Retained               1  "
      ]
     },
     "execution_count": 455,
     "metadata": {},
     "output_type": "execute_result"
    }
   ],
   "source": [
    "df.head(5)"
   ]
  },
  {
   "cell_type": "markdown",
   "id": "d2c102b0",
   "metadata": {},
   "source": [
    "## **EDA**"
   ]
  },
  {
   "cell_type": "markdown",
   "id": "3c89183b",
   "metadata": {},
   "source": [
    "## **Classifications Based On Gender**"
   ]
  },
  {
   "cell_type": "markdown",
   "id": "27c800e9",
   "metadata": {},
   "source": [
    "`Feedback Score Based on Gender and Gender Counts`"
   ]
  },
  {
   "cell_type": "code",
   "execution_count": 456,
   "id": "2a323fd8",
   "metadata": {},
   "outputs": [
    {
     "data": {
      "text/html": [
       "<style type=\"text/css\">\n",
       "#T_48156_row0_col2, #T_48156_row0_col3 {\n",
       "  background-color: #f7fbff;\n",
       "  color: #000000;\n",
       "}\n",
       "#T_48156_row1_col2 {\n",
       "  background-color: #1b69af;\n",
       "  color: #f1f1f1;\n",
       "}\n",
       "#T_48156_row1_col3 {\n",
       "  background-color: #2070b4;\n",
       "  color: #f1f1f1;\n",
       "}\n",
       "#T_48156_row2_col2 {\n",
       "  background-color: #95c5df;\n",
       "  color: #000000;\n",
       "}\n",
       "#T_48156_row2_col3 {\n",
       "  background-color: #2979b9;\n",
       "  color: #f1f1f1;\n",
       "}\n",
       "#T_48156_row3_col2 {\n",
       "  background-color: #2474b7;\n",
       "  color: #f1f1f1;\n",
       "}\n",
       "#T_48156_row3_col3 {\n",
       "  background-color: #105ba4;\n",
       "  color: #f1f1f1;\n",
       "}\n",
       "#T_48156_row4_col2 {\n",
       "  background-color: #083e81;\n",
       "  color: #f1f1f1;\n",
       "}\n",
       "#T_48156_row4_col3 {\n",
       "  background-color: #083776;\n",
       "  color: #f1f1f1;\n",
       "}\n",
       "#T_48156_row5_col2, #T_48156_row5_col3 {\n",
       "  background-color: #08306b;\n",
       "  color: #f1f1f1;\n",
       "}\n",
       "</style>\n",
       "<table id=\"T_48156\">\n",
       "  <thead>\n",
       "    <tr>\n",
       "      <th class=\"blank level0\" >&nbsp;</th>\n",
       "      <th id=\"T_48156_level0_col0\" class=\"col_heading level0 col0\" >Gender</th>\n",
       "      <th id=\"T_48156_level0_col1\" class=\"col_heading level0 col1\" >Location</th>\n",
       "      <th id=\"T_48156_level0_col2\" class=\"col_heading level0 col2\" >Feedback_Score</th>\n",
       "      <th id=\"T_48156_level0_col3\" class=\"col_heading level0 col3\" >Gender_count</th>\n",
       "    </tr>\n",
       "  </thead>\n",
       "  <tbody>\n",
       "    <tr>\n",
       "      <th id=\"T_48156_level0_row0\" class=\"row_heading level0 row0\" >0</th>\n",
       "      <td id=\"T_48156_row0_col0\" class=\"data row0 col0\" >Female</td>\n",
       "      <td id=\"T_48156_row0_col1\" class=\"data row0 col1\" >Rural</td>\n",
       "      <td id=\"T_48156_row0_col2\" class=\"data row0 col2\" >439</td>\n",
       "      <td id=\"T_48156_row0_col3\" class=\"data row0 col3\" >141</td>\n",
       "    </tr>\n",
       "    <tr>\n",
       "      <th id=\"T_48156_level0_row1\" class=\"row_heading level0 row1\" >1</th>\n",
       "      <td id=\"T_48156_row1_col0\" class=\"data row1 col0\" >Female</td>\n",
       "      <td id=\"T_48156_row1_col1\" class=\"data row1 col1\" >Suburban</td>\n",
       "      <td id=\"T_48156_row1_col2\" class=\"data row1 col2\" >510</td>\n",
       "      <td id=\"T_48156_row1_col3\" class=\"data row1 col3\" >168</td>\n",
       "    </tr>\n",
       "    <tr>\n",
       "      <th id=\"T_48156_level0_row2\" class=\"row_heading level0 row2\" >2</th>\n",
       "      <td id=\"T_48156_row2_col0\" class=\"data row2 col0\" >Female</td>\n",
       "      <td id=\"T_48156_row2_col1\" class=\"data row2 col1\" >Urban</td>\n",
       "      <td id=\"T_48156_row2_col2\" class=\"data row2 col2\" >475</td>\n",
       "      <td id=\"T_48156_row2_col3\" class=\"data row2 col3\" >167</td>\n",
       "    </tr>\n",
       "    <tr>\n",
       "      <th id=\"T_48156_level0_row3\" class=\"row_heading level0 row3\" >3</th>\n",
       "      <td id=\"T_48156_row3_col0\" class=\"data row3 col0\" >Male</td>\n",
       "      <td id=\"T_48156_row3_col1\" class=\"data row3 col1\" >Rural</td>\n",
       "      <td id=\"T_48156_row3_col2\" class=\"data row3 col2\" >506</td>\n",
       "      <td id=\"T_48156_row3_col3\" class=\"data row3 col3\" >171</td>\n",
       "    </tr>\n",
       "    <tr>\n",
       "      <th id=\"T_48156_level0_row4\" class=\"row_heading level0 row4\" >4</th>\n",
       "      <td id=\"T_48156_row4_col0\" class=\"data row4 col0\" >Male</td>\n",
       "      <td id=\"T_48156_row4_col1\" class=\"data row4 col1\" >Suburban</td>\n",
       "      <td id=\"T_48156_row4_col2\" class=\"data row4 col2\" >525</td>\n",
       "      <td id=\"T_48156_row4_col3\" class=\"data row4 col3\" >176</td>\n",
       "    </tr>\n",
       "    <tr>\n",
       "      <th id=\"T_48156_level0_row5\" class=\"row_heading level0 row5\" >5</th>\n",
       "      <td id=\"T_48156_row5_col0\" class=\"data row5 col0\" >Male</td>\n",
       "      <td id=\"T_48156_row5_col1\" class=\"data row5 col1\" >Urban</td>\n",
       "      <td id=\"T_48156_row5_col2\" class=\"data row5 col2\" >530</td>\n",
       "      <td id=\"T_48156_row5_col3\" class=\"data row5 col3\" >177</td>\n",
       "    </tr>\n",
       "  </tbody>\n",
       "</table>\n"
      ],
      "text/plain": [
       "<pandas.io.formats.style.Styler at 0x17a12648b30>"
      ]
     },
     "execution_count": 456,
     "metadata": {},
     "output_type": "execute_result"
    }
   ],
   "source": [
    "#Loaction based feedback score\n",
    "df.groupby([\"Gender\", \"Location\"]).agg(\n",
    "    Feedback_Score=(\"Feedback_Score\", \"sum\"),\n",
    "    Gender_count=(\"Gender\", \"count\")\n",
    ").reset_index().style.background_gradient(cmap=\"Blues\")"
   ]
  },
  {
   "cell_type": "markdown",
   "id": "c8a5d64d",
   "metadata": {},
   "source": [
    "`Satisfaction Score Based on Gender and Age`"
   ]
  },
  {
   "cell_type": "code",
   "execution_count": 457,
   "id": "570b1a41",
   "metadata": {},
   "outputs": [
    {
     "data": {
      "text/plain": [
       "Gender                object\n",
       "Age                    int64\n",
       "Satisfaction_Score     int64\n",
       "dtype: object"
      ]
     },
     "execution_count": 457,
     "metadata": {},
     "output_type": "execute_result"
    }
   ],
   "source": [
    "Satisfy_score=df.groupby([\"Gender\",\"Age\"])[\"Satisfaction_Score\"].sum().reset_index()\n",
    "\n",
    "Satisfy_score[\"Age\"] = pd.to_numeric(Satisfy_score[\"Age\"], errors=\"coerce\")\n",
    "Satisfy_score[\"Satisfaction_Score\"] = pd.to_numeric(Satisfy_score[\"Satisfaction_Score\"], errors=\"coerce\")\n",
    "\n",
    "Satisfy_score.dtypes"
   ]
  },
  {
   "cell_type": "code",
   "execution_count": 458,
   "id": "65feefb3",
   "metadata": {},
   "outputs": [
    {
     "data": {
      "text/html": [
       "<div>\n",
       "<style scoped>\n",
       "    .dataframe tbody tr th:only-of-type {\n",
       "        vertical-align: middle;\n",
       "    }\n",
       "\n",
       "    .dataframe tbody tr th {\n",
       "        vertical-align: top;\n",
       "    }\n",
       "\n",
       "    .dataframe thead th {\n",
       "        text-align: right;\n",
       "    }\n",
       "</style>\n",
       "<table border=\"1\" class=\"dataframe\">\n",
       "  <thead>\n",
       "    <tr style=\"text-align: right;\">\n",
       "      <th></th>\n",
       "      <th>Gender</th>\n",
       "      <th>Age</th>\n",
       "      <th>Satisfaction_Score</th>\n",
       "    </tr>\n",
       "  </thead>\n",
       "  <tbody>\n",
       "    <tr>\n",
       "      <th>0</th>\n",
       "      <td>Female</td>\n",
       "      <td>18</td>\n",
       "      <td>67</td>\n",
       "    </tr>\n",
       "    <tr>\n",
       "      <th>1</th>\n",
       "      <td>Female</td>\n",
       "      <td>19</td>\n",
       "      <td>40</td>\n",
       "    </tr>\n",
       "    <tr>\n",
       "      <th>2</th>\n",
       "      <td>Female</td>\n",
       "      <td>20</td>\n",
       "      <td>49</td>\n",
       "    </tr>\n",
       "    <tr>\n",
       "      <th>3</th>\n",
       "      <td>Female</td>\n",
       "      <td>21</td>\n",
       "      <td>41</td>\n",
       "    </tr>\n",
       "    <tr>\n",
       "      <th>4</th>\n",
       "      <td>Female</td>\n",
       "      <td>22</td>\n",
       "      <td>62</td>\n",
       "    </tr>\n",
       "    <tr>\n",
       "      <th>...</th>\n",
       "      <td>...</td>\n",
       "      <td>...</td>\n",
       "      <td>...</td>\n",
       "    </tr>\n",
       "    <tr>\n",
       "      <th>99</th>\n",
       "      <td>Male</td>\n",
       "      <td>65</td>\n",
       "      <td>70</td>\n",
       "    </tr>\n",
       "    <tr>\n",
       "      <th>100</th>\n",
       "      <td>Male</td>\n",
       "      <td>66</td>\n",
       "      <td>88</td>\n",
       "    </tr>\n",
       "    <tr>\n",
       "      <th>101</th>\n",
       "      <td>Male</td>\n",
       "      <td>67</td>\n",
       "      <td>53</td>\n",
       "    </tr>\n",
       "    <tr>\n",
       "      <th>102</th>\n",
       "      <td>Male</td>\n",
       "      <td>68</td>\n",
       "      <td>66</td>\n",
       "    </tr>\n",
       "    <tr>\n",
       "      <th>103</th>\n",
       "      <td>Male</td>\n",
       "      <td>69</td>\n",
       "      <td>53</td>\n",
       "    </tr>\n",
       "  </tbody>\n",
       "</table>\n",
       "<p>104 rows × 3 columns</p>\n",
       "</div>"
      ],
      "text/plain": [
       "     Gender  Age  Satisfaction_Score\n",
       "0    Female   18                  67\n",
       "1    Female   19                  40\n",
       "2    Female   20                  49\n",
       "3    Female   21                  41\n",
       "4    Female   22                  62\n",
       "..      ...  ...                 ...\n",
       "99     Male   65                  70\n",
       "100    Male   66                  88\n",
       "101    Male   67                  53\n",
       "102    Male   68                  66\n",
       "103    Male   69                  53\n",
       "\n",
       "[104 rows x 3 columns]"
      ]
     },
     "execution_count": 458,
     "metadata": {},
     "output_type": "execute_result"
    }
   ],
   "source": [
    "Satisfy_score"
   ]
  },
  {
   "cell_type": "code",
   "execution_count": 459,
   "id": "f70ee220",
   "metadata": {},
   "outputs": [
    {
     "data": {
      "text/plain": [
       "np.int64(18)"
      ]
     },
     "execution_count": 459,
     "metadata": {},
     "output_type": "execute_result"
    }
   ],
   "source": [
    "df[\"Age\"].min()\n"
   ]
  },
  {
   "cell_type": "code",
   "execution_count": 460,
   "id": "f1a03ed7",
   "metadata": {},
   "outputs": [
    {
     "data": {
      "text/plain": [
       "np.int64(69)"
      ]
     },
     "execution_count": 460,
     "metadata": {},
     "output_type": "execute_result"
    }
   ],
   "source": [
    "df[\"Age\"].max()"
   ]
  },
  {
   "cell_type": "code",
   "execution_count": 461,
   "id": "02a97c65",
   "metadata": {},
   "outputs": [
    {
     "data": {
      "text/html": [
       "<div>\n",
       "<style scoped>\n",
       "    .dataframe tbody tr th:only-of-type {\n",
       "        vertical-align: middle;\n",
       "    }\n",
       "\n",
       "    .dataframe tbody tr th {\n",
       "        vertical-align: top;\n",
       "    }\n",
       "\n",
       "    .dataframe thead th {\n",
       "        text-align: right;\n",
       "    }\n",
       "</style>\n",
       "<table border=\"1\" class=\"dataframe\">\n",
       "  <thead>\n",
       "    <tr style=\"text-align: right;\">\n",
       "      <th></th>\n",
       "      <th>Gender</th>\n",
       "      <th>Age</th>\n",
       "      <th>Satisfaction_Score</th>\n",
       "      <th>Age_Group</th>\n",
       "    </tr>\n",
       "  </thead>\n",
       "  <tbody>\n",
       "    <tr>\n",
       "      <th>0</th>\n",
       "      <td>Female</td>\n",
       "      <td>18</td>\n",
       "      <td>67</td>\n",
       "      <td>Teenager(0-18)</td>\n",
       "    </tr>\n",
       "    <tr>\n",
       "      <th>1</th>\n",
       "      <td>Female</td>\n",
       "      <td>19</td>\n",
       "      <td>40</td>\n",
       "      <td>Young Adult(19-30)</td>\n",
       "    </tr>\n",
       "    <tr>\n",
       "      <th>2</th>\n",
       "      <td>Female</td>\n",
       "      <td>20</td>\n",
       "      <td>49</td>\n",
       "      <td>Young Adult(19-30)</td>\n",
       "    </tr>\n",
       "    <tr>\n",
       "      <th>3</th>\n",
       "      <td>Female</td>\n",
       "      <td>21</td>\n",
       "      <td>41</td>\n",
       "      <td>Young Adult(19-30)</td>\n",
       "    </tr>\n",
       "    <tr>\n",
       "      <th>4</th>\n",
       "      <td>Female</td>\n",
       "      <td>22</td>\n",
       "      <td>62</td>\n",
       "      <td>Young Adult(19-30)</td>\n",
       "    </tr>\n",
       "    <tr>\n",
       "      <th>...</th>\n",
       "      <td>...</td>\n",
       "      <td>...</td>\n",
       "      <td>...</td>\n",
       "      <td>...</td>\n",
       "    </tr>\n",
       "    <tr>\n",
       "      <th>99</th>\n",
       "      <td>Male</td>\n",
       "      <td>65</td>\n",
       "      <td>70</td>\n",
       "      <td>Senior(61+)</td>\n",
       "    </tr>\n",
       "    <tr>\n",
       "      <th>100</th>\n",
       "      <td>Male</td>\n",
       "      <td>66</td>\n",
       "      <td>88</td>\n",
       "      <td>Senior(61+)</td>\n",
       "    </tr>\n",
       "    <tr>\n",
       "      <th>101</th>\n",
       "      <td>Male</td>\n",
       "      <td>67</td>\n",
       "      <td>53</td>\n",
       "      <td>Senior(61+)</td>\n",
       "    </tr>\n",
       "    <tr>\n",
       "      <th>102</th>\n",
       "      <td>Male</td>\n",
       "      <td>68</td>\n",
       "      <td>66</td>\n",
       "      <td>Senior(61+)</td>\n",
       "    </tr>\n",
       "    <tr>\n",
       "      <th>103</th>\n",
       "      <td>Male</td>\n",
       "      <td>69</td>\n",
       "      <td>53</td>\n",
       "      <td>Senior(61+)</td>\n",
       "    </tr>\n",
       "  </tbody>\n",
       "</table>\n",
       "<p>104 rows × 4 columns</p>\n",
       "</div>"
      ],
      "text/plain": [
       "     Gender  Age  Satisfaction_Score           Age_Group\n",
       "0    Female   18                  67      Teenager(0-18)\n",
       "1    Female   19                  40  Young Adult(19-30)\n",
       "2    Female   20                  49  Young Adult(19-30)\n",
       "3    Female   21                  41  Young Adult(19-30)\n",
       "4    Female   22                  62  Young Adult(19-30)\n",
       "..      ...  ...                 ...                 ...\n",
       "99     Male   65                  70         Senior(61+)\n",
       "100    Male   66                  88         Senior(61+)\n",
       "101    Male   67                  53         Senior(61+)\n",
       "102    Male   68                  66         Senior(61+)\n",
       "103    Male   69                  53         Senior(61+)\n",
       "\n",
       "[104 rows x 4 columns]"
      ]
     },
     "execution_count": 461,
     "metadata": {},
     "output_type": "execute_result"
    }
   ],
   "source": [
    "#Convert Age to Categories using pd.cut \n",
    "bins=[0,18,30,45,60,70]\n",
    "labels=[\"Teenager(0-18)\",\"Young Adult(19-30)\",\"Adult(31-45)\",\"Middle Age(46-60)\",\"Senior(61+)\"]\n",
    "Satisfy_score[\"Age_Group\"]=pd.cut(Satisfy_score[\"Age\"],bins=bins, labels=labels)\n",
    "Satisfy_score"
   ]
  },
  {
   "cell_type": "markdown",
   "id": "4facf397",
   "metadata": {},
   "source": [
    "## **Visualization**"
   ]
  },
  {
   "cell_type": "markdown",
   "id": "7a383d22",
   "metadata": {},
   "source": [
    "`Feedback Score Visualization`"
   ]
  },
  {
   "cell_type": "code",
   "execution_count": 462,
   "id": "230c5fbb",
   "metadata": {},
   "outputs": [
    {
     "data": {
      "image/png": "[encoded data removed]",
      "text/plain": [
       "<Figure size 1000x600 with 1 Axes>"
      ]
     },
     "metadata": {},
     "output_type": "display_data"
    }
   ],
   "source": [
    "Locat_Classifi = df.groupby([\"Gender\", \"Location\"]).agg(\n",
    "    Feedback_Score=(\"Feedback_Score\", \"sum\"),\n",
    "    Gender_count=(\"Gender\", \"count\")\n",
    ").reset_index()\n",
    "\n",
    "plt.figure(figsize=(10,6))\n",
    "sns.barplot(data=Locat_Classifi,x=\"Location\",y=\"Feedback_Score\",hue=\"Gender\")\n",
    "plt.title(\"Feedback Score Visualization Based On Gender And Location\",fontweight=\"bold\",fontsize=14)\n",
    "plt.xlabel(\"Location\",fontweight=\"bold\",fontsize=10)\n",
    "plt.ylabel(\"Feedback Score\",fontweight=\"bold\",fontsize=10)\n",
    "plt.show()\n"
   ]
  },
  {
   "cell_type": "markdown",
   "id": "d6f40235",
   "metadata": {},
   "source": [
    "`Satisfaction Score Visualization`"
   ]
  },
  {
   "cell_type": "code",
   "execution_count": 463,
   "id": "e53d243f",
   "metadata": {},
   "outputs": [
    {
     "data": {
      "image/png": "[encoded data removed]",
      "text/plain": [
       "<Figure size 1000x600 with 1 Axes>"
      ]
     },
     "metadata": {},
     "output_type": "display_data"
    }
   ],
   "source": [
    "plt.figure(figsize=(10,6))\n",
    "sns.barplot(data=Satisfy_score,x=\"Age_Group\",y=\"Satisfaction_Score\",hue=\"Gender\",palette=\"Blues\")\n",
    "plt.title(\"Satisfacttiin Score Visualization\",fontweight=\"bold\",fontsize=14)\n",
    "plt.xlabel(\"Age Group\",fontweight=\"bold\",fontsize=12)\n",
    "plt.ylabel(\"Satisfaction Score\",fontweight=\"bold\",fontsize=12)\n",
    "plt.show()"
   ]
  },
  {
   "cell_type": "markdown",
   "id": "e060f184",
   "metadata": {},
   "source": [
    "`Time Spent On Site`"
   ]
  },
  {
   "cell_type": "code",
   "execution_count": 464,
   "id": "684ef2db",
   "metadata": {},
   "outputs": [
    {
     "data": {
      "text/plain": [
       "Age                          22\n",
       "Gender                   Female\n",
       "Location                  Rural\n",
       "Num_Interactions              8\n",
       "Feedback_Score                3\n",
       "Products_Purchased            8\n",
       "Products_Viewed               6\n",
       "Time_Spent_on_Site    59.947722\n",
       "Satisfaction_Score            8\n",
       "Retention_Status       Retained\n",
       "Gender_Encoded                0\n",
       "Name: 796, dtype: object"
      ]
     },
     "execution_count": 464,
     "metadata": {},
     "output_type": "execute_result"
    }
   ],
   "source": [
    "df[\"Time_Spent_on_Site\"].idxmax() #Highest Time Spent On Site \n",
    "df.loc[796]"
   ]
  },
  {
   "cell_type": "code",
   "execution_count": 465,
   "id": "db9870fc",
   "metadata": {},
   "outputs": [
    {
     "data": {
      "text/plain": [
       "Age                         20\n",
       "Gender                  Female\n",
       "Location                 Urban\n",
       "Num_Interactions            14\n",
       "Feedback_Score               5\n",
       "Products_Purchased           3\n",
       "Products_Viewed             46\n",
       "Time_Spent_on_Site    5.114208\n",
       "Satisfaction_Score           9\n",
       "Retention_Status      Retained\n",
       "Gender_Encoded               0\n",
       "Name: 757, dtype: object"
      ]
     },
     "execution_count": 465,
     "metadata": {},
     "output_type": "execute_result"
    }
   ],
   "source": [
    "df[\"Time_Spent_on_Site\"].idxmin()#Lowest Time Spent On Site \n",
    "df.loc[757]"
   ]
  },
  {
   "cell_type": "code",
   "execution_count": 466,
   "id": "23bfff2c",
   "metadata": {},
   "outputs": [
    {
     "data": {
      "image/png": "[encoded data removed]",
      "text/plain": [
       "<Figure size 800x600 with 1 Axes>"
      ]
     },
     "metadata": {},
     "output_type": "display_data"
    }
   ],
   "source": [
    "#Time Spent on site based on gender \n",
    "Ts_Os=df[[\"Gender\",\"Time_Spent_on_Site\"]]\n",
    "\n",
    "plt.figure(figsize=(8,6))\n",
    "sns.barplot(data=Ts_Os,x=\"Gender\",y=\"Time_Spent_on_Site\",hue=\"Gender\")\n",
    "plt.show()"
   ]
  },
  {
   "cell_type": "markdown",
   "id": "fdd21116",
   "metadata": {},
   "source": [
    "`Retention Classification`"
   ]
  },
  {
   "cell_type": "code",
   "execution_count": 467,
   "id": "35e9d44c",
   "metadata": {},
   "outputs": [
    {
     "name": "stdout",
     "output_type": "stream",
     "text": [
      "Retention_Status\n",
      "Retained    694\n",
      "Churned     306\n",
      "Name: count, dtype: int64\n"
     ]
    }
   ],
   "source": [
    "retention_counts = df[\"Retention_Status\"].value_counts()\n",
    "print(retention_counts)\n"
   ]
  },
  {
   "cell_type": "code",
   "execution_count": 468,
   "id": "d33f9fac",
   "metadata": {},
   "outputs": [
    {
     "name": "stdout",
     "output_type": "stream",
     "text": [
      "Retention_Status  Gender  Churned  Retained\n",
      "0                 Female      150       326\n",
      "1                   Male      156       368\n"
     ]
    }
   ],
   "source": [
    "Retention_s = df.groupby(\"Gender\")[\"Retention_Status\"].value_counts().unstack().reset_index()\n",
    "print(Retention_s)"
   ]
  },
  {
   "cell_type": "code",
   "execution_count": 469,
   "id": "3bee96c4",
   "metadata": {},
   "outputs": [
    {
     "data": {
      "image/png": "[encoded data removed]",
      "text/plain": [
       "<Figure size 800x600 with 1 Axes>"
      ]
     },
     "metadata": {},
     "output_type": "display_data"
    }
   ],
   "source": [
    "Retention_s.set_index(\"Gender\").plot(kind=\"bar\", stacked=True, figsize=(8,6), colormap=\"PiYG\")\n",
    "\n",
    "plt.title(\"Retention vs. Churn by Gender\")\n",
    "plt.xlabel(\"Gender\")\n",
    "plt.ylabel(\"Customer Count\")\n",
    "plt.legend(title=\"Retention Status\")\n",
    "plt.show()\n"
   ]
  },
  {
   "cell_type": "code",
   "execution_count": 470,
   "id": "9002ff88",
   "metadata": {},
   "outputs": [
    {
     "data": {
      "text/html": [
       "<div>\n",
       "<style scoped>\n",
       "    .dataframe tbody tr th:only-of-type {\n",
       "        vertical-align: middle;\n",
       "    }\n",
       "\n",
       "    .dataframe tbody tr th {\n",
       "        vertical-align: top;\n",
       "    }\n",
       "\n",
       "    .dataframe thead th {\n",
       "        text-align: right;\n",
       "    }\n",
       "</style>\n",
       "<table border=\"1\" class=\"dataframe\">\n",
       "  <thead>\n",
       "    <tr style=\"text-align: right;\">\n",
       "      <th></th>\n",
       "      <th>Age</th>\n",
       "      <th>Gender</th>\n",
       "      <th>Location</th>\n",
       "      <th>Num_Interactions</th>\n",
       "      <th>Feedback_Score</th>\n",
       "      <th>Products_Purchased</th>\n",
       "      <th>Products_Viewed</th>\n",
       "      <th>Time_Spent_on_Site</th>\n",
       "      <th>Satisfaction_Score</th>\n",
       "      <th>Retention_Status</th>\n",
       "      <th>Gender_Encoded</th>\n",
       "    </tr>\n",
       "  </thead>\n",
       "  <tbody>\n",
       "    <tr>\n",
       "      <th>0</th>\n",
       "      <td>56</td>\n",
       "      <td>Male</td>\n",
       "      <td>Urban</td>\n",
       "      <td>11</td>\n",
       "      <td>4</td>\n",
       "      <td>18</td>\n",
       "      <td>38</td>\n",
       "      <td>18.319606</td>\n",
       "      <td>7</td>\n",
       "      <td>Retained</td>\n",
       "      <td>1</td>\n",
       "    </tr>\n",
       "    <tr>\n",
       "      <th>1</th>\n",
       "      <td>69</td>\n",
       "      <td>Male</td>\n",
       "      <td>Suburban</td>\n",
       "      <td>10</td>\n",
       "      <td>3</td>\n",
       "      <td>2</td>\n",
       "      <td>17</td>\n",
       "      <td>9.015198</td>\n",
       "      <td>6</td>\n",
       "      <td>Retained</td>\n",
       "      <td>1</td>\n",
       "    </tr>\n",
       "    <tr>\n",
       "      <th>2</th>\n",
       "      <td>46</td>\n",
       "      <td>Male</td>\n",
       "      <td>Urban</td>\n",
       "      <td>5</td>\n",
       "      <td>5</td>\n",
       "      <td>11</td>\n",
       "      <td>46</td>\n",
       "      <td>45.921572</td>\n",
       "      <td>10</td>\n",
       "      <td>Churned</td>\n",
       "      <td>1</td>\n",
       "    </tr>\n",
       "    <tr>\n",
       "      <th>3</th>\n",
       "      <td>32</td>\n",
       "      <td>Female</td>\n",
       "      <td>Suburban</td>\n",
       "      <td>5</td>\n",
       "      <td>1</td>\n",
       "      <td>6</td>\n",
       "      <td>13</td>\n",
       "      <td>44.105053</td>\n",
       "      <td>5</td>\n",
       "      <td>Churned</td>\n",
       "      <td>0</td>\n",
       "    </tr>\n",
       "    <tr>\n",
       "      <th>4</th>\n",
       "      <td>60</td>\n",
       "      <td>Male</td>\n",
       "      <td>Urban</td>\n",
       "      <td>14</td>\n",
       "      <td>5</td>\n",
       "      <td>8</td>\n",
       "      <td>46</td>\n",
       "      <td>17.897471</td>\n",
       "      <td>1</td>\n",
       "      <td>Retained</td>\n",
       "      <td>1</td>\n",
       "    </tr>\n",
       "  </tbody>\n",
       "</table>\n",
       "</div>"
      ],
      "text/plain": [
       "   Age  Gender  Location  Num_Interactions  Feedback_Score  \\\n",
       "0   56    Male     Urban                11               4   \n",
       "1   69    Male  Suburban                10               3   \n",
       "2   46    Male     Urban                 5               5   \n",
       "3   32  Female  Suburban                 5               1   \n",
       "4   60    Male     Urban                14               5   \n",
       "\n",
       "   Products_Purchased  Products_Viewed  Time_Spent_on_Site  \\\n",
       "0                  18               38           18.319606   \n",
       "1                   2               17            9.015198   \n",
       "2                  11               46           45.921572   \n",
       "3                   6               13           44.105053   \n",
       "4                   8               46           17.897471   \n",
       "\n",
       "   Satisfaction_Score Retention_Status  Gender_Encoded  \n",
       "0                   7         Retained               1  \n",
       "1                   6         Retained               1  \n",
       "2                  10          Churned               1  \n",
       "3                   5          Churned               0  \n",
       "4                   1         Retained               1  "
      ]
     },
     "execution_count": 470,
     "metadata": {},
     "output_type": "execute_result"
    }
   ],
   "source": [
    "df.head(5)"
   ]
  },
  {
   "cell_type": "markdown",
   "id": "351bb744",
   "metadata": {},
   "source": [
    "## **Products Viewed VS Product Purchased By Gender**"
   ]
  },
  {
   "cell_type": "code",
   "execution_count": 471,
   "id": "2e24bfba",
   "metadata": {},
   "outputs": [
    {
     "data": {
      "text/html": [
       "<div>\n",
       "<style scoped>\n",
       "    .dataframe tbody tr th:only-of-type {\n",
       "        vertical-align: middle;\n",
       "    }\n",
       "\n",
       "    .dataframe tbody tr th {\n",
       "        vertical-align: top;\n",
       "    }\n",
       "\n",
       "    .dataframe thead th {\n",
       "        text-align: right;\n",
       "    }\n",
       "</style>\n",
       "<table border=\"1\" class=\"dataframe\">\n",
       "  <thead>\n",
       "    <tr style=\"text-align: right;\">\n",
       "      <th></th>\n",
       "      <th>Gender</th>\n",
       "      <th>Products_Viewed</th>\n",
       "      <th>Products_Purchased</th>\n",
       "    </tr>\n",
       "  </thead>\n",
       "  <tbody>\n",
       "    <tr>\n",
       "      <th>0</th>\n",
       "      <td>Female</td>\n",
       "      <td>12807</td>\n",
       "      <td>5040</td>\n",
       "    </tr>\n",
       "    <tr>\n",
       "      <th>1</th>\n",
       "      <td>Male</td>\n",
       "      <td>14563</td>\n",
       "      <td>5377</td>\n",
       "    </tr>\n",
       "  </tbody>\n",
       "</table>\n",
       "</div>"
      ],
      "text/plain": [
       "   Gender  Products_Viewed  Products_Purchased\n",
       "0  Female            12807                5040\n",
       "1    Male            14563                5377"
      ]
     },
     "execution_count": 471,
     "metadata": {},
     "output_type": "execute_result"
    }
   ],
   "source": [
    "product_classifi=df.groupby(\"Gender\")[[\"Products_Viewed\",\"Products_Purchased\"]].sum().reset_index()\n",
    "product_classifi"
   ]
  },
  {
   "cell_type": "code",
   "execution_count": 472,
   "id": "788732ef",
   "metadata": {},
   "outputs": [
    {
     "data": {
      "image/png": "[encoded data removed]",
      "text/plain": [
       "<Figure size 800x600 with 1 Axes>"
      ]
     },
     "metadata": {},
     "output_type": "display_data"
    }
   ],
   "source": [
    "product_classifi.set_index(\"Gender\").plot(kind=\"bar\", stacked=True, figsize=(8,6), colormap=\"Dark2\")\n",
    "plt.show()\n"
   ]
  },
  {
   "cell_type": "markdown",
   "id": "6329265c",
   "metadata": {},
   "source": [
    "`Alternate Visualize For Better Understanding`"
   ]
  },
  {
   "cell_type": "code",
   "execution_count": 473,
   "id": "3d64ef0e",
   "metadata": {},
   "outputs": [
    {
     "data": {
      "image/png": "[encoded data removed]",
      "text/plain": [
       "<Figure size 800x600 with 1 Axes>"
      ]
     },
     "metadata": {},
     "output_type": "display_data"
    }
   ],
   "source": [
    "import seaborn as sns\n",
    "import matplotlib.pyplot as plt\n",
    "\n",
    "# Reshape data for plotting\n",
    "product_summary = product_classifi.groupby(\"Gender\")[[\"Products_Viewed\", \"Products_Purchased\"]].sum().reset_index()\n",
    "\n",
    "plt.figure(figsize=(8,6))\n",
    "\n",
    "# Create grouped bar chart\n",
    "sns.barplot(data=product_summary.melt(id_vars=\"Gender\", var_name=\"Action\", value_name=\"Count\"),\n",
    "            x=\"Gender\", y=\"Count\", hue=\"Action\", palette=\"coolwarm\")\n",
    "\n",
    "plt.title(\"Product Views vs. Purchases by Gender\")\n",
    "plt.xlabel(\"Gender\")\n",
    "plt.ylabel(\"Total Count\")\n",
    "plt.legend(title=\"Action\")\n",
    "plt.show()\n"
   ]
  },
  {
   "cell_type": "markdown",
   "id": "d2ff5c21",
   "metadata": {},
   "source": [
    "## **Machine Learning Models**"
   ]
  },
  {
   "cell_type": "code",
   "execution_count": 474,
   "id": "0e295141",
   "metadata": {},
   "outputs": [
    {
     "data": {
      "text/html": [
       "<div>\n",
       "<style scoped>\n",
       "    .dataframe tbody tr th:only-of-type {\n",
       "        vertical-align: middle;\n",
       "    }\n",
       "\n",
       "    .dataframe tbody tr th {\n",
       "        vertical-align: top;\n",
       "    }\n",
       "\n",
       "    .dataframe thead th {\n",
       "        text-align: right;\n",
       "    }\n",
       "</style>\n",
       "<table border=\"1\" class=\"dataframe\">\n",
       "  <thead>\n",
       "    <tr style=\"text-align: right;\">\n",
       "      <th></th>\n",
       "      <th>Age</th>\n",
       "      <th>Gender</th>\n",
       "      <th>Location</th>\n",
       "      <th>Num_Interactions</th>\n",
       "      <th>Feedback_Score</th>\n",
       "      <th>Products_Purchased</th>\n",
       "      <th>Products_Viewed</th>\n",
       "      <th>Time_Spent_on_Site</th>\n",
       "      <th>Satisfaction_Score</th>\n",
       "      <th>Retention_Status</th>\n",
       "      <th>Gender_Encoded</th>\n",
       "    </tr>\n",
       "  </thead>\n",
       "  <tbody>\n",
       "    <tr>\n",
       "      <th>0</th>\n",
       "      <td>56</td>\n",
       "      <td>Male</td>\n",
       "      <td>Urban</td>\n",
       "      <td>11</td>\n",
       "      <td>4</td>\n",
       "      <td>18</td>\n",
       "      <td>38</td>\n",
       "      <td>18.319606</td>\n",
       "      <td>7</td>\n",
       "      <td>Retained</td>\n",
       "      <td>1</td>\n",
       "    </tr>\n",
       "    <tr>\n",
       "      <th>1</th>\n",
       "      <td>69</td>\n",
       "      <td>Male</td>\n",
       "      <td>Suburban</td>\n",
       "      <td>10</td>\n",
       "      <td>3</td>\n",
       "      <td>2</td>\n",
       "      <td>17</td>\n",
       "      <td>9.015198</td>\n",
       "      <td>6</td>\n",
       "      <td>Retained</td>\n",
       "      <td>1</td>\n",
       "    </tr>\n",
       "    <tr>\n",
       "      <th>2</th>\n",
       "      <td>46</td>\n",
       "      <td>Male</td>\n",
       "      <td>Urban</td>\n",
       "      <td>5</td>\n",
       "      <td>5</td>\n",
       "      <td>11</td>\n",
       "      <td>46</td>\n",
       "      <td>45.921572</td>\n",
       "      <td>10</td>\n",
       "      <td>Churned</td>\n",
       "      <td>1</td>\n",
       "    </tr>\n",
       "    <tr>\n",
       "      <th>3</th>\n",
       "      <td>32</td>\n",
       "      <td>Female</td>\n",
       "      <td>Suburban</td>\n",
       "      <td>5</td>\n",
       "      <td>1</td>\n",
       "      <td>6</td>\n",
       "      <td>13</td>\n",
       "      <td>44.105053</td>\n",
       "      <td>5</td>\n",
       "      <td>Churned</td>\n",
       "      <td>0</td>\n",
       "    </tr>\n",
       "    <tr>\n",
       "      <th>4</th>\n",
       "      <td>60</td>\n",
       "      <td>Male</td>\n",
       "      <td>Urban</td>\n",
       "      <td>14</td>\n",
       "      <td>5</td>\n",
       "      <td>8</td>\n",
       "      <td>46</td>\n",
       "      <td>17.897471</td>\n",
       "      <td>1</td>\n",
       "      <td>Retained</td>\n",
       "      <td>1</td>\n",
       "    </tr>\n",
       "  </tbody>\n",
       "</table>\n",
       "</div>"
      ],
      "text/plain": [
       "   Age  Gender  Location  Num_Interactions  Feedback_Score  \\\n",
       "0   56    Male     Urban                11               4   \n",
       "1   69    Male  Suburban                10               3   \n",
       "2   46    Male     Urban                 5               5   \n",
       "3   32  Female  Suburban                 5               1   \n",
       "4   60    Male     Urban                14               5   \n",
       "\n",
       "   Products_Purchased  Products_Viewed  Time_Spent_on_Site  \\\n",
       "0                  18               38           18.319606   \n",
       "1                   2               17            9.015198   \n",
       "2                  11               46           45.921572   \n",
       "3                   6               13           44.105053   \n",
       "4                   8               46           17.897471   \n",
       "\n",
       "   Satisfaction_Score Retention_Status  Gender_Encoded  \n",
       "0                   7         Retained               1  \n",
       "1                   6         Retained               1  \n",
       "2                  10          Churned               1  \n",
       "3                   5          Churned               0  \n",
       "4                   1         Retained               1  "
      ]
     },
     "execution_count": 474,
     "metadata": {},
     "output_type": "execute_result"
    }
   ],
   "source": [
    "df.head(5)"
   ]
  },
  {
   "cell_type": "code",
   "execution_count": 475,
   "id": "a4edf794",
   "metadata": {},
   "outputs": [
    {
     "name": "stdout",
     "output_type": "stream",
     "text": [
      "              precision    recall  f1-score   support\n",
      "\n",
      "     Churned       0.20      0.05      0.08        62\n",
      "    Retained       0.68      0.91      0.78       138\n",
      "\n",
      "    accuracy                           0.65       200\n",
      "   macro avg       0.44      0.48      0.43       200\n",
      "weighted avg       0.53      0.65      0.56       200\n",
      "\n"
     ]
    },
    {
     "data": {
      "image/png": "[encoded data removed]",
      "text/plain": [
       "<Figure size 640x480 with 2 Axes>"
      ]
     },
     "metadata": {},
     "output_type": "display_data"
    },
    {
     "data": {
      "image/png": "[encoded data removed]",
      "text/plain": [
       "<Figure size 1000x600 with 1 Axes>"
      ]
     },
     "metadata": {},
     "output_type": "display_data"
    },
    {
     "name": "stdout",
     "output_type": "stream",
     "text": [
      "Number of customers predicted to churn: 259\n",
      "Number of customers predicted to be retained: 741\n"
     ]
    }
   ],
   "source": [
    "le=LabelEncoder()\n",
    "# Encode categorical variable 'Gender' for modeling\n",
    "df['Gender_Encoded'] = le.fit_transform(df['Gender'])\n",
    "\n",
    "# Define features and target\n",
    "features = ['Age', 'Num_Interactions', 'Feedback_Score', 'Products_Purchased', \n",
    "            'Products_Viewed', 'Time_Spent_on_Site', 'Satisfaction_Score', \n",
    "            'Gender_Encoded']\n",
    "target = 'Retention_Status'\n",
    "\n",
    "X = df[features]\n",
    "y = df[target]\n",
    "\n",
    "# Split and scale data\n",
    "X_train, X_test, y_train, y_test = train_test_split(X, y, test_size=0.2, random_state=42)\n",
    "scaler = StandardScaler()\n",
    "X_train_scaled = scaler.fit_transform(X_train)\n",
    "X_test_scaled = scaler.transform(X_test)\n",
    "\n",
    "# Train Random Forest model\n",
    "rf_model = RandomForestClassifier(n_estimators=100, random_state=42)\n",
    "rf_model.fit(X_train_scaled, y_train)\n",
    "\n",
    "# Predict and evaluate\n",
    "y_pred = rf_model.predict(X_test_scaled)\n",
    "print(classification_report(y_test, y_pred))\n",
    "\n",
    "cm = confusion_matrix(y_test, y_pred)\n",
    "disp = ConfusionMatrixDisplay(confusion_matrix=cm, display_labels=['Churned', 'Retained'])\n",
    "disp.plot()\n",
    "plt.show()\n",
    "\n",
    "# Feature importance\n",
    "feature_importance = pd.Series(rf_model.feature_importances_, index=features)\n",
    "feature_importance.sort_values(ascending=False).plot(kind='bar', figsize=(10, 6))\n",
    "plt.title('Feature Importance in Random Forest Model')\n",
    "plt.ylabel('Importance')\n",
    "plt.show()\n",
    "\n",
    "# Predict number of customers likely to churn\n",
    "X_scaled = scaler.transform(X)\n",
    "predictions = rf_model.predict(X_scaled)\n",
    "churn_count = np.sum(predictions == 'Churned')\n",
    "retained_count = np.sum(predictions == 'Retained')\n",
    "print(f\"Number of customers predicted to churn: {churn_count}\")\n",
    "print(f\"Number of customers predicted to be retained: {retained_count}\")"
   ]
  }
 ],
 "metadata": {
  "kernelspec": {
   "display_name": "Python 3",
   "language": "python",
   "name": "python3"
  },
  "language_info": {
   "codemirror_mode": {
    "name": "ipython",
    "version": 3
   },
   "file_extension": ".py",
   "mimetype": "text/x-python",
   "name": "python",
   "nbconvert_exporter": "python",
   "pygments_lexer": "ipython3",
   "version": "3.12.4"
  }
 },
 "nbformat": 4,
 "nbformat_minor": 5
}
