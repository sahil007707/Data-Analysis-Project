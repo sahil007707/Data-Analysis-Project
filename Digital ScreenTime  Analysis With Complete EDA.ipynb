{
 "cells": [
  {
   "cell_type": "markdown",
   "id": "8230bc8f",
   "metadata": {},
   "source": [
    "## Importing Libraries"
   ]
  },
  {
   "cell_type": "code",
   "execution_count": 1,
   "id": "8c66ae17",
   "metadata": {},
   "outputs": [],
   "source": [
    "import pandas as pd\n",
    "import seaborn as sns\n",
    "import matplotlib.pyplot as plt\n",
    "import numpy as np\n",
    "import plotly.express as px"
   ]
  },
  {
   "cell_type": "markdown",
   "id": "17f78ae7",
   "metadata": {},
   "source": [
    "## **Importing Dataset**"
   ]
  },
  {
   "cell_type": "markdown",
   "id": "f5e4bd32",
   "metadata": {},
   "source": [
    "## *ScreenTime Analysis*"
   ]
  },
  {
   "cell_type": "markdown",
   "id": "f2fbae12",
   "metadata": {},
   "source": [
    "![Screen Time](screen-time-affects-childrens-behavior-and-development-870x570.png)"
   ]
  },
  {
   "cell_type": "code",
   "execution_count": 2,
   "id": "0c17f767",
   "metadata": {},
   "outputs": [],
   "source": [
    "df=pd.read_csv(r\"c:\\Users\\user\\Desktop\\Kaggle Datasets\\screentime_analysis_jan_2025.csv\")"
   ]
  },
  {
   "cell_type": "code",
   "execution_count": 3,
   "id": "c227b6d2",
   "metadata": {},
   "outputs": [
    {
     "data": {
      "text/html": [
       "<div>\n",
       "<style scoped>\n",
       "    .dataframe tbody tr th:only-of-type {\n",
       "        vertical-align: middle;\n",
       "    }\n",
       "\n",
       "    .dataframe tbody tr th {\n",
       "        vertical-align: top;\n",
       "    }\n",
       "\n",
       "    .dataframe thead th {\n",
       "        text-align: right;\n",
       "    }\n",
       "</style>\n",
       "<table border=\"1\" class=\"dataframe\">\n",
       "  <thead>\n",
       "    <tr style=\"text-align: right;\">\n",
       "      <th></th>\n",
       "      <th>Date</th>\n",
       "      <th>App</th>\n",
       "      <th>Usage (minutes)</th>\n",
       "      <th>Notifications</th>\n",
       "      <th>Times Opened</th>\n",
       "    </tr>\n",
       "  </thead>\n",
       "  <tbody>\n",
       "    <tr>\n",
       "      <th>0</th>\n",
       "      <td>2025-01-01</td>\n",
       "      <td>Insta</td>\n",
       "      <td>120</td>\n",
       "      <td>11</td>\n",
       "      <td>38</td>\n",
       "    </tr>\n",
       "    <tr>\n",
       "      <th>1</th>\n",
       "      <td>2025-01-01</td>\n",
       "      <td>X</td>\n",
       "      <td>220</td>\n",
       "      <td>31</td>\n",
       "      <td>13</td>\n",
       "    </tr>\n",
       "    <tr>\n",
       "      <th>2</th>\n",
       "      <td>2025-01-01</td>\n",
       "      <td>WhatsA</td>\n",
       "      <td>126</td>\n",
       "      <td>65</td>\n",
       "      <td>89</td>\n",
       "    </tr>\n",
       "    <tr>\n",
       "      <th>3</th>\n",
       "      <td>2025-01-01</td>\n",
       "      <td>Telegram</td>\n",
       "      <td>60</td>\n",
       "      <td>5</td>\n",
       "      <td>14</td>\n",
       "    </tr>\n",
       "    <tr>\n",
       "      <th>4</th>\n",
       "      <td>2025-01-01</td>\n",
       "      <td>YouTube</td>\n",
       "      <td>120</td>\n",
       "      <td>2</td>\n",
       "      <td>10</td>\n",
       "    </tr>\n",
       "  </tbody>\n",
       "</table>\n",
       "</div>"
      ],
      "text/plain": [
       "         Date       App  Usage (minutes)  Notifications  Times Opened\n",
       "0  2025-01-01     Insta              120             11            38\n",
       "1  2025-01-01         X              220             31            13\n",
       "2  2025-01-01    WhatsA              126             65            89\n",
       "3  2025-01-01  Telegram               60              5            14\n",
       "4  2025-01-01   YouTube              120              2            10"
      ]
     },
     "execution_count": 3,
     "metadata": {},
     "output_type": "execute_result"
    }
   ],
   "source": [
    "df.head(5)"
   ]
  },
  {
   "cell_type": "markdown",
   "id": "2e0b4bbf",
   "metadata": {},
   "source": [
    "## Dataset Info"
   ]
  },
  {
   "cell_type": "code",
   "execution_count": 4,
   "id": "ff0819a7",
   "metadata": {},
   "outputs": [
    {
     "name": "stdout",
     "output_type": "stream",
     "text": [
      "<class 'pandas.core.frame.DataFrame'>\n",
      "RangeIndex: 240 entries, 0 to 239\n",
      "Data columns (total 5 columns):\n",
      " #   Column           Non-Null Count  Dtype \n",
      "---  ------           --------------  ----- \n",
      " 0   Date             240 non-null    object\n",
      " 1   App              240 non-null    object\n",
      " 2   Usage (minutes)  240 non-null    int64 \n",
      " 3   Notifications    240 non-null    int64 \n",
      " 4   Times Opened     240 non-null    int64 \n",
      "dtypes: int64(3), object(2)\n",
      "memory usage: 9.5+ KB\n"
     ]
    }
   ],
   "source": [
    "df.info()"
   ]
  },
  {
   "cell_type": "code",
   "execution_count": 5,
   "id": "f9d06ccf",
   "metadata": {},
   "outputs": [
    {
     "data": {
      "text/plain": [
       "(240, 5)"
      ]
     },
     "execution_count": 5,
     "metadata": {},
     "output_type": "execute_result"
    }
   ],
   "source": [
    "df.shape"
   ]
  },
  {
   "cell_type": "code",
   "execution_count": 6,
   "id": "463fa305",
   "metadata": {},
   "outputs": [],
   "source": [
    "df[\"Date\"]=pd.to_datetime(df[\"Date\"])"
   ]
  },
  {
   "cell_type": "markdown",
   "id": "4b9ad382",
   "metadata": {},
   "source": [
    "## Data Handling "
   ]
  },
  {
   "cell_type": "code",
   "execution_count": 7,
   "id": "b394d44a",
   "metadata": {},
   "outputs": [
    {
     "data": {
      "text/plain": [
       "Date               0\n",
       "App                0\n",
       "Usage (minutes)    0\n",
       "Notifications      0\n",
       "Times Opened       0\n",
       "dtype: int64"
      ]
     },
     "execution_count": 7,
     "metadata": {},
     "output_type": "execute_result"
    }
   ],
   "source": [
    "df.isna().sum()"
   ]
  },
  {
   "cell_type": "code",
   "execution_count": 8,
   "id": "66f232aa",
   "metadata": {},
   "outputs": [
    {
     "data": {
      "text/plain": [
       "np.int64(0)"
      ]
     },
     "execution_count": 8,
     "metadata": {},
     "output_type": "execute_result"
    }
   ],
   "source": [
    "df.duplicated().sum()"
   ]
  },
  {
   "cell_type": "markdown",
   "id": "9a275e90",
   "metadata": {},
   "source": [
    "## EDA & Visualization"
   ]
  },
  {
   "cell_type": "code",
   "execution_count": 9,
   "id": "958b7a64",
   "metadata": {},
   "outputs": [
    {
     "data": {
      "text/html": [
       "<div>\n",
       "<style scoped>\n",
       "    .dataframe tbody tr th:only-of-type {\n",
       "        vertical-align: middle;\n",
       "    }\n",
       "\n",
       "    .dataframe tbody tr th {\n",
       "        vertical-align: top;\n",
       "    }\n",
       "\n",
       "    .dataframe thead th {\n",
       "        text-align: right;\n",
       "    }\n",
       "</style>\n",
       "<table border=\"1\" class=\"dataframe\">\n",
       "  <thead>\n",
       "    <tr style=\"text-align: right;\">\n",
       "      <th></th>\n",
       "      <th>Date</th>\n",
       "      <th>App</th>\n",
       "      <th>Usage (minutes)</th>\n",
       "      <th>Notifications</th>\n",
       "      <th>Times Opened</th>\n",
       "    </tr>\n",
       "  </thead>\n",
       "  <tbody>\n",
       "    <tr>\n",
       "      <th>0</th>\n",
       "      <td>2025-01-01</td>\n",
       "      <td>Insta</td>\n",
       "      <td>120</td>\n",
       "      <td>11</td>\n",
       "      <td>38</td>\n",
       "    </tr>\n",
       "    <tr>\n",
       "      <th>1</th>\n",
       "      <td>2025-01-01</td>\n",
       "      <td>X</td>\n",
       "      <td>220</td>\n",
       "      <td>31</td>\n",
       "      <td>13</td>\n",
       "    </tr>\n",
       "    <tr>\n",
       "      <th>2</th>\n",
       "      <td>2025-01-01</td>\n",
       "      <td>WhatsA</td>\n",
       "      <td>126</td>\n",
       "      <td>65</td>\n",
       "      <td>89</td>\n",
       "    </tr>\n",
       "    <tr>\n",
       "      <th>3</th>\n",
       "      <td>2025-01-01</td>\n",
       "      <td>Telegram</td>\n",
       "      <td>60</td>\n",
       "      <td>5</td>\n",
       "      <td>14</td>\n",
       "    </tr>\n",
       "    <tr>\n",
       "      <th>4</th>\n",
       "      <td>2025-01-01</td>\n",
       "      <td>YouTube</td>\n",
       "      <td>120</td>\n",
       "      <td>2</td>\n",
       "      <td>10</td>\n",
       "    </tr>\n",
       "  </tbody>\n",
       "</table>\n",
       "</div>"
      ],
      "text/plain": [
       "        Date       App  Usage (minutes)  Notifications  Times Opened\n",
       "0 2025-01-01     Insta              120             11            38\n",
       "1 2025-01-01         X              220             31            13\n",
       "2 2025-01-01    WhatsA              126             65            89\n",
       "3 2025-01-01  Telegram               60              5            14\n",
       "4 2025-01-01   YouTube              120              2            10"
      ]
     },
     "execution_count": 9,
     "metadata": {},
     "output_type": "execute_result"
    }
   ],
   "source": [
    "df.head()"
   ]
  },
  {
   "cell_type": "code",
   "execution_count": 10,
   "id": "0a28478a",
   "metadata": {},
   "outputs": [
    {
     "data": {
      "text/html": [
       "<style type=\"text/css\">\n",
       "#T_38a11_row0_col1 {\n",
       "  background-color: #67000d;\n",
       "  color: #f1f1f1;\n",
       "}\n",
       "#T_38a11_row1_col1 {\n",
       "  background-color: #980c13;\n",
       "  color: #f1f1f1;\n",
       "}\n",
       "#T_38a11_row2_col1 {\n",
       "  background-color: #9f0e14;\n",
       "  color: #f1f1f1;\n",
       "}\n",
       "#T_38a11_row3_col1 {\n",
       "  background-color: #a60f15;\n",
       "  color: #f1f1f1;\n",
       "}\n",
       "#T_38a11_row4_col1 {\n",
       "  background-color: #aa1016;\n",
       "  color: #f1f1f1;\n",
       "}\n",
       "#T_38a11_row5_col1 {\n",
       "  background-color: #af1117;\n",
       "  color: #f1f1f1;\n",
       "}\n",
       "#T_38a11_row6_col1 {\n",
       "  background-color: #bb141a;\n",
       "  color: #f1f1f1;\n",
       "}\n",
       "#T_38a11_row7_col1 {\n",
       "  background-color: #d72322;\n",
       "  color: #f1f1f1;\n",
       "}\n",
       "#T_38a11_row8_col1 {\n",
       "  background-color: #fff2eb;\n",
       "  color: #000000;\n",
       "}\n",
       "#T_38a11_row9_col1 {\n",
       "  background-color: #fff4ee;\n",
       "  color: #000000;\n",
       "}\n",
       "#T_38a11_row10_col1 {\n",
       "  background-color: #fff5f0;\n",
       "  color: #000000;\n",
       "}\n",
       "</style>\n",
       "<table id=\"T_38a11\">\n",
       "  <thead>\n",
       "    <tr>\n",
       "      <th class=\"blank level0\" >&nbsp;</th>\n",
       "      <th id=\"T_38a11_level0_col0\" class=\"col_heading level0 col0\" >App</th>\n",
       "      <th id=\"T_38a11_level0_col1\" class=\"col_heading level0 col1\" >Usage (minutes)</th>\n",
       "    </tr>\n",
       "  </thead>\n",
       "  <tbody>\n",
       "    <tr>\n",
       "      <th id=\"T_38a11_level0_row0\" class=\"row_heading level0 row0\" >0</th>\n",
       "      <td id=\"T_38a11_row0_col0\" class=\"data row0 col0\" >Facebook</td>\n",
       "      <td id=\"T_38a11_row0_col1\" class=\"data row0 col1\" >5331</td>\n",
       "    </tr>\n",
       "    <tr>\n",
       "      <th id=\"T_38a11_level0_row1\" class=\"row_heading level0 row1\" >10</th>\n",
       "      <td id=\"T_38a11_row1_col0\" class=\"data row1 col0\" >YouTube</td>\n",
       "      <td id=\"T_38a11_row1_col1\" class=\"data row1 col1\" >4849</td>\n",
       "    </tr>\n",
       "    <tr>\n",
       "      <th id=\"T_38a11_level0_row2\" class=\"row_heading level0 row2\" >5</th>\n",
       "      <td id=\"T_38a11_row2_col0\" class=\"data row2 col0\" >Telegram</td>\n",
       "      <td id=\"T_38a11_row2_col1\" class=\"data row2 col1\" >4770</td>\n",
       "    </tr>\n",
       "    <tr>\n",
       "      <th id=\"T_38a11_level0_row3\" class=\"row_heading level0 row3\" >8</th>\n",
       "      <td id=\"T_38a11_row3_col0\" class=\"data row3 col0\" >WhatsApp</td>\n",
       "      <td id=\"T_38a11_row3_col1\" class=\"data row3 col1\" >4694</td>\n",
       "    </tr>\n",
       "    <tr>\n",
       "      <th id=\"T_38a11_level0_row4\" class=\"row_heading level0 row4\" >2</th>\n",
       "      <td id=\"T_38a11_row4_col0\" class=\"data row4 col0\" >Instagram</td>\n",
       "      <td id=\"T_38a11_row4_col1\" class=\"data row4 col1\" >4637</td>\n",
       "    </tr>\n",
       "    <tr>\n",
       "      <th id=\"T_38a11_level0_row5\" class=\"row_heading level0 row5\" >4</th>\n",
       "      <td id=\"T_38a11_row5_col0\" class=\"data row5 col0\" >Netflix</td>\n",
       "      <td id=\"T_38a11_row5_col1\" class=\"data row5 col1\" >4548</td>\n",
       "    </tr>\n",
       "    <tr>\n",
       "      <th id=\"T_38a11_level0_row6\" class=\"row_heading level0 row6\" >3</th>\n",
       "      <td id=\"T_38a11_row6_col0\" class=\"data row6 col0\" >LinkedIn</td>\n",
       "      <td id=\"T_38a11_row6_col1\" class=\"data row6 col1\" >4368</td>\n",
       "    </tr>\n",
       "    <tr>\n",
       "      <th id=\"T_38a11_level0_row7\" class=\"row_heading level0 row7\" >9</th>\n",
       "      <td id=\"T_38a11_row7_col0\" class=\"data row7 col0\" >X</td>\n",
       "      <td id=\"T_38a11_row7_col1\" class=\"data row7 col1\" >3900</td>\n",
       "    </tr>\n",
       "    <tr>\n",
       "      <th id=\"T_38a11_level0_row8\" class=\"row_heading level0 row8\" >7</th>\n",
       "      <td id=\"T_38a11_row8_col0\" class=\"data row8 col0\" >WhatsA</td>\n",
       "      <td id=\"T_38a11_row8_col1\" class=\"data row8 col1\" >532</td>\n",
       "    </tr>\n",
       "    <tr>\n",
       "      <th id=\"T_38a11_level0_row9\" class=\"row_heading level0 row9\" >1</th>\n",
       "      <td id=\"T_38a11_row9_col0\" class=\"data row9 col0\" >Insta</td>\n",
       "      <td id=\"T_38a11_row9_col1\" class=\"data row9 col1\" >483</td>\n",
       "    </tr>\n",
       "    <tr>\n",
       "      <th id=\"T_38a11_level0_row10\" class=\"row_heading level0 row10\" >6</th>\n",
       "      <td id=\"T_38a11_row10_col0\" class=\"data row10 col0\" >Twiter</td>\n",
       "      <td id=\"T_38a11_row10_col1\" class=\"data row10 col1\" >436</td>\n",
       "    </tr>\n",
       "  </tbody>\n",
       "</table>\n"
      ],
      "text/plain": [
       "<pandas.io.formats.style.Styler at 0x1ca376877d0>"
      ]
     },
     "execution_count": 10,
     "metadata": {},
     "output_type": "execute_result"
    }
   ],
   "source": [
    "classifi_us=df.groupby(\"App\")[\"Usage (minutes)\"].sum().reset_index().sort_values(\"Usage (minutes)\",ascending=False)\n",
    "classifi_us.style.background_gradient(cmap=\"Reds\")\n"
   ]
  },
  {
   "cell_type": "markdown",
   "id": "908a7360",
   "metadata": {},
   "source": [
    "#### *The above chart shows the most used application platform on the basis of how many minutes have been spent on them,*\n",
    "#### *And the analysis shows that the Facebook is the most used platform after that there is Youtube, Telegram,Whatsapp and then Instagram.*"
   ]
  },
  {
   "cell_type": "markdown",
   "id": "0527bc26",
   "metadata": {},
   "source": [
    "## The Barplot Visualization Of Showing The Most Used Platfrom "
   ]
  },
  {
   "cell_type": "code",
   "execution_count": 11,
   "id": "9874db9b",
   "metadata": {},
   "outputs": [
    {
     "data": {
      "image/png": "[encoded data removed]",
      "text/plain": [
       "<Figure size 1000x600 with 1 Axes>"
      ]
     },
     "metadata": {},
     "output_type": "display_data"
    }
   ],
   "source": [
    "plt.figure(figsize=(10,6))\n",
    "sns.set_style(\"whitegrid\")\n",
    "sns.barplot(data=classifi_us,x=\"App\",y=\"Usage (minutes)\",hue=\"App\",palette=\"Paired\")\n",
    "plt.show()"
   ]
  },
  {
   "cell_type": "markdown",
   "id": "94467107",
   "metadata": {},
   "source": [
    "### ` Alternate Pie Visualization For Better Understanding`"
   ]
  },
  {
   "cell_type": "code",
   "execution_count": 12,
   "id": "4ed6368e",
   "metadata": {},
   "outputs": [
    {
     "data": {
      "application/vnd.plotly.v1+json": {
       "config": {
        "plotlyServerURL": "https://plot.ly"
       },
       "data": [
        {
         "domain": {
          "x": [
           0,
           1
          ],
          "y": [
           0,
           1
          ]
         },
         "hovertemplate": "App=%{label}<br>Usage (minutes)=%{value}<extra></extra>",
         "labels": [
          "Facebook",
          "YouTube",
          "Telegram",
          "WhatsApp",
          "Instagram",
          "Netflix",
          "LinkedIn",
          "X",
          "WhatsA",
          "Insta",
          "Twiter"
         ],
         "legendgroup": "",
         "name": "",
         "showlegend": true,
         "type": "pie",
         "values": {
          "bdata": "0xTxEqISVhIdEsQREBE8DxQC4wG0AQ==",
          "dtype": "i2"
         }
        }
       ],
       "layout": {
        "legend": {
         "tracegroupgap": 0
        },
        "margin": {
         "t": 60
        },
        "piecolorway": [
         "rgb(103,0,31)",
         "rgb(178,24,43)",
         "rgb(214,96,77)",
         "rgb(244,165,130)",
         "rgb(253,219,199)",
         "rgb(247,247,247)",
         "rgb(209,229,240)",
         "rgb(146,197,222)",
         "rgb(67,147,195)",
         "rgb(33,102,172)",
         "rgb(5,48,97)"
        ],
        "template": {
         "data": {
          "bar": [
           {
            "error_x": {
             "color": "#2a3f5f"
            },
            "error_y": {
             "color": "#2a3f5f"
            },
            "marker": {
             "line": {
              "color": "#E5ECF6",
              "width": 0.5
             },
             "pattern": {
              "fillmode": "overlay",
              "size": 10,
              "solidity": 0.2
             }
            },
            "type": "bar"
           }
          ],
          "barpolar": [
           {
            "marker": {
             "line": {
              "color": "#E5ECF6",
              "width": 0.5
             },
             "pattern": {
              "fillmode": "overlay",
              "size": 10,
              "solidity": 0.2
             }
            },
            "type": "barpolar"
           }
          ],
          "carpet": [
           {
            "aaxis": {
             "endlinecolor": "#2a3f5f",
             "gridcolor": "white",
             "linecolor": "white",
             "minorgridcolor": "white",
             "startlinecolor": "#2a3f5f"
            },
            "baxis": {
             "endlinecolor": "#2a3f5f",
             "gridcolor": "white",
             "linecolor": "white",
             "minorgridcolor": "white",
             "startlinecolor": "#2a3f5f"
            },
            "type": "carpet"
           }
          ],
          "choropleth": [
           {
            "colorbar": {
             "outlinewidth": 0,
             "ticks": ""
            },
            "type": "choropleth"
           }
          ],
          "contour": [
           {
            "colorbar": {
             "outlinewidth": 0,
             "ticks": ""
            },
            "colorscale": [
             [
              0,
              "#0d0887"
             ],
             [
              0.1111111111111111,
              "#46039f"
             ],
             [
              0.2222222222222222,
              "#7201a8"
             ],
             [
              0.3333333333333333,
              "#9c179e"
             ],
             [
              0.4444444444444444,
              "#bd3786"
             ],
             [
              0.5555555555555556,
              "#d8576b"
             ],
             [
              0.6666666666666666,
              "#ed7953"
             ],
             [
              0.7777777777777778,
              "#fb9f3a"
             ],
             [
              0.8888888888888888,
              "#fdca26"
             ],
             [
              1,
              "#f0f921"
             ]
            ],
            "type": "contour"
           }
          ],
          "contourcarpet": [
           {
            "colorbar": {
             "outlinewidth": 0,
             "ticks": ""
            },
            "type": "contourcarpet"
           }
          ],
          "heatmap": [
           {
            "colorbar": {
             "outlinewidth": 0,
             "ticks": ""
            },
            "colorscale": [
             [
              0,
              "#0d0887"
             ],
             [
              0.1111111111111111,
              "#46039f"
             ],
             [
              0.2222222222222222,
              "#7201a8"
             ],
             [
              0.3333333333333333,
              "#9c179e"
             ],
             [
              0.4444444444444444,
              "#bd3786"
             ],
             [
              0.5555555555555556,
              "#d8576b"
             ],
             [
              0.6666666666666666,
              "#ed7953"
             ],
             [
              0.7777777777777778,
              "#fb9f3a"
             ],
             [
              0.8888888888888888,
              "#fdca26"
             ],
             [
              1,
              "#f0f921"
             ]
            ],
            "type": "heatmap"
           }
          ],
          "histogram": [
           {
            "marker": {
             "pattern": {
              "fillmode": "overlay",
              "size": 10,
              "solidity": 0.2
             }
            },
            "type": "histogram"
           }
          ],
          "histogram2d": [
           {
            "colorbar": {
             "outlinewidth": 0,
             "ticks": ""
            },
            "colorscale": [
             [
              0,
              "#0d0887"
             ],
             [
              0.1111111111111111,
              "#46039f"
             ],
             [
              0.2222222222222222,
              "#7201a8"
             ],
             [
              0.3333333333333333,
              "#9c179e"
             ],
             [
              0.4444444444444444,
              "#bd3786"
             ],
             [
              0.5555555555555556,
              "#d8576b"
             ],
             [
              0.6666666666666666,
              "#ed7953"
             ],
             [
              0.7777777777777778,
              "#fb9f3a"
             ],
             [
              0.8888888888888888,
              "#fdca26"
             ],
             [
              1,
              "#f0f921"
             ]
            ],
            "type": "histogram2d"
           }
          ],
          "histogram2dcontour": [
           {
            "colorbar": {
             "outlinewidth": 0,
             "ticks": ""
            },
            "colorscale": [
             [
              0,
              "#0d0887"
             ],
             [
              0.1111111111111111,
              "#46039f"
             ],
             [
              0.2222222222222222,
              "#7201a8"
             ],
             [
              0.3333333333333333,
              "#9c179e"
             ],
             [
              0.4444444444444444,
              "#bd3786"
             ],
             [
              0.5555555555555556,
              "#d8576b"
             ],
             [
              0.6666666666666666,
              "#ed7953"
             ],
             [
              0.7777777777777778,
              "#fb9f3a"
             ],
             [
              0.8888888888888888,
              "#fdca26"
             ],
             [
              1,
              "#f0f921"
             ]
            ],
            "type": "histogram2dcontour"
           }
          ],
          "mesh3d": [
           {
            "colorbar": {
             "outlinewidth": 0,
             "ticks": ""
            },
            "type": "mesh3d"
           }
          ],
          "parcoords": [
           {
            "line": {
             "colorbar": {
              "outlinewidth": 0,
              "ticks": ""
             }
            },
            "type": "parcoords"
           }
          ],
          "pie": [
           {
            "automargin": true,
            "type": "pie"
           }
          ],
          "scatter": [
           {
            "fillpattern": {
             "fillmode": "overlay",
             "size": 10,
             "solidity": 0.2
            },
            "type": "scatter"
           }
          ],
          "scatter3d": [
           {
            "line": {
             "colorbar": {
              "outlinewidth": 0,
              "ticks": ""
             }
            },
            "marker": {
             "colorbar": {
              "outlinewidth": 0,
              "ticks": ""
             }
            },
            "type": "scatter3d"
           }
          ],
          "scattercarpet": [
           {
            "marker": {
             "colorbar": {
              "outlinewidth": 0,
              "ticks": ""
             }
            },
            "type": "scattercarpet"
           }
          ],
          "scattergeo": [
           {
            "marker": {
             "colorbar": {
              "outlinewidth": 0,
              "ticks": ""
             }
            },
            "type": "scattergeo"
           }
          ],
          "scattergl": [
           {
            "marker": {
             "colorbar": {
              "outlinewidth": 0,
              "ticks": ""
             }
            },
            "type": "scattergl"
           }
          ],
          "scattermap": [
           {
            "marker": {
             "colorbar": {
              "outlinewidth": 0,
              "ticks": ""
             }
            },
            "type": "scattermap"
           }
          ],
          "scattermapbox": [
           {
            "marker": {
             "colorbar": {
              "outlinewidth": 0,
              "ticks": ""
             }
            },
            "type": "scattermapbox"
           }
          ],
          "scatterpolar": [
           {
            "marker": {
             "colorbar": {
              "outlinewidth": 0,
              "ticks": ""
             }
            },
            "type": "scatterpolar"
           }
          ],
          "scatterpolargl": [
           {
            "marker": {
             "colorbar": {
              "outlinewidth": 0,
              "ticks": ""
             }
            },
            "type": "scatterpolargl"
           }
          ],
          "scatterternary": [
           {
            "marker": {
             "colorbar": {
              "outlinewidth": 0,
              "ticks": ""
             }
            },
            "type": "scatterternary"
           }
          ],
          "surface": [
           {
            "colorbar": {
             "outlinewidth": 0,
             "ticks": ""
            },
            "colorscale": [
             [
              0,
              "#0d0887"
             ],
             [
              0.1111111111111111,
              "#46039f"
             ],
             [
              0.2222222222222222,
              "#7201a8"
             ],
             [
              0.3333333333333333,
              "#9c179e"
             ],
             [
              0.4444444444444444,
              "#bd3786"
             ],
             [
              0.5555555555555556,
              "#d8576b"
             ],
             [
              0.6666666666666666,
              "#ed7953"
             ],
             [
              0.7777777777777778,
              "#fb9f3a"
             ],
             [
              0.8888888888888888,
              "#fdca26"
             ],
             [
              1,
              "#f0f921"
             ]
            ],
            "type": "surface"
           }
          ],
          "table": [
           {
            "cells": {
             "fill": {
              "color": "#EBF0F8"
             },
             "line": {
              "color": "white"
             }
            },
            "header": {
             "fill": {
              "color": "#C8D4E3"
             },
             "line": {
              "color": "white"
             }
            },
            "type": "table"
           }
          ]
         },
         "layout": {
          "annotationdefaults": {
           "arrowcolor": "#2a3f5f",
           "arrowhead": 0,
           "arrowwidth": 1
          },
          "autotypenumbers": "strict",
          "coloraxis": {
           "colorbar": {
            "outlinewidth": 0,
            "ticks": ""
           }
          },
          "colorscale": {
           "diverging": [
            [
             0,
             "#8e0152"
            ],
            [
             0.1,
             "#c51b7d"
            ],
            [
             0.2,
             "#de77ae"
            ],
            [
             0.3,
             "#f1b6da"
            ],
            [
             0.4,
             "#fde0ef"
            ],
            [
             0.5,
             "#f7f7f7"
            ],
            [
             0.6,
             "#e6f5d0"
            ],
            [
             0.7,
             "#b8e186"
            ],
            [
             0.8,
             "#7fbc41"
            ],
            [
             0.9,
             "#4d9221"
            ],
            [
             1,
             "#276419"
            ]
           ],
           "sequential": [
            [
             0,
             "#0d0887"
            ],
            [
             0.1111111111111111,
             "#46039f"
            ],
            [
             0.2222222222222222,
             "#7201a8"
            ],
            [
             0.3333333333333333,
             "#9c179e"
            ],
            [
             0.4444444444444444,
             "#bd3786"
            ],
            [
             0.5555555555555556,
             "#d8576b"
            ],
            [
             0.6666666666666666,
             "#ed7953"
            ],
            [
             0.7777777777777778,
             "#fb9f3a"
            ],
            [
             0.8888888888888888,
             "#fdca26"
            ],
            [
             1,
             "#f0f921"
            ]
           ],
           "sequentialminus": [
            [
             0,
             "#0d0887"
            ],
            [
             0.1111111111111111,
             "#46039f"
            ],
            [
             0.2222222222222222,
             "#7201a8"
            ],
            [
             0.3333333333333333,
             "#9c179e"
            ],
            [
             0.4444444444444444,
             "#bd3786"
            ],
            [
             0.5555555555555556,
             "#d8576b"
            ],
            [
             0.6666666666666666,
             "#ed7953"
            ],
            [
             0.7777777777777778,
             "#fb9f3a"
            ],
            [
             0.8888888888888888,
             "#fdca26"
            ],
            [
             1,
             "#f0f921"
            ]
           ]
          },
          "colorway": [
           "#636efa",
           "#EF553B",
           "#00cc96",
           "#ab63fa",
           "#FFA15A",
           "#19d3f3",
           "#FF6692",
           "#B6E880",
           "#FF97FF",
           "#FECB52"
          ],
          "font": {
           "color": "#2a3f5f"
          },
          "geo": {
           "bgcolor": "white",
           "lakecolor": "white",
           "landcolor": "#E5ECF6",
           "showlakes": true,
           "showland": true,
           "subunitcolor": "white"
          },
          "hoverlabel": {
           "align": "left"
          },
          "hovermode": "closest",
          "mapbox": {
           "style": "light"
          },
          "paper_bgcolor": "white",
          "plot_bgcolor": "#E5ECF6",
          "polar": {
           "angularaxis": {
            "gridcolor": "white",
            "linecolor": "white",
            "ticks": ""
           },
           "bgcolor": "#E5ECF6",
           "radialaxis": {
            "gridcolor": "white",
            "linecolor": "white",
            "ticks": ""
           }
          },
          "scene": {
           "xaxis": {
            "backgroundcolor": "#E5ECF6",
            "gridcolor": "white",
            "gridwidth": 2,
            "linecolor": "white",
            "showbackground": true,
            "ticks": "",
            "zerolinecolor": "white"
           },
           "yaxis": {
            "backgroundcolor": "#E5ECF6",
            "gridcolor": "white",
            "gridwidth": 2,
            "linecolor": "white",
            "showbackground": true,
            "ticks": "",
            "zerolinecolor": "white"
           },
           "zaxis": {
            "backgroundcolor": "#E5ECF6",
            "gridcolor": "white",
            "gridwidth": 2,
            "linecolor": "white",
            "showbackground": true,
            "ticks": "",
            "zerolinecolor": "white"
           }
          },
          "shapedefaults": {
           "line": {
            "color": "#2a3f5f"
           }
          },
          "ternary": {
           "aaxis": {
            "gridcolor": "white",
            "linecolor": "white",
            "ticks": ""
           },
           "baxis": {
            "gridcolor": "white",
            "linecolor": "white",
            "ticks": ""
           },
           "bgcolor": "#E5ECF6",
           "caxis": {
            "gridcolor": "white",
            "linecolor": "white",
            "ticks": ""
           }
          },
          "title": {
           "x": 0.05
          },
          "xaxis": {
           "automargin": true,
           "gridcolor": "white",
           "linecolor": "white",
           "ticks": "",
           "title": {
            "standoff": 15
           },
           "zerolinecolor": "white",
           "zerolinewidth": 2
          },
          "yaxis": {
           "automargin": true,
           "gridcolor": "white",
           "linecolor": "white",
           "ticks": "",
           "title": {
            "standoff": 15
           },
           "zerolinecolor": "white",
           "zerolinewidth": 2
          }
         }
        }
       }
      }
     },
     "metadata": {},
     "output_type": "display_data"
    }
   ],
   "source": [
    "import plotly.express as px\n",
    "fig=px.pie(classifi_us,values=\"Usage (minutes)\",names=\"App\", color_discrete_sequence=px.colors.sequential.RdBu)\n",
    "fig.show()"
   ]
  },
  {
   "cell_type": "markdown",
   "id": "160f3980",
   "metadata": {},
   "source": [
    "## Classification Based On Notification Counts"
   ]
  },
  {
   "cell_type": "code",
   "execution_count": 13,
   "id": "bc2c72d3",
   "metadata": {},
   "outputs": [
    {
     "data": {
      "text/html": [
       "<style type=\"text/css\">\n",
       "#T_4056b_row0_col1 {\n",
       "  background-color: #08306b;\n",
       "  color: #f1f1f1;\n",
       "}\n",
       "#T_4056b_row1_col1 {\n",
       "  background-color: #89bedc;\n",
       "  color: #000000;\n",
       "}\n",
       "#T_4056b_row2_col1 {\n",
       "  background-color: #a1cbe2;\n",
       "  color: #000000;\n",
       "}\n",
       "#T_4056b_row3_col1 {\n",
       "  background-color: #cddff1;\n",
       "  color: #000000;\n",
       "}\n",
       "#T_4056b_row4_col1 {\n",
       "  background-color: #dfebf7;\n",
       "  color: #000000;\n",
       "}\n",
       "#T_4056b_row5_col1 {\n",
       "  background-color: #e9f2fa;\n",
       "  color: #000000;\n",
       "}\n",
       "#T_4056b_row6_col1 {\n",
       "  background-color: #f0f6fd;\n",
       "  color: #000000;\n",
       "}\n",
       "#T_4056b_row7_col1 {\n",
       "  background-color: #f2f7fd;\n",
       "  color: #000000;\n",
       "}\n",
       "#T_4056b_row8_col1 {\n",
       "  background-color: #f2f8fd;\n",
       "  color: #000000;\n",
       "}\n",
       "#T_4056b_row9_col1 {\n",
       "  background-color: #f6faff;\n",
       "  color: #000000;\n",
       "}\n",
       "#T_4056b_row10_col1 {\n",
       "  background-color: #f7fbff;\n",
       "  color: #000000;\n",
       "}\n",
       "</style>\n",
       "<table id=\"T_4056b\">\n",
       "  <thead>\n",
       "    <tr>\n",
       "      <th class=\"blank level0\" >&nbsp;</th>\n",
       "      <th id=\"T_4056b_level0_col0\" class=\"col_heading level0 col0\" >App</th>\n",
       "      <th id=\"T_4056b_level0_col1\" class=\"col_heading level0 col1\" >Notifications</th>\n",
       "    </tr>\n",
       "  </thead>\n",
       "  <tbody>\n",
       "    <tr>\n",
       "      <th id=\"T_4056b_level0_row0\" class=\"row_heading level0 row0\" >8</th>\n",
       "      <td id=\"T_4056b_row0_col0\" class=\"data row0 col0\" >WhatsApp</td>\n",
       "      <td id=\"T_4056b_row0_col1\" class=\"data row0 col1\" >3009</td>\n",
       "    </tr>\n",
       "    <tr>\n",
       "      <th id=\"T_4056b_level0_row1\" class=\"row_heading level0 row1\" >2</th>\n",
       "      <td id=\"T_4056b_row1_col0\" class=\"data row1 col0\" >Instagram</td>\n",
       "      <td id=\"T_4056b_row1_col1\" class=\"data row1 col1\" >1292</td>\n",
       "    </tr>\n",
       "    <tr>\n",
       "      <th id=\"T_4056b_level0_row2\" class=\"row_heading level0 row2\" >0</th>\n",
       "      <td id=\"T_4056b_row2_col0\" class=\"data row2 col0\" >Facebook</td>\n",
       "      <td id=\"T_4056b_row2_col1\" class=\"data row2 col1\" >1114</td>\n",
       "    </tr>\n",
       "    <tr>\n",
       "      <th id=\"T_4056b_level0_row3\" class=\"row_heading level0 row3\" >9</th>\n",
       "      <td id=\"T_4056b_row3_col0\" class=\"data row3 col0\" >X</td>\n",
       "      <td id=\"T_4056b_row3_col1\" class=\"data row3 col1\" >665</td>\n",
       "    </tr>\n",
       "    <tr>\n",
       "      <th id=\"T_4056b_level0_row4\" class=\"row_heading level0 row4\" >7</th>\n",
       "      <td id=\"T_4056b_row4_col0\" class=\"data row4 col0\" >WhatsA</td>\n",
       "      <td id=\"T_4056b_row4_col1\" class=\"data row4 col1\" >388</td>\n",
       "    </tr>\n",
       "    <tr>\n",
       "      <th id=\"T_4056b_level0_row5\" class=\"row_heading level0 row5\" >3</th>\n",
       "      <td id=\"T_4056b_row5_col0\" class=\"data row5 col0\" >LinkedIn</td>\n",
       "      <td id=\"T_4056b_row5_col1\" class=\"data row5 col1\" >237</td>\n",
       "    </tr>\n",
       "    <tr>\n",
       "      <th id=\"T_4056b_level0_row6\" class=\"row_heading level0 row6\" >5</th>\n",
       "      <td id=\"T_4056b_row6_col0\" class=\"data row6 col0\" >Telegram</td>\n",
       "      <td id=\"T_4056b_row6_col1\" class=\"data row6 col1\" >131</td>\n",
       "    </tr>\n",
       "    <tr>\n",
       "      <th id=\"T_4056b_level0_row7\" class=\"row_heading level0 row7\" >1</th>\n",
       "      <td id=\"T_4056b_row7_col0\" class=\"data row7 col0\" >Insta</td>\n",
       "      <td id=\"T_4056b_row7_col1\" class=\"data row7 col1\" >102</td>\n",
       "    </tr>\n",
       "    <tr>\n",
       "      <th id=\"T_4056b_level0_row8\" class=\"row_heading level0 row8\" >6</th>\n",
       "      <td id=\"T_4056b_row8_col0\" class=\"data row8 col0\" >Twiter</td>\n",
       "      <td id=\"T_4056b_row8_col1\" class=\"data row8 col1\" >91</td>\n",
       "    </tr>\n",
       "    <tr>\n",
       "      <th id=\"T_4056b_level0_row9\" class=\"row_heading level0 row9\" >10</th>\n",
       "      <td id=\"T_4056b_row9_col0\" class=\"data row9 col0\" >YouTube</td>\n",
       "      <td id=\"T_4056b_row9_col1\" class=\"data row9 col1\" >30</td>\n",
       "    </tr>\n",
       "    <tr>\n",
       "      <th id=\"T_4056b_level0_row10\" class=\"row_heading level0 row10\" >4</th>\n",
       "      <td id=\"T_4056b_row10_col0\" class=\"data row10 col0\" >Netflix</td>\n",
       "      <td id=\"T_4056b_row10_col1\" class=\"data row10 col1\" >17</td>\n",
       "    </tr>\n",
       "  </tbody>\n",
       "</table>\n"
      ],
      "text/plain": [
       "<pandas.io.formats.style.Styler at 0x1ca376ac260>"
      ]
     },
     "execution_count": 13,
     "metadata": {},
     "output_type": "execute_result"
    }
   ],
   "source": [
    "classifi_noti=df.groupby(\"App\")[\"Notifications\"].sum().reset_index().sort_values(\"Notifications\",ascending=False)\n",
    "classifi_noti.style.background_gradient(cmap=\"Blues\")"
   ]
  },
  {
   "cell_type": "code",
   "execution_count": 14,
   "id": "cf8d928d",
   "metadata": {},
   "outputs": [
    {
     "data": {
      "application/vnd.plotly.v1+json": {
       "config": {
        "plotlyServerURL": "https://plot.ly"
       },
       "data": [
        {
         "hovertemplate": "App=%{x}<br>Notifications=%{y}<extra></extra>",
         "legendgroup": "",
         "marker": {
          "color": "rgb(127, 60, 141)",
          "pattern": {
           "shape": ""
          }
         },
         "name": "",
         "orientation": "v",
         "showlegend": false,
         "textposition": "auto",
         "texttemplate": "%{y:.2s}",
         "type": "bar",
         "x": [
          "WhatsApp",
          "Instagram",
          "Facebook",
          "X",
          "WhatsA",
          "LinkedIn",
          "Telegram",
          "Insta",
          "Twiter",
          "YouTube",
          "Netflix"
         ],
         "xaxis": "x",
         "y": {
          "bdata": "wQsMBVoEmQKEAe0AgwBmAFsAHgARAA==",
          "dtype": "i2"
         },
         "yaxis": "y"
        }
       ],
       "layout": {
        "barmode": "relative",
        "legend": {
         "tracegroupgap": 0
        },
        "margin": {
         "t": 60
        },
        "template": {
         "data": {
          "bar": [
           {
            "error_x": {
             "color": "#2a3f5f"
            },
            "error_y": {
             "color": "#2a3f5f"
            },
            "marker": {
             "line": {
              "color": "#E5ECF6",
              "width": 0.5
             },
             "pattern": {
              "fillmode": "overlay",
              "size": 10,
              "solidity": 0.2
             }
            },
            "type": "bar"
           }
          ],
          "barpolar": [
           {
            "marker": {
             "line": {
              "color": "#E5ECF6",
              "width": 0.5
             },
             "pattern": {
              "fillmode": "overlay",
              "size": 10,
              "solidity": 0.2
             }
            },
            "type": "barpolar"
           }
          ],
          "carpet": [
           {
            "aaxis": {
             "endlinecolor": "#2a3f5f",
             "gridcolor": "white",
             "linecolor": "white",
             "minorgridcolor": "white",
             "startlinecolor": "#2a3f5f"
            },
            "baxis": {
             "endlinecolor": "#2a3f5f",
             "gridcolor": "white",
             "linecolor": "white",
             "minorgridcolor": "white",
             "startlinecolor": "#2a3f5f"
            },
            "type": "carpet"
           }
          ],
          "choropleth": [
           {
            "colorbar": {
             "outlinewidth": 0,
             "ticks": ""
            },
            "type": "choropleth"
           }
          ],
          "contour": [
           {
            "colorbar": {
             "outlinewidth": 0,
             "ticks": ""
            },
            "colorscale": [
             [
              0,
              "#0d0887"
             ],
             [
              0.1111111111111111,
              "#46039f"
             ],
             [
              0.2222222222222222,
              "#7201a8"
             ],
             [
              0.3333333333333333,
              "#9c179e"
             ],
             [
              0.4444444444444444,
              "#bd3786"
             ],
             [
              0.5555555555555556,
              "#d8576b"
             ],
             [
              0.6666666666666666,
              "#ed7953"
             ],
             [
              0.7777777777777778,
              "#fb9f3a"
             ],
             [
              0.8888888888888888,
              "#fdca26"
             ],
             [
              1,
              "#f0f921"
             ]
            ],
            "type": "contour"
           }
          ],
          "contourcarpet": [
           {
            "colorbar": {
             "outlinewidth": 0,
             "ticks": ""
            },
            "type": "contourcarpet"
           }
          ],
          "heatmap": [
           {
            "colorbar": {
             "outlinewidth": 0,
             "ticks": ""
            },
            "colorscale": [
             [
              0,
              "#0d0887"
             ],
             [
              0.1111111111111111,
              "#46039f"
             ],
             [
              0.2222222222222222,
              "#7201a8"
             ],
             [
              0.3333333333333333,
              "#9c179e"
             ],
             [
              0.4444444444444444,
              "#bd3786"
             ],
             [
              0.5555555555555556,
              "#d8576b"
             ],
             [
              0.6666666666666666,
              "#ed7953"
             ],
             [
              0.7777777777777778,
              "#fb9f3a"
             ],
             [
              0.8888888888888888,
              "#fdca26"
             ],
             [
              1,
              "#f0f921"
             ]
            ],
            "type": "heatmap"
           }
          ],
          "histogram": [
           {
            "marker": {
             "pattern": {
              "fillmode": "overlay",
              "size": 10,
              "solidity": 0.2
             }
            },
            "type": "histogram"
           }
          ],
          "histogram2d": [
           {
            "colorbar": {
             "outlinewidth": 0,
             "ticks": ""
            },
            "colorscale": [
             [
              0,
              "#0d0887"
             ],
             [
              0.1111111111111111,
              "#46039f"
             ],
             [
              0.2222222222222222,
              "#7201a8"
             ],
             [
              0.3333333333333333,
              "#9c179e"
             ],
             [
              0.4444444444444444,
              "#bd3786"
             ],
             [
              0.5555555555555556,
              "#d8576b"
             ],
             [
              0.6666666666666666,
              "#ed7953"
             ],
             [
              0.7777777777777778,
              "#fb9f3a"
             ],
             [
              0.8888888888888888,
              "#fdca26"
             ],
             [
              1,
              "#f0f921"
             ]
            ],
            "type": "histogram2d"
           }
          ],
          "histogram2dcontour": [
           {
            "colorbar": {
             "outlinewidth": 0,
             "ticks": ""
            },
            "colorscale": [
             [
              0,
              "#0d0887"
             ],
             [
              0.1111111111111111,
              "#46039f"
             ],
             [
              0.2222222222222222,
              "#7201a8"
             ],
             [
              0.3333333333333333,
              "#9c179e"
             ],
             [
              0.4444444444444444,
              "#bd3786"
             ],
             [
              0.5555555555555556,
              "#d8576b"
             ],
             [
              0.6666666666666666,
              "#ed7953"
             ],
             [
              0.7777777777777778,
              "#fb9f3a"
             ],
             [
              0.8888888888888888,
              "#fdca26"
             ],
             [
              1,
              "#f0f921"
             ]
            ],
            "type": "histogram2dcontour"
           }
          ],
          "mesh3d": [
           {
            "colorbar": {
             "outlinewidth": 0,
             "ticks": ""
            },
            "type": "mesh3d"
           }
          ],
          "parcoords": [
           {
            "line": {
             "colorbar": {
              "outlinewidth": 0,
              "ticks": ""
             }
            },
            "type": "parcoords"
           }
          ],
          "pie": [
           {
            "automargin": true,
            "type": "pie"
           }
          ],
          "scatter": [
           {
            "fillpattern": {
             "fillmode": "overlay",
             "size": 10,
             "solidity": 0.2
            },
            "type": "scatter"
           }
          ],
          "scatter3d": [
           {
            "line": {
             "colorbar": {
              "outlinewidth": 0,
              "ticks": ""
             }
            },
            "marker": {
             "colorbar": {
              "outlinewidth": 0,
              "ticks": ""
             }
            },
            "type": "scatter3d"
           }
          ],
          "scattercarpet": [
           {
            "marker": {
             "colorbar": {
              "outlinewidth": 0,
              "ticks": ""
             }
            },
            "type": "scattercarpet"
           }
          ],
          "scattergeo": [
           {
            "marker": {
             "colorbar": {
              "outlinewidth": 0,
              "ticks": ""
             }
            },
            "type": "scattergeo"
           }
          ],
          "scattergl": [
           {
            "marker": {
             "colorbar": {
              "outlinewidth": 0,
              "ticks": ""
             }
            },
            "type": "scattergl"
           }
          ],
          "scattermap": [
           {
            "marker": {
             "colorbar": {
              "outlinewidth": 0,
              "ticks": ""
             }
            },
            "type": "scattermap"
           }
          ],
          "scattermapbox": [
           {
            "marker": {
             "colorbar": {
              "outlinewidth": 0,
              "ticks": ""
             }
            },
            "type": "scattermapbox"
           }
          ],
          "scatterpolar": [
           {
            "marker": {
             "colorbar": {
              "outlinewidth": 0,
              "ticks": ""
             }
            },
            "type": "scatterpolar"
           }
          ],
          "scatterpolargl": [
           {
            "marker": {
             "colorbar": {
              "outlinewidth": 0,
              "ticks": ""
             }
            },
            "type": "scatterpolargl"
           }
          ],
          "scatterternary": [
           {
            "marker": {
             "colorbar": {
              "outlinewidth": 0,
              "ticks": ""
             }
            },
            "type": "scatterternary"
           }
          ],
          "surface": [
           {
            "colorbar": {
             "outlinewidth": 0,
             "ticks": ""
            },
            "colorscale": [
             [
              0,
              "#0d0887"
             ],
             [
              0.1111111111111111,
              "#46039f"
             ],
             [
              0.2222222222222222,
              "#7201a8"
             ],
             [
              0.3333333333333333,
              "#9c179e"
             ],
             [
              0.4444444444444444,
              "#bd3786"
             ],
             [
              0.5555555555555556,
              "#d8576b"
             ],
             [
              0.6666666666666666,
              "#ed7953"
             ],
             [
              0.7777777777777778,
              "#fb9f3a"
             ],
             [
              0.8888888888888888,
              "#fdca26"
             ],
             [
              1,
              "#f0f921"
             ]
            ],
            "type": "surface"
           }
          ],
          "table": [
           {
            "cells": {
             "fill": {
              "color": "#EBF0F8"
             },
             "line": {
              "color": "white"
             }
            },
            "header": {
             "fill": {
              "color": "#C8D4E3"
             },
             "line": {
              "color": "white"
             }
            },
            "type": "table"
           }
          ]
         },
         "layout": {
          "annotationdefaults": {
           "arrowcolor": "#2a3f5f",
           "arrowhead": 0,
           "arrowwidth": 1
          },
          "autotypenumbers": "strict",
          "coloraxis": {
           "colorbar": {
            "outlinewidth": 0,
            "ticks": ""
           }
          },
          "colorscale": {
           "diverging": [
            [
             0,
             "#8e0152"
            ],
            [
             0.1,
             "#c51b7d"
            ],
            [
             0.2,
             "#de77ae"
            ],
            [
             0.3,
             "#f1b6da"
            ],
            [
             0.4,
             "#fde0ef"
            ],
            [
             0.5,
             "#f7f7f7"
            ],
            [
             0.6,
             "#e6f5d0"
            ],
            [
             0.7,
             "#b8e186"
            ],
            [
             0.8,
             "#7fbc41"
            ],
            [
             0.9,
             "#4d9221"
            ],
            [
             1,
             "#276419"
            ]
           ],
           "sequential": [
            [
             0,
             "#0d0887"
            ],
            [
             0.1111111111111111,
             "#46039f"
            ],
            [
             0.2222222222222222,
             "#7201a8"
            ],
            [
             0.3333333333333333,
             "#9c179e"
            ],
            [
             0.4444444444444444,
             "#bd3786"
            ],
            [
             0.5555555555555556,
             "#d8576b"
            ],
            [
             0.6666666666666666,
             "#ed7953"
            ],
            [
             0.7777777777777778,
             "#fb9f3a"
            ],
            [
             0.8888888888888888,
             "#fdca26"
            ],
            [
             1,
             "#f0f921"
            ]
           ],
           "sequentialminus": [
            [
             0,
             "#0d0887"
            ],
            [
             0.1111111111111111,
             "#46039f"
            ],
            [
             0.2222222222222222,
             "#7201a8"
            ],
            [
             0.3333333333333333,
             "#9c179e"
            ],
            [
             0.4444444444444444,
             "#bd3786"
            ],
            [
             0.5555555555555556,
             "#d8576b"
            ],
            [
             0.6666666666666666,
             "#ed7953"
            ],
            [
             0.7777777777777778,
             "#fb9f3a"
            ],
            [
             0.8888888888888888,
             "#fdca26"
            ],
            [
             1,
             "#f0f921"
            ]
           ]
          },
          "colorway": [
           "#636efa",
           "#EF553B",
           "#00cc96",
           "#ab63fa",
           "#FFA15A",
           "#19d3f3",
           "#FF6692",
           "#B6E880",
           "#FF97FF",
           "#FECB52"
          ],
          "font": {
           "color": "#2a3f5f"
          },
          "geo": {
           "bgcolor": "white",
           "lakecolor": "white",
           "landcolor": "#E5ECF6",
           "showlakes": true,
           "showland": true,
           "subunitcolor": "white"
          },
          "hoverlabel": {
           "align": "left"
          },
          "hovermode": "closest",
          "mapbox": {
           "style": "light"
          },
          "paper_bgcolor": "white",
          "plot_bgcolor": "#E5ECF6",
          "polar": {
           "angularaxis": {
            "gridcolor": "white",
            "linecolor": "white",
            "ticks": ""
           },
           "bgcolor": "#E5ECF6",
           "radialaxis": {
            "gridcolor": "white",
            "linecolor": "white",
            "ticks": ""
           }
          },
          "scene": {
           "xaxis": {
            "backgroundcolor": "#E5ECF6",
            "gridcolor": "white",
            "gridwidth": 2,
            "linecolor": "white",
            "showbackground": true,
            "ticks": "",
            "zerolinecolor": "white"
           },
           "yaxis": {
            "backgroundcolor": "#E5ECF6",
            "gridcolor": "white",
            "gridwidth": 2,
            "linecolor": "white",
            "showbackground": true,
            "ticks": "",
            "zerolinecolor": "white"
           },
           "zaxis": {
            "backgroundcolor": "#E5ECF6",
            "gridcolor": "white",
            "gridwidth": 2,
            "linecolor": "white",
            "showbackground": true,
            "ticks": "",
            "zerolinecolor": "white"
           }
          },
          "shapedefaults": {
           "line": {
            "color": "#2a3f5f"
           }
          },
          "ternary": {
           "aaxis": {
            "gridcolor": "white",
            "linecolor": "white",
            "ticks": ""
           },
           "baxis": {
            "gridcolor": "white",
            "linecolor": "white",
            "ticks": ""
           },
           "bgcolor": "#E5ECF6",
           "caxis": {
            "gridcolor": "white",
            "linecolor": "white",
            "ticks": ""
           }
          },
          "title": {
           "x": 0.05
          },
          "xaxis": {
           "automargin": true,
           "gridcolor": "white",
           "linecolor": "white",
           "ticks": "",
           "title": {
            "standoff": 15
           },
           "zerolinecolor": "white",
           "zerolinewidth": 2
          },
          "yaxis": {
           "automargin": true,
           "gridcolor": "white",
           "linecolor": "white",
           "ticks": "",
           "title": {
            "standoff": 15
           },
           "zerolinecolor": "white",
           "zerolinewidth": 2
          }
         }
        },
        "xaxis": {
         "anchor": "y",
         "domain": [
          0,
          1
         ],
         "title": {
          "text": "App"
         }
        },
        "yaxis": {
         "anchor": "x",
         "domain": [
          0,
          1
         ],
         "title": {
          "text": "Notifications"
         }
        }
       }
      }
     },
     "metadata": {},
     "output_type": "display_data"
    }
   ],
   "source": [
    "fig=px.bar(classifi_noti,x=\"App\",y=\"Notifications\",text_auto=\".2s\",color_discrete_sequence=px.colors.qualitative.Bold)\n",
    "fig.show()"
   ]
  },
  {
   "cell_type": "code",
   "execution_count": 15,
   "id": "ced653cb",
   "metadata": {},
   "outputs": [
    {
     "data": {
      "text/html": [
       "<style type=\"text/css\">\n",
       "#T_dc2fe_row0_col1 {\n",
       "  background-color: #7f2704;\n",
       "  color: #f1f1f1;\n",
       "}\n",
       "#T_dc2fe_row1_col1 {\n",
       "  background-color: #f9812e;\n",
       "  color: #f1f1f1;\n",
       "}\n",
       "#T_dc2fe_row2_col1 {\n",
       "  background-color: #fd984b;\n",
       "  color: #000000;\n",
       "}\n",
       "#T_dc2fe_row3_col1 {\n",
       "  background-color: #fee0c3;\n",
       "  color: #000000;\n",
       "}\n",
       "#T_dc2fe_row4_col1, #T_dc2fe_row5_col1 {\n",
       "  background-color: #fee8d2;\n",
       "  color: #000000;\n",
       "}\n",
       "#T_dc2fe_row6_col1 {\n",
       "  background-color: #feeddc;\n",
       "  color: #000000;\n",
       "}\n",
       "#T_dc2fe_row7_col1 {\n",
       "  background-color: #ffefe0;\n",
       "  color: #000000;\n",
       "}\n",
       "#T_dc2fe_row8_col1 {\n",
       "  background-color: #fff3e6;\n",
       "  color: #000000;\n",
       "}\n",
       "#T_dc2fe_row9_col1 {\n",
       "  background-color: #fff4e8;\n",
       "  color: #000000;\n",
       "}\n",
       "#T_dc2fe_row10_col1 {\n",
       "  background-color: #fff5eb;\n",
       "  color: #000000;\n",
       "}\n",
       "</style>\n",
       "<table id=\"T_dc2fe\">\n",
       "  <thead>\n",
       "    <tr>\n",
       "      <th class=\"blank level0\" >&nbsp;</th>\n",
       "      <th id=\"T_dc2fe_level0_col0\" class=\"col_heading level0 col0\" >App</th>\n",
       "      <th id=\"T_dc2fe_level0_col1\" class=\"col_heading level0 col1\" >Times Opened</th>\n",
       "    </tr>\n",
       "  </thead>\n",
       "  <tbody>\n",
       "    <tr>\n",
       "      <th id=\"T_dc2fe_level0_row0\" class=\"row_heading level0 row0\" >8</th>\n",
       "      <td id=\"T_dc2fe_row0_col0\" class=\"data row0 col0\" >WhatsApp</td>\n",
       "      <td id=\"T_dc2fe_row0_col1\" class=\"data row0 col1\" >1869</td>\n",
       "    </tr>\n",
       "    <tr>\n",
       "      <th id=\"T_dc2fe_level0_row1\" class=\"row_heading level0 row1\" >2</th>\n",
       "      <td id=\"T_dc2fe_row1_col0\" class=\"data row1 col0\" >Instagram</td>\n",
       "      <td id=\"T_dc2fe_row1_col1\" class=\"data row1 col1\" >1035</td>\n",
       "    </tr>\n",
       "    <tr>\n",
       "      <th id=\"T_dc2fe_level0_row2\" class=\"row_heading level0 row2\" >0</th>\n",
       "      <td id=\"T_dc2fe_row2_col0\" class=\"data row2 col0\" >Facebook</td>\n",
       "      <td id=\"T_dc2fe_row2_col1\" class=\"data row2 col1\" >886</td>\n",
       "    </tr>\n",
       "    <tr>\n",
       "      <th id=\"T_dc2fe_level0_row3\" class=\"row_heading level0 row3\" >9</th>\n",
       "      <td id=\"T_dc2fe_row3_col0\" class=\"data row3 col0\" >X</td>\n",
       "      <td id=\"T_dc2fe_row3_col1\" class=\"data row3 col1\" >344</td>\n",
       "    </tr>\n",
       "    <tr>\n",
       "      <th id=\"T_dc2fe_level0_row4\" class=\"row_heading level0 row4\" >7</th>\n",
       "      <td id=\"T_dc2fe_row4_col0\" class=\"data row4 col0\" >WhatsA</td>\n",
       "      <td id=\"T_dc2fe_row4_col1\" class=\"data row4 col1\" >258</td>\n",
       "    </tr>\n",
       "    <tr>\n",
       "      <th id=\"T_dc2fe_level0_row5\" class=\"row_heading level0 row5\" >5</th>\n",
       "      <td id=\"T_dc2fe_row5_col0\" class=\"data row5 col0\" >Telegram</td>\n",
       "      <td id=\"T_dc2fe_row5_col1\" class=\"data row5 col1\" >255</td>\n",
       "    </tr>\n",
       "    <tr>\n",
       "      <th id=\"T_dc2fe_level0_row6\" class=\"row_heading level0 row6\" >10</th>\n",
       "      <td id=\"T_dc2fe_row6_col0\" class=\"data row6 col0\" >YouTube</td>\n",
       "      <td id=\"T_dc2fe_row6_col1\" class=\"data row6 col1\" >177</td>\n",
       "    </tr>\n",
       "    <tr>\n",
       "      <th id=\"T_dc2fe_level0_row7\" class=\"row_heading level0 row7\" >3</th>\n",
       "      <td id=\"T_dc2fe_row7_col0\" class=\"data row7 col0\" >LinkedIn</td>\n",
       "      <td id=\"T_dc2fe_row7_col1\" class=\"data row7 col1\" >144</td>\n",
       "    </tr>\n",
       "    <tr>\n",
       "      <th id=\"T_dc2fe_level0_row8\" class=\"row_heading level0 row8\" >1</th>\n",
       "      <td id=\"T_dc2fe_row8_col0\" class=\"data row8 col0\" >Insta</td>\n",
       "      <td id=\"T_dc2fe_row8_col1\" class=\"data row8 col1\" >96</td>\n",
       "    </tr>\n",
       "    <tr>\n",
       "      <th id=\"T_dc2fe_level0_row9\" class=\"row_heading level0 row9\" >4</th>\n",
       "      <td id=\"T_dc2fe_row9_col0\" class=\"data row9 col0\" >Netflix</td>\n",
       "      <td id=\"T_dc2fe_row9_col1\" class=\"data row9 col1\" >81</td>\n",
       "    </tr>\n",
       "    <tr>\n",
       "      <th id=\"T_dc2fe_level0_row10\" class=\"row_heading level0 row10\" >6</th>\n",
       "      <td id=\"T_dc2fe_row10_col0\" class=\"data row10 col0\" >Twiter</td>\n",
       "      <td id=\"T_dc2fe_row10_col1\" class=\"data row10 col1\" >56</td>\n",
       "    </tr>\n",
       "  </tbody>\n",
       "</table>\n"
      ],
      "text/plain": [
       "<pandas.io.formats.style.Styler at 0x1ca3ba6c8c0>"
      ]
     },
     "execution_count": 15,
     "metadata": {},
     "output_type": "execute_result"
    }
   ],
   "source": [
    "classifi_op=df.groupby(\"App\")[\"Times Opened\"].sum().reset_index().sort_values(\"Times Opened\",ascending=False)\n",
    "classifi_op.style.background_gradient(cmap=\"Oranges\")"
   ]
  },
  {
   "cell_type": "code",
   "execution_count": 16,
   "id": "0eb1d8dd",
   "metadata": {},
   "outputs": [
    {
     "data": {
      "image/png": "[encoded data removed]",
      "text/plain": [
       "<Figure size 1000x600 with 1 Axes>"
      ]
     },
     "metadata": {},
     "output_type": "display_data"
    }
   ],
   "source": [
    "plt.figure(figsize=(10,6))\n",
    "sns.set_style(\"whitegrid\")\n",
    "sns.barplot(data=classifi_op,x=\"App\",y='Times Opened',hue=\"App\",palette=\"inferno\")\n",
    "plt.xticks(rotation=45)\n",
    "plt.xlabel(\"App\",fontsize=13,fontweight=\"bold\")\n",
    "plt.ylabel(\"Times Count\",fontsize=13,fontweight=\"bold\")\n",
    "plt.title(\"How Many Times Opended Every App\",fontsize=15,fontweight=\"bold\")\n",
    "plt.show()"
   ]
  },
  {
   "cell_type": "code",
   "execution_count": 17,
   "id": "4d206f7e",
   "metadata": {},
   "outputs": [
    {
     "data": {
      "text/html": [
       "<style type=\"text/css\">\n",
       "#T_38a60_row0_col2 {\n",
       "  background-color: #fb7555;\n",
       "  color: #f1f1f1;\n",
       "}\n",
       "#T_38a60_row1_col2, #T_38a60_row7_col2, #T_38a60_row15_col2 {\n",
       "  background-color: #fc8969;\n",
       "  color: #f1f1f1;\n",
       "}\n",
       "#T_38a60_row2_col2 {\n",
       "  background-color: #fdcebb;\n",
       "  color: #000000;\n",
       "}\n",
       "#T_38a60_row3_col2 {\n",
       "  background-color: #f96245;\n",
       "  color: #f1f1f1;\n",
       "}\n",
       "#T_38a60_row4_col2 {\n",
       "  background-color: #fedccd;\n",
       "  color: #000000;\n",
       "}\n",
       "#T_38a60_row5_col2 {\n",
       "  background-color: #fc8060;\n",
       "  color: #f1f1f1;\n",
       "}\n",
       "#T_38a60_row6_col2 {\n",
       "  background-color: #af1117;\n",
       "  color: #f1f1f1;\n",
       "}\n",
       "#T_38a60_row8_col2 {\n",
       "  background-color: #fb6d4d;\n",
       "  color: #f1f1f1;\n",
       "}\n",
       "#T_38a60_row9_col2 {\n",
       "  background-color: #fcc2aa;\n",
       "  color: #000000;\n",
       "}\n",
       "#T_38a60_row10_col2, #T_38a60_row11_col2 {\n",
       "  background-color: #fc997a;\n",
       "  color: #000000;\n",
       "}\n",
       "#T_38a60_row12_col2 {\n",
       "  background-color: #fc8565;\n",
       "  color: #f1f1f1;\n",
       "}\n",
       "#T_38a60_row13_col2 {\n",
       "  background-color: #ffece4;\n",
       "  color: #000000;\n",
       "}\n",
       "#T_38a60_row14_col2 {\n",
       "  background-color: #fee5d9;\n",
       "  color: #000000;\n",
       "}\n",
       "#T_38a60_row16_col2 {\n",
       "  background-color: #fff4ee;\n",
       "  color: #000000;\n",
       "}\n",
       "#T_38a60_row17_col2 {\n",
       "  background-color: #fcb499;\n",
       "  color: #000000;\n",
       "}\n",
       "#T_38a60_row18_col2 {\n",
       "  background-color: #fc8666;\n",
       "  color: #f1f1f1;\n",
       "}\n",
       "#T_38a60_row19_col2 {\n",
       "  background-color: #fee0d2;\n",
       "  color: #000000;\n",
       "}\n",
       "#T_38a60_row20_col2 {\n",
       "  background-color: #fff5f0;\n",
       "  color: #000000;\n",
       "}\n",
       "#T_38a60_row21_col2 {\n",
       "  background-color: #fb6e4e;\n",
       "  color: #f1f1f1;\n",
       "}\n",
       "#T_38a60_row22_col2 {\n",
       "  background-color: #fee5d8;\n",
       "  color: #000000;\n",
       "}\n",
       "#T_38a60_row23_col2 {\n",
       "  background-color: #fc9d7f;\n",
       "  color: #000000;\n",
       "}\n",
       "#T_38a60_row24_col2 {\n",
       "  background-color: #67000d;\n",
       "  color: #f1f1f1;\n",
       "}\n",
       "</style>\n",
       "<table id=\"T_38a60\">\n",
       "  <thead>\n",
       "    <tr>\n",
       "      <th class=\"blank level0\" >&nbsp;</th>\n",
       "      <th id=\"T_38a60_level0_col0\" class=\"col_heading level0 col0\" >Date</th>\n",
       "      <th id=\"T_38a60_level0_col1\" class=\"col_heading level0 col1\" >App</th>\n",
       "      <th id=\"T_38a60_level0_col2\" class=\"col_heading level0 col2\" >Usage (minutes)</th>\n",
       "    </tr>\n",
       "  </thead>\n",
       "  <tbody>\n",
       "    <tr>\n",
       "      <th id=\"T_38a60_level0_row0\" class=\"row_heading level0 row0\" >0</th>\n",
       "      <td id=\"T_38a60_row0_col0\" class=\"data row0 col0\" >2025-01-01 00:00:00</td>\n",
       "      <td id=\"T_38a60_row0_col1\" class=\"data row0 col1\" >Facebook</td>\n",
       "      <td id=\"T_38a60_row0_col2\" class=\"data row0 col2\" >134</td>\n",
       "    </tr>\n",
       "    <tr>\n",
       "      <th id=\"T_38a60_level0_row1\" class=\"row_heading level0 row1\" >1</th>\n",
       "      <td id=\"T_38a60_row1_col0\" class=\"data row1 col0\" >2025-01-01 00:00:00</td>\n",
       "      <td id=\"T_38a60_row1_col1\" class=\"data row1 col1\" >Insta</td>\n",
       "      <td id=\"T_38a60_row1_col2\" class=\"data row1 col2\" >120</td>\n",
       "    </tr>\n",
       "    <tr>\n",
       "      <th id=\"T_38a60_level0_row2\" class=\"row_heading level0 row2\" >2</th>\n",
       "      <td id=\"T_38a60_row2_col0\" class=\"data row2 col0\" >2025-01-01 00:00:00</td>\n",
       "      <td id=\"T_38a60_row2_col1\" class=\"data row2 col1\" >LinkedIn</td>\n",
       "      <td id=\"T_38a60_row2_col2\" class=\"data row2 col2\" >70</td>\n",
       "    </tr>\n",
       "    <tr>\n",
       "      <th id=\"T_38a60_level0_row3\" class=\"row_heading level0 row3\" >3</th>\n",
       "      <td id=\"T_38a60_row3_col0\" class=\"data row3 col0\" >2025-01-01 00:00:00</td>\n",
       "      <td id=\"T_38a60_row3_col1\" class=\"data row3 col1\" >Netflix</td>\n",
       "      <td id=\"T_38a60_row3_col2\" class=\"data row3 col2\" >147</td>\n",
       "    </tr>\n",
       "    <tr>\n",
       "      <th id=\"T_38a60_level0_row4\" class=\"row_heading level0 row4\" >4</th>\n",
       "      <td id=\"T_38a60_row4_col0\" class=\"data row4 col0\" >2025-01-01 00:00:00</td>\n",
       "      <td id=\"T_38a60_row4_col1\" class=\"data row4 col1\" >Telegram</td>\n",
       "      <td id=\"T_38a60_row4_col2\" class=\"data row4 col2\" >60</td>\n",
       "    </tr>\n",
       "    <tr>\n",
       "      <th id=\"T_38a60_level0_row5\" class=\"row_heading level0 row5\" >5</th>\n",
       "      <td id=\"T_38a60_row5_col0\" class=\"data row5 col0\" >2025-01-01 00:00:00</td>\n",
       "      <td id=\"T_38a60_row5_col1\" class=\"data row5 col1\" >WhatsA</td>\n",
       "      <td id=\"T_38a60_row5_col2\" class=\"data row5 col2\" >126</td>\n",
       "    </tr>\n",
       "    <tr>\n",
       "      <th id=\"T_38a60_level0_row6\" class=\"row_heading level0 row6\" >6</th>\n",
       "      <td id=\"T_38a60_row6_col0\" class=\"data row6 col0\" >2025-01-01 00:00:00</td>\n",
       "      <td id=\"T_38a60_row6_col1\" class=\"data row6 col1\" >X</td>\n",
       "      <td id=\"T_38a60_row6_col2\" class=\"data row6 col2\" >220</td>\n",
       "    </tr>\n",
       "    <tr>\n",
       "      <th id=\"T_38a60_level0_row7\" class=\"row_heading level0 row7\" >7</th>\n",
       "      <td id=\"T_38a60_row7_col0\" class=\"data row7 col0\" >2025-01-01 00:00:00</td>\n",
       "      <td id=\"T_38a60_row7_col1\" class=\"data row7 col1\" >YouTube</td>\n",
       "      <td id=\"T_38a60_row7_col2\" class=\"data row7 col2\" >120</td>\n",
       "    </tr>\n",
       "    <tr>\n",
       "      <th id=\"T_38a60_level0_row8\" class=\"row_heading level0 row8\" >8</th>\n",
       "      <td id=\"T_38a60_row8_col0\" class=\"data row8 col0\" >2025-01-02 00:00:00</td>\n",
       "      <td id=\"T_38a60_row8_col1\" class=\"data row8 col1\" >Facebook</td>\n",
       "      <td id=\"T_38a60_row8_col2\" class=\"data row8 col2\" >140</td>\n",
       "    </tr>\n",
       "    <tr>\n",
       "      <th id=\"T_38a60_level0_row9\" class=\"row_heading level0 row9\" >9</th>\n",
       "      <td id=\"T_38a60_row9_col0\" class=\"data row9 col0\" >2025-01-02 00:00:00</td>\n",
       "      <td id=\"T_38a60_row9_col1\" class=\"data row9 col1\" >Instagram</td>\n",
       "      <td id=\"T_38a60_row9_col2\" class=\"data row9 col2\" >80</td>\n",
       "    </tr>\n",
       "    <tr>\n",
       "      <th id=\"T_38a60_level0_row10\" class=\"row_heading level0 row10\" >10</th>\n",
       "      <td id=\"T_38a60_row10_col0\" class=\"data row10 col0\" >2025-01-02 00:00:00</td>\n",
       "      <td id=\"T_38a60_row10_col1\" class=\"data row10 col1\" >LinkedIn</td>\n",
       "      <td id=\"T_38a60_row10_col2\" class=\"data row10 col2\" >109</td>\n",
       "    </tr>\n",
       "    <tr>\n",
       "      <th id=\"T_38a60_level0_row11\" class=\"row_heading level0 row11\" >11</th>\n",
       "      <td id=\"T_38a60_row11_col0\" class=\"data row11 col0\" >2025-01-02 00:00:00</td>\n",
       "      <td id=\"T_38a60_row11_col1\" class=\"data row11 col1\" >Netflix</td>\n",
       "      <td id=\"T_38a60_row11_col2\" class=\"data row11 col2\" >109</td>\n",
       "    </tr>\n",
       "    <tr>\n",
       "      <th id=\"T_38a60_level0_row12\" class=\"row_heading level0 row12\" >12</th>\n",
       "      <td id=\"T_38a60_row12_col0\" class=\"data row12 col0\" >2025-01-02 00:00:00</td>\n",
       "      <td id=\"T_38a60_row12_col1\" class=\"data row12 col1\" >Telegram</td>\n",
       "      <td id=\"T_38a60_row12_col2\" class=\"data row12 col2\" >123</td>\n",
       "    </tr>\n",
       "    <tr>\n",
       "      <th id=\"T_38a60_level0_row13\" class=\"row_heading level0 row13\" >13</th>\n",
       "      <td id=\"T_38a60_row13_col0\" class=\"data row13 col0\" >2025-01-02 00:00:00</td>\n",
       "      <td id=\"T_38a60_row13_col1\" class=\"data row13 col1\" >Twiter</td>\n",
       "      <td id=\"T_38a60_row13_col2\" class=\"data row13 col2\" >40</td>\n",
       "    </tr>\n",
       "    <tr>\n",
       "      <th id=\"T_38a60_level0_row14\" class=\"row_heading level0 row14\" >14</th>\n",
       "      <td id=\"T_38a60_row14_col0\" class=\"data row14 col0\" >2025-01-02 00:00:00</td>\n",
       "      <td id=\"T_38a60_row14_col1\" class=\"data row14 col1\" >WhatsApp</td>\n",
       "      <td id=\"T_38a60_row14_col2\" class=\"data row14 col2\" >50</td>\n",
       "    </tr>\n",
       "    <tr>\n",
       "      <th id=\"T_38a60_level0_row15\" class=\"row_heading level0 row15\" >15</th>\n",
       "      <td id=\"T_38a60_row15_col0\" class=\"data row15 col0\" >2025-01-02 00:00:00</td>\n",
       "      <td id=\"T_38a60_row15_col1\" class=\"data row15 col1\" >YouTube</td>\n",
       "      <td id=\"T_38a60_row15_col2\" class=\"data row15 col2\" >120</td>\n",
       "    </tr>\n",
       "    <tr>\n",
       "      <th id=\"T_38a60_level0_row16\" class=\"row_heading level0 row16\" >16</th>\n",
       "      <td id=\"T_38a60_row16_col0\" class=\"data row16 col0\" >2025-01-03 00:00:00</td>\n",
       "      <td id=\"T_38a60_row16_col1\" class=\"data row16 col1\" >Facebook</td>\n",
       "      <td id=\"T_38a60_row16_col2\" class=\"data row16 col2\" >30</td>\n",
       "    </tr>\n",
       "    <tr>\n",
       "      <th id=\"T_38a60_level0_row17\" class=\"row_heading level0 row17\" >17</th>\n",
       "      <td id=\"T_38a60_row17_col0\" class=\"data row17 col0\" >2025-01-03 00:00:00</td>\n",
       "      <td id=\"T_38a60_row17_col1\" class=\"data row17 col1\" >Instagram</td>\n",
       "      <td id=\"T_38a60_row17_col2\" class=\"data row17 col2\" >90</td>\n",
       "    </tr>\n",
       "    <tr>\n",
       "      <th id=\"T_38a60_level0_row18\" class=\"row_heading level0 row18\" >18</th>\n",
       "      <td id=\"T_38a60_row18_col0\" class=\"data row18 col0\" >2025-01-03 00:00:00</td>\n",
       "      <td id=\"T_38a60_row18_col1\" class=\"data row18 col1\" >LinkedIn</td>\n",
       "      <td id=\"T_38a60_row18_col2\" class=\"data row18 col2\" >122</td>\n",
       "    </tr>\n",
       "    <tr>\n",
       "      <th id=\"T_38a60_level0_row19\" class=\"row_heading level0 row19\" >19</th>\n",
       "      <td id=\"T_38a60_row19_col0\" class=\"data row19 col0\" >2025-01-03 00:00:00</td>\n",
       "      <td id=\"T_38a60_row19_col1\" class=\"data row19 col1\" >Netflix</td>\n",
       "      <td id=\"T_38a60_row19_col2\" class=\"data row19 col2\" >57</td>\n",
       "    </tr>\n",
       "    <tr>\n",
       "      <th id=\"T_38a60_level0_row20\" class=\"row_heading level0 row20\" >20</th>\n",
       "      <td id=\"T_38a60_row20_col0\" class=\"data row20 col0\" >2025-01-03 00:00:00</td>\n",
       "      <td id=\"T_38a60_row20_col1\" class=\"data row20 col1\" >Telegram</td>\n",
       "      <td id=\"T_38a60_row20_col2\" class=\"data row20 col2\" >28</td>\n",
       "    </tr>\n",
       "    <tr>\n",
       "      <th id=\"T_38a60_level0_row21\" class=\"row_heading level0 row21\" >21</th>\n",
       "      <td id=\"T_38a60_row21_col0\" class=\"data row21 col0\" >2025-01-03 00:00:00</td>\n",
       "      <td id=\"T_38a60_row21_col1\" class=\"data row21 col1\" >Twiter</td>\n",
       "      <td id=\"T_38a60_row21_col2\" class=\"data row21 col2\" >139</td>\n",
       "    </tr>\n",
       "    <tr>\n",
       "      <th id=\"T_38a60_level0_row22\" class=\"row_heading level0 row22\" >22</th>\n",
       "      <td id=\"T_38a60_row22_col0\" class=\"data row22 col0\" >2025-01-03 00:00:00</td>\n",
       "      <td id=\"T_38a60_row22_col1\" class=\"data row22 col1\" >WhatsApp</td>\n",
       "      <td id=\"T_38a60_row22_col2\" class=\"data row22 col2\" >51</td>\n",
       "    </tr>\n",
       "    <tr>\n",
       "      <th id=\"T_38a60_level0_row23\" class=\"row_heading level0 row23\" >23</th>\n",
       "      <td id=\"T_38a60_row23_col0\" class=\"data row23 col0\" >2025-01-03 00:00:00</td>\n",
       "      <td id=\"T_38a60_row23_col1\" class=\"data row23 col1\" >YouTube</td>\n",
       "      <td id=\"T_38a60_row23_col2\" class=\"data row23 col2\" >106</td>\n",
       "    </tr>\n",
       "    <tr>\n",
       "      <th id=\"T_38a60_level0_row24\" class=\"row_heading level0 row24\" >24</th>\n",
       "      <td id=\"T_38a60_row24_col0\" class=\"data row24 col0\" >2025-01-04 00:00:00</td>\n",
       "      <td id=\"T_38a60_row24_col1\" class=\"data row24 col1\" >Facebook</td>\n",
       "      <td id=\"T_38a60_row24_col2\" class=\"data row24 col2\" >256</td>\n",
       "    </tr>\n",
       "  </tbody>\n",
       "</table>\n"
      ],
      "text/plain": [
       "<pandas.io.formats.style.Styler at 0x1ca3bdd4ad0>"
      ]
     },
     "execution_count": 17,
     "metadata": {},
     "output_type": "execute_result"
    }
   ],
   "source": [
    "classifi_date=df.groupby([\"Date\",\"App\"])[\"Usage (minutes)\"].sum().reset_index()\n",
    "classifi_date.head(25).style.background_gradient(cmap=\"Reds\")"
   ]
  },
  {
   "cell_type": "code",
   "execution_count": 18,
   "id": "304e66cf",
   "metadata": {},
   "outputs": [
    {
     "data": {
      "image/png": "[encoded data removed]",
      "text/plain": [
       "<Figure size 2000x600 with 1 Axes>"
      ]
     },
     "metadata": {},
     "output_type": "display_data"
    }
   ],
   "source": [
    "plt.figure(figsize=(20,6))\n",
    "sns.set_style(\"whitegrid\")\n",
    "sns.lineplot(data=classifi_date,x=\"Date\",y=\"Usage (minutes)\",hue=\"App\",marker=\"o\")\n",
    "plt.xlabel(\"Date\",fontsize=13,fontweight=\"bold\")\n",
    "plt.ylabel(\"Usage ( Minutes)\",fontsize=13,fontweight=\"bold\")\n",
    "plt.title(\"Classification On App Usage Based On Date\",fontsize=15,fontweight=\"bold\")\n",
    "plt.show()"
   ]
  },
  {
   "cell_type": "markdown",
   "id": "906e0354",
   "metadata": {},
   "source": [
    "## Correlation Visualization "
   ]
  },
  {
   "cell_type": "code",
   "execution_count": 19,
   "id": "72bad92b",
   "metadata": {},
   "outputs": [
    {
     "data": {
      "text/plain": [
       "Text(0.5, 1.0, 'Correlation Heatmap')"
      ]
     },
     "execution_count": 19,
     "metadata": {},
     "output_type": "execute_result"
    },
    {
     "data": {
      "image/png": "[encoded data removed]",
      "text/plain": [
       "<Figure size 1200x600 with 2 Axes>"
      ]
     },
     "metadata": {},
     "output_type": "display_data"
    }
   ],
   "source": [
    "cor=df.corr(numeric_only=True)\n",
    "plt.figure(figsize=(12,6))\n",
    "sns.heatmap(cor,annot=True,fmt=\".2f\",linewidths=0.5)\n",
    "plt.title(\"Correlation Heatmap\",fontsize=15,fontweight=\"bold\")"
   ]
  }
 ],
 "metadata": {
  "kernelspec": {
   "display_name": "Python 3",
   "language": "python",
   "name": "python3"
  },
  "language_info": {
   "codemirror_mode": {
    "name": "ipython",
    "version": 3
   },
   "file_extension": ".py",
   "mimetype": "text/x-python",
   "name": "python",
   "nbconvert_exporter": "python",
   "pygments_lexer": "ipython3",
   "version": "3.12.4"
  }
 },
 "nbformat": 4,
 "nbformat_minor": 5
}
